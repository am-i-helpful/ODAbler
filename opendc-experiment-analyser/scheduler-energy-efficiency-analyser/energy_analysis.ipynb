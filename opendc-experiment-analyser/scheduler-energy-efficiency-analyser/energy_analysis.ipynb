{
 "cells": [
  {
   "cell_type": "code",
   "execution_count": 56,
   "id": "initial_id",
   "metadata": {
    "collapsed": true,
    "ExecuteTime": {
     "end_time": "2023-09-18T22:04:00.812556653Z",
     "start_time": "2023-09-18T22:03:58.521744874Z"
    }
   },
   "outputs": [
    {
     "name": "stdout",
     "output_type": "stream",
     "text": [
      "Defaulting to user installation because normal site-packages is not writeable\r\n",
      "Requirement already satisfied: influxdb-client in /home/am-i-helpful/.local/lib/python3.11/site-packages (1.37.0)\r\n",
      "Requirement already satisfied: reactivex>=4.0.4 in /home/am-i-helpful/.local/lib/python3.11/site-packages (from influxdb-client) (4.0.4)\r\n",
      "Requirement already satisfied: certifi>=14.05.14 in /home/am-i-helpful/.local/lib/python3.11/site-packages (from influxdb-client) (2022.12.7)\r\n",
      "Requirement already satisfied: python-dateutil>=2.5.3 in /usr/lib/python3.11/site-packages (from influxdb-client) (2.8.2)\r\n",
      "Requirement already satisfied: setuptools>=21.0.0 in /home/am-i-helpful/.local/lib/python3.11/site-packages (from influxdb-client) (67.7.1)\r\n",
      "Requirement already satisfied: urllib3>=1.26.0 in /home/am-i-helpful/.local/lib/python3.11/site-packages (from influxdb-client) (1.26.15)\r\n",
      "Requirement already satisfied: six>=1.5 in /usr/lib/python3.11/site-packages (from python-dateutil>=2.5.3->influxdb-client) (1.16.0)\r\n",
      "Requirement already satisfied: typing-extensions<5.0.0,>=4.1.1 in /home/am-i-helpful/.local/lib/python3.11/site-packages (from reactivex>=4.0.4->influxdb-client) (4.7.1)\r\n",
      "\r\n",
      "\u001B[1m[\u001B[0m\u001B[34;49mnotice\u001B[0m\u001B[1;39;49m]\u001B[0m\u001B[39;49m A new release of pip is available: \u001B[0m\u001B[31;49m23.1.2\u001B[0m\u001B[39;49m -> \u001B[0m\u001B[32;49m23.2.1\u001B[0m\r\n",
      "\u001B[1m[\u001B[0m\u001B[34;49mnotice\u001B[0m\u001B[1;39;49m]\u001B[0m\u001B[39;49m To update, run: \u001B[0m\u001B[32;49mpython -m pip install --upgrade pip\u001B[0m\r\n"
     ]
    }
   ],
   "source": [
    "!pip install influxdb-client"
   ]
  },
  {
   "cell_type": "code",
   "execution_count": 92,
   "outputs": [],
   "source": [
    "import influxdb_client\n",
    "import pandas as pd\n",
    "import matplotlib.pyplot as plt\n",
    "import json\n",
    "from pathlib import Path"
   ],
   "metadata": {
    "collapsed": false,
    "ExecuteTime": {
     "end_time": "2023-09-18T23:09:27.759046988Z",
     "start_time": "2023-09-18T23:09:25.618154318Z"
    }
   },
   "id": "7061e3b22c4a6107"
  },
  {
   "cell_type": "code",
   "execution_count": 58,
   "outputs": [
    {
     "name": "stdout",
     "output_type": "stream",
     "text": [
      "{'bucket': 'Temporary', 'org': '@Large-Research', 'token': 'd5KtoS1-I2iMVHiRQsVnXKV7MW7QR70Z1mqRdvqs08v-jKxEv8Q_URRHr2tl4AUwwqWHDeZNUKEtSTLjiCf-vg==', 'url': 'http://localhost:8086', 'location': 'Amsterdam'}\n"
     ]
    }
   ],
   "source": [
    "config_file = \"/windows/os/Thesis-Project/ODAbler/key-configurations/influxdb-config.json\"\n",
    "p = Path(config_file)\n",
    "with p.open('r') as f:\n",
    "    content = json.load(f)\n",
    "    print(content)\n",
    "url = content['url']\n",
    "token = content['token']\n",
    "org = content['org']\n",
    "client = influxdb_client.InfluxDBClient(\n",
    "   url=url,\n",
    "   token=token,\n",
    "   org=org\n",
    ")\n",
    "query_api = client.query_api()"
   ],
   "metadata": {
    "collapsed": false,
    "ExecuteTime": {
     "end_time": "2023-09-18T22:04:06.543178031Z",
     "start_time": "2023-09-18T22:04:06.515178788Z"
    }
   },
   "id": "327e81c9028d2a68"
  },
  {
   "cell_type": "code",
   "execution_count": 77,
   "outputs": [
    {
     "name": "stdout",
     "output_type": "stream",
     "text": [
      "     timestamp  host_id  cpuUtilisation  guestsRunning  powerUsage   \n",
      "0       1000.0      0.0        0.500000           12.0  218.750000  \\\n",
      "1       1000.0      1.0        0.541667           13.0  223.838976   \n",
      "2       1000.0      2.0        0.416667           10.0  210.850694   \n",
      "3       1000.0      3.0        0.416667           10.0  210.850694   \n",
      "4       1000.0      4.0        0.291667            7.0  203.721788   \n",
      "..         ...      ...             ...            ...         ...   \n",
      "369    11000.0     29.0        0.041667            1.0  200.010851   \n",
      "370    11000.0     30.0        0.041667            1.0  200.010851   \n",
      "371    11000.0     31.0        0.041667            1.0  200.010851   \n",
      "372    11000.0     32.0        0.000000            0.0  200.000000   \n",
      "373    11000.0     33.0        0.041667            1.0  200.010851   \n",
      "\n",
      "       powerTotal  \n",
      "0    2.451133e+05  \n",
      "1    4.904217e+05  \n",
      "2    7.352067e+05  \n",
      "3    9.788205e+05  \n",
      "4    1.222501e+06  \n",
      "..            ...  \n",
      "369  8.491048e+07  \n",
      "370  8.511868e+07  \n",
      "371  8.532739e+07  \n",
      "372  8.553638e+07  \n",
      "373  8.574522e+07  \n",
      "\n",
      "[374 rows x 6 columns]\n"
     ]
    }
   ],
   "source": [
    "query_standard = 'from(bucket:\"Experiment\")\\\n",
    "|> range(start: 2023-09-18T22:20:00Z, stop: 2023-09-18T22:34:00Z)\\\n",
    "|> filter(fn: (r) => r._measurement == \"OpenDC_Energy_Experiment\" and r._field =~ /policy_id|guestsRunning|cpuUtilisation|timestamp|powerUsage|powerTotal|host_id/)\\\n",
    "|> pivot(rowKey:[\"_time\"], columnKey: [\"_field\"], valueColumn: \"_value\")\\\n",
    "|> filter(fn:(r) => r.policy_id == 1)'\n",
    "result_standard = query_api.query_data_frame(org=org, query=query_standard)\n",
    "\n",
    "#display(result_standard.head(10))\n",
    "pd.set_option('display.max_columns', None)\n",
    "df_standard = result_standard[['timestamp','host_id','cpuUtilisation','guestsRunning','powerUsage','powerTotal']]\n",
    "print(df_standard)"
   ],
   "metadata": {
    "collapsed": false,
    "ExecuteTime": {
     "end_time": "2023-09-18T22:46:05.082926273Z",
     "start_time": "2023-09-18T22:46:04.937321703Z"
    }
   },
   "id": "611c3963e3ffc6dc"
  },
  {
   "cell_type": "code",
   "execution_count": 78,
   "outputs": [
    {
     "name": "stdout",
     "output_type": "stream",
     "text": [
      "     timestamp  host_id  cpuUtilisation  guestsRunning  powerUsage   \n",
      "0       1000.0      0.0        0.500000           12.0  218.750000  \\\n",
      "1       1000.0      1.0        0.541667           13.0  223.838976   \n",
      "2       1000.0      2.0        0.416667           10.0  210.850694   \n",
      "3       1000.0      3.0        0.416667           10.0  210.850694   \n",
      "4       1000.0      4.0        0.291667            7.0  203.721788   \n",
      "..         ...      ...             ...            ...         ...   \n",
      "335    10000.0     29.0        0.041667            1.0  200.010851   \n",
      "336    10000.0     30.0        0.083333            2.0  200.086806   \n",
      "337    10000.0     31.0        0.041667            1.0  200.010851   \n",
      "338    10000.0     32.0        0.041667            1.0  200.010851   \n",
      "339    10000.0     33.0        0.041667            1.0  200.010851   \n",
      "\n",
      "       powerTotal  \n",
      "0    2.451133e+05  \n",
      "1    4.904217e+05  \n",
      "2    7.352067e+05  \n",
      "3    9.788205e+05  \n",
      "4    1.222501e+06  \n",
      "..            ...  \n",
      "335  7.793107e+07  \n",
      "336  7.813697e+07  \n",
      "337  7.834366e+07  \n",
      "338  7.854973e+07  \n",
      "339  7.875559e+07  \n",
      "\n",
      "[340 rows x 6 columns]\n"
     ]
    }
   ],
   "source": [
    "query_heft = 'from(bucket:\"Experiment\")\\\n",
    "|> range(start: 2023-09-18T22:20:00Z, stop: 2023-09-18T22:34:00Z)\\\n",
    "|> filter(fn: (r) => r._measurement == \"OpenDC_Energy_Experiment\" and r._field =~ /policy_id|guestsRunning|cpuUtilisation|timestamp|powerUsage|powerTotal|host_id/)\\\n",
    "|> pivot(rowKey:[\"_time\"], columnKey: [\"_field\"], valueColumn: \"_value\")\\\n",
    "|> filter(fn:(r) => r.policy_id == 2)'\n",
    "result_heft = query_api.query_data_frame(org=org, query=query_heft)\n",
    "\n",
    "df_heft = result_heft[['timestamp','host_id','cpuUtilisation','guestsRunning','powerUsage','powerTotal']]\n",
    "print(df_heft)"
   ],
   "metadata": {
    "collapsed": false,
    "ExecuteTime": {
     "end_time": "2023-09-18T22:47:02.990648223Z",
     "start_time": "2023-09-18T22:47:02.840372435Z"
    }
   },
   "id": "3b46a2557b60c693"
  },
  {
   "cell_type": "code",
   "execution_count": 79,
   "outputs": [
    {
     "name": "stdout",
     "output_type": "stream",
     "text": [
      "     timestamp  host_id  cpuUtilisation  guestsRunning  powerUsage   \n",
      "0       1000.0      0.0        0.083333            2.0  200.086806  \\\n",
      "1       1000.0      1.0        0.083333            2.0  200.086806   \n",
      "2       1000.0      2.0        0.083333            2.0  200.086806   \n",
      "3       1000.0      3.0        0.083333            2.0  200.086806   \n",
      "4       1000.0      4.0        0.083333            2.0  200.086806   \n",
      "..         ...      ...             ...            ...         ...   \n",
      "505    15000.0     29.0        0.958333           23.0  332.020399   \n",
      "506    15000.0     30.0        1.000000           24.0  350.000000   \n",
      "507    15000.0     31.0        0.958333           23.0  332.020399   \n",
      "508    15000.0     32.0        0.958333           23.0  332.020399   \n",
      "509    15000.0     33.0        1.000000           24.0  350.000000   \n",
      "\n",
      "       powerTotal  \n",
      "0    2.094128e+05  \n",
      "1    4.195784e+05  \n",
      "2    6.297628e+05  \n",
      "3    8.426643e+05  \n",
      "4    1.052307e+06  \n",
      "..            ...  \n",
      "505  1.100548e+08  \n",
      "506  1.102649e+08  \n",
      "507  1.104752e+08  \n",
      "508  1.106844e+08  \n",
      "509  1.108955e+08  \n",
      "\n",
      "[510 rows x 6 columns]\n"
     ]
    }
   ],
   "source": [
    "query_random = 'from(bucket:\"Experiment\")\\\n",
    "|> range(start: 2023-09-18T22:20:00Z, stop: 2023-09-18T22:34:00Z)\\\n",
    "|> filter(fn: (r) => r._measurement == \"OpenDC_Energy_Experiment\" and r._field =~ /policy_id|guestsRunning|cpuUtilisation|timestamp|powerUsage|powerTotal|host_id/)\\\n",
    "|> pivot(rowKey:[\"_time\"], columnKey: [\"_field\"], valueColumn: \"_value\")\\\n",
    "|> filter(fn:(r) => r.policy_id == 3)'\n",
    "result_random = query_api.query_data_frame(org=org, query=query_random)\n",
    "\n",
    "df_random = result_random[['timestamp','host_id','cpuUtilisation','guestsRunning','powerUsage','powerTotal']]\n",
    "print(df_random)"
   ],
   "metadata": {
    "collapsed": false,
    "ExecuteTime": {
     "end_time": "2023-09-18T22:48:03.309719511Z",
     "start_time": "2023-09-18T22:48:03.125693973Z"
    }
   },
   "id": "89e5af9130005a08"
  },
  {
   "cell_type": "code",
   "execution_count": 80,
   "outputs": [
    {
     "name": "stdout",
     "output_type": "stream",
     "text": [
      "     timestamp  host_id  cpuUtilisation  guestsRunning  powerUsage   \n",
      "0       1000.0      0.0        0.500000           12.0  218.750000  \\\n",
      "1       1000.0      1.0        0.541667           13.0  223.838976   \n",
      "2       1000.0      2.0        0.416667           10.0  210.850694   \n",
      "3       1000.0      3.0        0.416667           10.0  210.850694   \n",
      "4       1000.0      4.0        0.291667            7.0  203.721788   \n",
      "..         ...      ...             ...            ...         ...   \n",
      "335    10000.0     29.0        0.041667            1.0  200.010851   \n",
      "336    10000.0     30.0        0.083333            2.0  200.086806   \n",
      "337    10000.0     31.0        0.041667            1.0  200.010851   \n",
      "338    10000.0     32.0        0.041667            1.0  200.010851   \n",
      "339    10000.0     33.0        0.041667            1.0  200.010851   \n",
      "\n",
      "       powerTotal  \n",
      "0    2.451133e+05  \n",
      "1    4.904217e+05  \n",
      "2    7.352067e+05  \n",
      "3    9.788205e+05  \n",
      "4    1.222501e+06  \n",
      "..            ...  \n",
      "335  7.793107e+07  \n",
      "336  7.813697e+07  \n",
      "337  7.834366e+07  \n",
      "338  7.854973e+07  \n",
      "339  7.875559e+07  \n",
      "\n",
      "[340 rows x 6 columns]\n"
     ]
    }
   ],
   "source": [
    "query_minmin = 'from(bucket:\"Experiment\")\\\n",
    "|> range(start: 2023-09-18T22:20:00Z, stop: 2023-09-18T22:34:00Z)\\\n",
    "|> filter(fn: (r) => r._measurement == \"OpenDC_Energy_Experiment\" and r._field =~ /policy_id|guestsRunning|cpuUtilisation|timestamp|powerUsage|powerTotal|host_id/)\\\n",
    "|> pivot(rowKey:[\"_time\"], columnKey: [\"_field\"], valueColumn: \"_value\")\\\n",
    "|> filter(fn:(r) => r.policy_id == 4)'\n",
    "result_minmin = query_api.query_data_frame(org=org, query=query_minmin)\n",
    "\n",
    "df_minmin = result_minmin[['timestamp','host_id','cpuUtilisation','guestsRunning','powerUsage','powerTotal']]\n",
    "print(df_minmin)"
   ],
   "metadata": {
    "collapsed": false,
    "ExecuteTime": {
     "end_time": "2023-09-18T22:49:04.737604610Z",
     "start_time": "2023-09-18T22:49:04.591551847Z"
    }
   },
   "id": "aff1024d1a8e3d54"
  },
  {
   "cell_type": "code",
   "execution_count": 87,
   "outputs": [
    {
     "name": "stdout",
     "output_type": "stream",
     "text": [
      "     timestamp  host_id    powerTotal\n",
      "33      1000.0       33  8.309371e+06\n",
      "67      2000.0       33  1.610046e+07\n",
      "101     3000.0       33  2.417643e+07\n",
      "135     4000.0       33  3.172351e+07\n",
      "169     5000.0       33  4.018811e+07\n",
      "203     6000.0       33  4.791615e+07\n",
      "237     7000.0       33  5.581547e+07\n",
      "271     8000.0       33  6.394212e+07\n",
      "305     9000.0       33  7.184868e+07\n",
      "339    10000.0       33  7.865005e+07\n",
      "373    11000.0       33  8.574522e+07\n"
     ]
    },
    {
     "name": "stderr",
     "output_type": "stream",
     "text": [
      "/tmp/ipykernel_6981/2689543323.py:2: SettingWithCopyWarning: \n",
      "A value is trying to be set on a copy of a slice from a DataFrame.\n",
      "Try using .loc[row_indexer,col_indexer] = value instead\n",
      "\n",
      "See the caveats in the documentation: https://pandas.pydata.org/pandas-docs/stable/user_guide/indexing.html#returning-a-view-versus-a-copy\n",
      "  df_total_power_standard['host_id'] = df_total_power_standard['host_id']. astype(int)\n"
     ]
    }
   ],
   "source": [
    "df_total_power_standard = df_standard[['timestamp','host_id','powerTotal']]\n",
    "df_total_power_standard['host_id'] = df_total_power_standard['host_id']. astype(int)\n",
    "df_total_power_standard = df_total_power_standard.loc[df_total_power_standard['host_id'] == 33]\n",
    "print(df_total_power_standard)"
   ],
   "metadata": {
    "collapsed": false,
    "ExecuteTime": {
     "end_time": "2023-09-18T22:58:08.330217829Z",
     "start_time": "2023-09-18T22:58:08.288835658Z"
    }
   },
   "id": "48c4d8df7df1c9d6"
  },
  {
   "cell_type": "code",
   "execution_count": 88,
   "outputs": [
    {
     "name": "stdout",
     "output_type": "stream",
     "text": [
      "     timestamp  host_id    powerTotal\n",
      "33      1000.0       33  8.309371e+06\n",
      "67      2000.0       33  1.610046e+07\n",
      "101     3000.0       33  2.417643e+07\n",
      "135     4000.0       33  3.172351e+07\n",
      "169     5000.0       33  4.018811e+07\n",
      "203     6000.0       33  4.791615e+07\n",
      "237     7000.0       33  5.581262e+07\n",
      "271     8000.0       33  6.367144e+07\n",
      "305     9000.0       33  7.175391e+07\n",
      "339    10000.0       33  7.875559e+07\n"
     ]
    },
    {
     "name": "stderr",
     "output_type": "stream",
     "text": [
      "/tmp/ipykernel_6981/149652282.py:2: SettingWithCopyWarning: \n",
      "A value is trying to be set on a copy of a slice from a DataFrame.\n",
      "Try using .loc[row_indexer,col_indexer] = value instead\n",
      "\n",
      "See the caveats in the documentation: https://pandas.pydata.org/pandas-docs/stable/user_guide/indexing.html#returning-a-view-versus-a-copy\n",
      "  df_total_power_heft['host_id'] = df_total_power_heft['host_id']. astype(int)\n"
     ]
    }
   ],
   "source": [
    "df_total_power_heft = df_heft[['timestamp','host_id','powerTotal']]\n",
    "df_total_power_heft['host_id'] = df_total_power_heft['host_id']. astype(int)\n",
    "df_total_power_heft = df_total_power_heft.loc[df_total_power_heft['host_id'] == 33]\n",
    "print(df_total_power_heft)"
   ],
   "metadata": {
    "collapsed": false,
    "ExecuteTime": {
     "end_time": "2023-09-18T22:59:42.335764654Z",
     "start_time": "2023-09-18T22:59:42.255890596Z"
    }
   },
   "id": "9d5184d679b6660f"
  },
  {
   "cell_type": "code",
   "execution_count": 89,
   "outputs": [
    {
     "name": "stdout",
     "output_type": "stream",
     "text": [
      "     timestamp  host_id    powerTotal\n",
      "33      1000.0       33  7.149678e+06\n",
      "67      2000.0       33  1.428731e+07\n",
      "101     3000.0       33  2.142049e+07\n",
      "135     4000.0       33  2.823651e+07\n",
      "169     5000.0       33  3.593509e+07\n",
      "203     6000.0       33  4.346044e+07\n",
      "237     7000.0       33  5.088945e+07\n",
      "271     8000.0       33  5.859287e+07\n",
      "305     9000.0       33  6.603466e+07\n",
      "339    10000.0       33  7.379242e+07\n",
      "373    11000.0       33  8.145278e+07\n",
      "407    12000.0       33  8.911018e+07\n",
      "441    13000.0       33  9.672417e+07\n",
      "475    14000.0       33  1.037710e+08\n",
      "509    15000.0       33  1.108955e+08\n"
     ]
    },
    {
     "name": "stderr",
     "output_type": "stream",
     "text": [
      "/tmp/ipykernel_6981/1306925247.py:2: SettingWithCopyWarning: \n",
      "A value is trying to be set on a copy of a slice from a DataFrame.\n",
      "Try using .loc[row_indexer,col_indexer] = value instead\n",
      "\n",
      "See the caveats in the documentation: https://pandas.pydata.org/pandas-docs/stable/user_guide/indexing.html#returning-a-view-versus-a-copy\n",
      "  df_total_power_random['host_id'] = df_total_power_random['host_id']. astype(int)\n"
     ]
    }
   ],
   "source": [
    "df_total_power_random = df_random[['timestamp','host_id','powerTotal']]\n",
    "df_total_power_random['host_id'] = df_total_power_random['host_id']. astype(int)\n",
    "df_total_power_random = df_total_power_random.loc[df_total_power_random['host_id'] == 33]\n",
    "print(df_total_power_random)"
   ],
   "metadata": {
    "collapsed": false,
    "ExecuteTime": {
     "end_time": "2023-09-18T23:00:20.478521322Z",
     "start_time": "2023-09-18T23:00:20.364925122Z"
    }
   },
   "id": "5eb714008442e4ae"
  },
  {
   "cell_type": "code",
   "execution_count": 90,
   "outputs": [
    {
     "name": "stdout",
     "output_type": "stream",
     "text": [
      "     timestamp  host_id    powerTotal\n",
      "33      1000.0       33  8.309371e+06\n",
      "67      2000.0       33  1.610046e+07\n",
      "101     3000.0       33  2.417643e+07\n",
      "135     4000.0       33  3.172351e+07\n",
      "169     5000.0       33  4.018811e+07\n",
      "203     6000.0       33  4.791615e+07\n",
      "237     7000.0       33  5.581262e+07\n",
      "271     8000.0       33  6.367144e+07\n",
      "305     9000.0       33  7.175391e+07\n",
      "339    10000.0       33  7.875559e+07\n"
     ]
    },
    {
     "name": "stderr",
     "output_type": "stream",
     "text": [
      "/tmp/ipykernel_6981/3229142137.py:2: SettingWithCopyWarning: \n",
      "A value is trying to be set on a copy of a slice from a DataFrame.\n",
      "Try using .loc[row_indexer,col_indexer] = value instead\n",
      "\n",
      "See the caveats in the documentation: https://pandas.pydata.org/pandas-docs/stable/user_guide/indexing.html#returning-a-view-versus-a-copy\n",
      "  df_total_power_minmin['host_id'] = df_total_power_minmin['host_id']. astype(int)\n"
     ]
    }
   ],
   "source": [
    "df_total_power_minmin = df_minmin[['timestamp','host_id','powerTotal']]\n",
    "df_total_power_minmin['host_id'] = df_total_power_minmin['host_id']. astype(int)\n",
    "df_total_power_minmin = df_total_power_minmin.loc[df_total_power_minmin['host_id'] == 33]\n",
    "print(df_total_power_minmin)"
   ],
   "metadata": {
    "collapsed": false,
    "ExecuteTime": {
     "end_time": "2023-09-18T23:01:05.775182634Z",
     "start_time": "2023-09-18T23:01:05.678476480Z"
    }
   },
   "id": "95416f964813cace"
  },
  {
   "cell_type": "code",
   "execution_count": 105,
   "outputs": [],
   "source": [],
   "metadata": {
    "collapsed": false,
    "ExecuteTime": {
     "end_time": "2023-09-18T23:43:20.142811923Z",
     "start_time": "2023-09-18T23:43:20.101218991Z"
    }
   },
   "id": "44995fba4294a99a"
  },
  {
   "cell_type": "code",
   "execution_count": 119,
   "outputs": [
    {
     "name": "stdout",
     "output_type": "stream",
     "text": [
      "    timestamp    powerTotal  powerTotal_y  powerTotal_z  powerTotal_w\n",
      "0      1000.0  8.309371e+06  8.309371e+06  7.149678e+06  8.309371e+06\n",
      "1      2000.0  1.610046e+07  1.610046e+07  1.428731e+07  1.610046e+07\n",
      "2      3000.0  2.417643e+07  2.417643e+07  2.142049e+07  2.417643e+07\n",
      "3      4000.0  3.172351e+07  3.172351e+07  2.823651e+07  3.172351e+07\n",
      "4      5000.0  4.018811e+07  4.018811e+07  3.593509e+07  4.018811e+07\n",
      "5      6000.0  4.791615e+07  4.791615e+07  4.346044e+07  4.791615e+07\n",
      "6      7000.0  5.581547e+07  5.581262e+07  5.088945e+07  5.581262e+07\n",
      "7      8000.0  6.394212e+07  6.367144e+07  5.859287e+07  6.367144e+07\n",
      "8      9000.0  7.184868e+07  7.175391e+07  6.603466e+07  7.175391e+07\n",
      "9     10000.0  7.865005e+07  7.875559e+07  7.379242e+07  7.875559e+07\n",
      "10    11000.0  8.574522e+07  0.000000e+00  8.145278e+07  0.000000e+00\n",
      "11    12000.0  0.000000e+00  0.000000e+00  8.911018e+07  0.000000e+00\n",
      "12    13000.0  0.000000e+00  0.000000e+00  9.672417e+07  0.000000e+00\n",
      "13    14000.0  0.000000e+00  0.000000e+00  1.037710e+08  0.000000e+00\n",
      "14    15000.0  0.000000e+00  0.000000e+00  1.108955e+08  0.000000e+00\n"
     ]
    },
    {
     "data": {
      "text/plain": "Text(0.5, 0, 'Timestamp (in seconds)')"
     },
     "execution_count": 119,
     "metadata": {},
     "output_type": "execute_result"
    },
    {
     "data": {
      "text/plain": "<Figure size 640x480 with 1 Axes>",
      "image/png": "[encoded data removed]"
     },
     "metadata": {},
     "output_type": "display_data"
    }
   ],
   "source": [
    "df1 = df_total_power_standard.drop(['host_id'], axis=1)\n",
    "df2 = df_total_power_heft.drop(['host_id'], axis=1)\n",
    "df3 = df_total_power_random.drop(['host_id'], axis=1)\n",
    "df4 = df_total_power_minmin.drop(['host_id'], axis=1)\n",
    "# print(df1)\n",
    "# Create a list of all the dataframes\n",
    "dfs = [df1, df2, df3, df4]\n",
    "\n",
    "# Create a new dataframe with all the timestamps from all the dataframes\n",
    "df_timestamps = pd.DataFrame({'timestamp': sorted(set(sum([df['timestamp'].tolist() for df in dfs], [])))})\n",
    "\n",
    "# Merge the new dataframe with all the dataframes, filling in missing values with 0\n",
    "df_merged = df_timestamps.merge(df1, how='left', on='timestamp', suffixes=('', '_x')).merge(df2, how='left', on='timestamp', suffixes=('', '_y')).merge(df3, how='left', on='timestamp', suffixes=('', '_z')).merge(df4, how='left', on='timestamp', suffixes=('', '_w')).fillna(0)\n",
    "\n",
    "print(df_merged)\n",
    "df_merged[\"powerTotal\"] = df_merged[\"powerTotal\"]/1000000\n",
    "df_merged[\"powerTotal_y\"] = df_merged[\"powerTotal_y\"]/1000000\n",
    "df_merged[\"powerTotal_z\"] = df_merged[\"powerTotal_z\"]/1000000\n",
    "df_merged[\"powerTotal_w\"] = df_merged[\"powerTotal_w\"]/1000000\n",
    "df_merged.rename(columns={'powerTotal': 'Standard-Algorithm', 'powerTotal_y': 'HEFT-Algorithm', 'powerTotal_z': 'Random-Algorithm', 'powerTotal_w': 'MinMin-Algorithm'}, inplace=True)\n",
    "df_merged['timestamp'] = df_merged['timestamp'].astype(int)\n",
    "# Create a bar plot of the merged dataframe, grouped by timestamp\n",
    "# df_merged.groupby('timestamp').plot(x='timestamp', y=['powerTotal', 'powerTotal_y', 'powerTotal_z', 'powerTotal_w'], kind='bar', bar_label=True)\n",
    "# plt.figure(figsize=(10, 6))\n",
    "# # df_merged.plot(x='timestamp', y=['powerTotal', 'powerTotal_y', 'powerTotal_z', 'powerTotal_w'], kind='bar', stacked=True)\n",
    "# plt.xlabel('Timestamp')\n",
    "# plt.ylabel('Value')\n",
    "# plt.title('Bar plot of 4 dataframes with different row counts')\n",
    "# plt.xticks(rotation=45)\n",
    "# plt.legend(title='Dataframes')\n",
    "# plt.tight_layout()\n",
    "# plt.show()\n",
    "fig, ax = plt.subplots()\n",
    "df_merged.plot.bar(x='timestamp', ax=ax, title='Power consumption with various scheduling algorithms\\n for a given workload trace')\n",
    "plt.gca().xaxis.set_tick_params(rotation=45)\n",
    "plt.ylabel('Total power consumption (in MegaWatts)')\n",
    "plt.xlabel('Timestamp (in seconds)')"
   ],
   "metadata": {
    "collapsed": false,
    "ExecuteTime": {
     "end_time": "2023-09-19T00:22:56.522482775Z",
     "start_time": "2023-09-19T00:22:56.133104538Z"
    }
   },
   "id": "918114e71ff815b6"
  },
  {
   "cell_type": "code",
   "execution_count": 116,
   "outputs": [],
   "source": [],
   "metadata": {
    "collapsed": false,
    "ExecuteTime": {
     "end_time": "2023-09-19T00:16:59.211486005Z",
     "start_time": "2023-09-19T00:16:59.163129958Z"
    }
   },
   "id": "dd9256b6af1362d1"
  },
  {
   "cell_type": "code",
   "execution_count": null,
   "outputs": [],
   "source": [],
   "metadata": {
    "collapsed": false
   },
   "id": "cf05cddd56d570cd"
  }
 ],
 "metadata": {
  "kernelspec": {
   "display_name": "Python 3",
   "language": "python",
   "name": "python3"
  },
  "language_info": {
   "codemirror_mode": {
    "name": "ipython",
    "version": 2
   },
   "file_extension": ".py",
   "mimetype": "text/x-python",
   "name": "python",
   "nbconvert_exporter": "python",
   "pygments_lexer": "ipython2",
   "version": "2.7.6"
  }
 },
 "nbformat": 4,
 "nbformat_minor": 5
}
