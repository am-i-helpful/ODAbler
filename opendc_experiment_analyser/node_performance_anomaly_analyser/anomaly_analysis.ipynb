{
 "cells": [
  {
   "cell_type": "code",
   "execution_count": null,
   "id": "initial_id",
   "metadata": {
    "collapsed": true
   },
   "outputs": [],
   "source": [
    "# !pip install influxdb-client"
   ]
  },
  {
   "cell_type": "code",
   "execution_count": null,
   "outputs": [],
   "source": [
    "import influxdb_client\n",
    "import pandas as pd\n",
    "import matplotlib.pyplot as plt\n",
    "import json\n",
    "from pathlib import Path\n",
    "import numpy as np"
   ],
   "metadata": {
    "collapsed": false
   },
   "id": "ddf5af8bf06d46b0"
  },
  {
   "cell_type": "code",
   "execution_count": null,
   "outputs": [],
   "source": [
    "config_file = \"/windows/os/Thesis-Project/ODAbler/key-configurations/influxdb-config.json\"\n",
    "p = Path(config_file)\n",
    "with p.open('r') as f:\n",
    "    content = json.load(f)\n",
    "    print(content)\n",
    "url = content['url']\n",
    "token = content['token']\n",
    "org = content['org']\n",
    "client = influxdb_client.InfluxDBClient(\n",
    "   url=url,\n",
    "   token=token,\n",
    "   org=org\n",
    ")\n",
    "query_api = client.query_api()"
   ],
   "metadata": {
    "collapsed": false
   },
   "id": "dcb9e5f2d3a4cd5"
  },
  {
   "cell_type": "code",
   "execution_count": null,
   "outputs": [],
   "source": [
    "query_standard_anomaly = 'from(bucket:\"Experiment\")\\\n",
    "|> range(start: 2023-09-22T12:30:00Z, stop: 2023-09-22T12:45:00Z)\\\n",
    "|> filter(fn: (r) => r._measurement == \"OpenDC_Anomaly_Experiment\" and r._field =~ /policy_id|guestsRunning|cpuUtilisation|timestamp|powerUsage|powerTotal|host_id/)\\\n",
    "|> pivot(rowKey:[\"_time\"], columnKey: [\"_field\"], valueColumn: \"_value\")\\\n",
    "|> filter(fn:(r) => r.policy_id == 5)'\n",
    "result_standard_anomaly = query_api.query_data_frame(org=org, query=query_standard_anomaly)\n",
    "\n",
    "# display(result_standard.head(10))\n",
    "pd.set_option('display.max_columns', None)\n",
    "df_standard_anomaly = result_standard_anomaly[['timestamp','host_id','cpuUtilisation','guestsRunning','powerUsage','powerTotal']]\n",
    "print(df_standard_anomaly)"
   ],
   "metadata": {
    "collapsed": false
   },
   "id": "929df1f89583c264"
  },
  {
   "cell_type": "code",
   "execution_count": null,
   "outputs": [],
   "source": [
    "query_standard_non_anomaly = 'from(bucket:\"Experiment\")\\\n",
    "|> range(start: 2023-09-22T12:30:00Z, stop: 2023-09-22T12:45:00Z)\\\n",
    "|> filter(fn: (r) => r._measurement == \"OpenDC_Anomaly_Experiment\" and r._field =~ /policy_id|guestsRunning|cpuUtilisation|timestamp|powerUsage|powerTotal|host_id/)\\\n",
    "|> pivot(rowKey:[\"_time\"], columnKey: [\"_field\"], valueColumn: \"_value\")\\\n",
    "|> filter(fn:(r) => r.policy_id == 6)'\n",
    "result_standard_non_anomaly = query_api.query_data_frame(org=org, query=query_standard_non_anomaly)\n",
    "\n",
    "# display(result_standard.head(10))\n",
    "pd.set_option('display.max_columns', None)\n",
    "df_standard_non_anomaly = result_standard_non_anomaly[['timestamp','host_id','cpuUtilisation','guestsRunning','powerUsage','powerTotal']]\n",
    "print(df_standard_non_anomaly)"
   ],
   "metadata": {
    "collapsed": false
   },
   "id": "cb7da65bc13586c7"
  },
  {
   "cell_type": "code",
   "execution_count": null,
   "outputs": [],
   "source": [
    "df_power_standard_non_anomaly = df_standard_non_anomaly[['timestamp','host_id','guestsRunning','powerUsage']]\n",
    "df_power_standard_non_anomaly['host_id'] = df_standard_non_anomaly['host_id'].astype(int)\n",
    "df_power_standard_non_anomaly['guestsRunning'] = df_standard_non_anomaly['guestsRunning'].astype(int)\n",
    "# df_power_standard_non_anomaly = df_power_standard_non_anomaly.loc[df_standard_non_anomaly['host_id'] == 9]\n",
    "print(df_power_standard_non_anomaly)"
   ],
   "metadata": {
    "collapsed": false
   },
   "id": "30bbf1bc609694e7"
  },
  {
   "cell_type": "code",
   "execution_count": null,
   "outputs": [],
   "source": [
    "df_power_standard_anomaly = df_standard_anomaly[['timestamp','host_id','guestsRunning','powerUsage']]\n",
    "df_power_standard_anomaly['host_id'] = df_standard_anomaly['host_id'].astype(int)\n",
    "df_power_standard_anomaly['guestsRunning'] = df_standard_anomaly['guestsRunning'].astype(int)\n",
    "# df_power_standard_anomaly = df_power_standard_anomaly.loc[df_standard_anomaly['host_id'] == 9]\n",
    "print(df_power_standard_anomaly)"
   ],
   "metadata": {
    "collapsed": false
   },
   "id": "4de57f1a42e55009"
  },
  {
   "cell_type": "code",
   "execution_count": null,
   "outputs": [],
   "source": [
    "# Create a list of unique hosts\n",
    "all_hosts = df_power_standard_non_anomaly['host_id'].unique()\n",
    "\n",
    "# Increase the plot size\n",
    "plt.figure(figsize=(16, 10))\n",
    "\n",
    "# Create the main plot with the left y-axis\n",
    "fig, ax1 = plt.subplots()\n",
    "ax2 = ax1.twinx()\n",
    "\n",
    "# Plot all hosts from non-anomalous dataset\n",
    "for host_id in all_hosts:\n",
    "    host_data = df_power_standard_non_anomaly[df_power_standard_non_anomaly['host_id'] == host_id]\n",
    "    ax1.plot(host_data['timestamp'], host_data['powerUsage'], marker='o', label=f'Host {host_id}')\n",
    "    ax1.set_ylabel('Instant power usage value') #  color='b'\n",
    "    ax2.plot(host_data['timestamp'], host_data['guestsRunning'], marker='o', label=f'Host {host_id}')\n",
    "    ax2.set_ylabel('Number of Guests running')\n",
    "    \n",
    "# Combine the legend for both plots\n",
    "lines1, labels = ax1.get_legend_handles_labels()\n",
    "lines2, labels = ax2.get_legend_handles_labels()\n",
    "lines = lines1 + lines2\n",
    "ax1.legend(lines, labels, loc='upper left')\n",
    "\n",
    "# Adjust the legend placement outside of the plot\n",
    "ax1.legend(lines, labels, loc='upper left', bbox_to_anchor=(1.10, 1), title='Legend')\n",
    "\n",
    "ax1.set_xlabel('Timestamp')\n",
    "plt.title('Instantaneous power usage value over time\\n (standard visualisation)')\n",
    "# plt.legend()\n",
    "plt.grid(True)\n",
    "fig.set_size_inches(11.5, 9.5)\n",
    "plt.show()"
   ],
   "metadata": {
    "collapsed": false
   },
   "id": "410d300e04690bff"
  },
  {
   "cell_type": "code",
   "execution_count": null,
   "outputs": [],
   "source": [
    "# Create a list of unique hosts\n",
    "all_hosts = df_power_standard_anomaly['host_id'].unique()\n",
    "\n",
    "# Increase the plot size\n",
    "plt.figure(figsize=(16, 10))\n",
    "\n",
    "# Create the main plot with the left y-axis\n",
    "fig, ax1 = plt.subplots()\n",
    "ax2 = ax1.twinx()\n",
    "\n",
    "# Plot all hosts from non-anomalous dataset\n",
    "for host_id in all_hosts:\n",
    "    host_data = df_power_standard_anomaly[df_power_standard_anomaly['host_id'] == host_id]\n",
    "    ax1.plot(host_data['timestamp'], host_data['powerUsage'], marker='o', label=f'Host {host_id}')\n",
    "    ax1.set_ylabel('Instant power usage value') #  color='b'\n",
    "    ax2.plot(host_data['timestamp'], host_data['guestsRunning'], marker='o', label=f'Host {host_id}')\n",
    "    ax2.set_ylabel('Number of Guests running')\n",
    "    \n",
    "# Combine the legend for both plots\n",
    "lines, labels = ax1.get_legend_handles_labels()\n",
    "lines, labels = ax2.get_legend_handles_labels()\n",
    "# lines = lines1 + lines2\n",
    "ax1.legend(lines, labels, loc='upper left')\n",
    "\n",
    "# Adjust the legend placement outside of the plot\n",
    "ax1.legend(lines, labels, loc='upper left', bbox_to_anchor=(1.10, 1), title='Legend')\n",
    "\n",
    "ax1.set_xlabel('Timestamp')\n",
    "#ax1.set_ylabel('Instantaneous power usage value')\n",
    "plt.title('Instant power usage value over time\\n (reflecting anomaly in visualisation)')\n",
    "# plt.legend()\n",
    "plt.grid(True)\n",
    "fig.set_size_inches(11.5, 9.5)\n",
    "plt.show()"
   ],
   "metadata": {
    "collapsed": false
   },
   "id": "6b46967c300e5dbb"
  },
  {
   "cell_type": "code",
   "execution_count": null,
   "outputs": [],
   "source": [
    "# Merge the two data frames on time, server_id, and guests\n",
    "merged_df = df_power_standard_non_anomaly.merge(df_power_standard_anomaly, on=['timestamp', 'host_id', 'guestsRunning'], suffixes=('_non_anomaly', '_anomaly'))\n",
    "\n",
    "# Calculate the absolute difference between power values\n",
    "merged_df['power_diff'] = abs(merged_df['powerUsage_non_anomaly'] - merged_df['powerUsage_anomaly'])\n",
    "\n",
    "# Set a threshold for anomaly detection (adjust as needed)\n",
    "threshold = 10  # Example threshold\n",
    "\n",
    "# Flag servers as anomalous based on the threshold\n",
    "anomalous_servers = merged_df[merged_df['power_diff'] > threshold]['host_id'].unique()\n",
    "for anomalous_server in np.nditer(anomalous_servers, op_flags=['readwrite']):\n",
    "    print(f\"Anomalous server found in the anomalous dataset - {anomalous_server}\")\n",
    "\n",
    "# Highlight anomalous servers in the original data frame (create a new column)\n",
    "df_power_standard_anomaly['anomalous'] = df_power_standard_anomaly['host_id'].isin(anomalous_servers)\n",
    "\n",
    "# Display the original data frame with the 'anomalous' column\n",
    "# df_power_standard_anomaly.loc[df_power_standard_anomaly['anomalous'] == True]\n",
    "merged_df[merged_df['power_diff'] > threshold]"
   ],
   "metadata": {
    "collapsed": false
   },
   "id": "3793c87a039dbdeb"
  },
  {
   "cell_type": "code",
   "execution_count": null,
   "outputs": [],
   "source": [],
   "metadata": {
    "collapsed": false
   },
   "id": "f3b5d57a18d0d5d9"
  }
 ],
 "metadata": {
  "kernelspec": {
   "display_name": "Python 3",
   "language": "python",
   "name": "python3"
  },
  "language_info": {
   "codemirror_mode": {
    "name": "ipython",
    "version": 2
   },
   "file_extension": ".py",
   "mimetype": "text/x-python",
   "name": "python",
   "nbconvert_exporter": "python",
   "pygments_lexer": "ipython2",
   "version": "2.7.6"
  }
 },
 "nbformat": 4,
 "nbformat_minor": 5
}
