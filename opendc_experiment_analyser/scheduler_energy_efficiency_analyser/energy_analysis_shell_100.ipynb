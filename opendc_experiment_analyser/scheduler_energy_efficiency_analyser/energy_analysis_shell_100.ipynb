{
 "cells": [
  {
   "cell_type": "code",
   "execution_count": 60,
   "id": "initial_id",
   "metadata": {
    "collapsed": true,
    "ExecuteTime": {
     "end_time": "2023-09-25T22:50:26.441081004Z",
     "start_time": "2023-09-25T22:50:26.397232686Z"
    }
   },
   "outputs": [],
   "source": [
    "# !pip install influxdb-client"
   ]
  },
  {
   "cell_type": "code",
   "execution_count": 61,
   "outputs": [],
   "source": [
    "import influxdb_client\n",
    "import pandas as pd\n",
    "import matplotlib.pyplot as plt\n",
    "import json\n",
    "from pathlib import Path"
   ],
   "metadata": {
    "collapsed": false,
    "ExecuteTime": {
     "end_time": "2023-09-25T22:50:26.480383687Z",
     "start_time": "2023-09-25T22:50:26.397426714Z"
    }
   },
   "id": "7061e3b22c4a6107"
  },
  {
   "cell_type": "code",
   "execution_count": 62,
   "outputs": [
    {
     "name": "stdout",
     "output_type": "stream",
     "text": [
      "{'bucket': 'Temporary', 'org': '@Large-Research', 'token': 'd5KtoS1-I2iMVHiRQsVnXKV7MW7QR70Z1mqRdvqs08v-jKxEv8Q_URRHr2tl4AUwwqWHDeZNUKEtSTLjiCf-vg==', 'url': 'http://localhost:8086', 'location': 'Amsterdam'}\n"
     ]
    }
   ],
   "source": [
    "config_file = \"/windows/os/Thesis-Project/ODAbler/key-configurations/influxdb-config.json\"\n",
    "p = Path(config_file)\n",
    "with p.open('r') as f:\n",
    "    content = json.load(f)\n",
    "    print(content)\n",
    "url = content['url']\n",
    "token = content['token']\n",
    "org = content['org']\n",
    "client = influxdb_client.InfluxDBClient(\n",
    "   url=url,\n",
    "   token=token,\n",
    "   org=org\n",
    ")\n",
    "query_api = client.query_api()"
   ],
   "metadata": {
    "collapsed": false,
    "ExecuteTime": {
     "end_time": "2023-09-25T22:50:26.503938375Z",
     "start_time": "2023-09-25T22:50:26.430042157Z"
    }
   },
   "id": "327e81c9028d2a68"
  },
  {
   "cell_type": "code",
   "execution_count": 63,
   "outputs": [
    {
     "name": "stdout",
     "output_type": "stream",
     "text": [
      "     timestamp  serverId  cpuUtilisation  guestsRunning  powerUsage   \n",
      "0         30.0       0.0        0.041667            1.0  200.010851  \\\n",
      "1         30.0       1.0        0.041667            1.0  200.010851   \n",
      "2         30.0       2.0        0.041667            1.0  200.010851   \n",
      "3         30.0       3.0        0.041667            1.0  200.010851   \n",
      "4         30.0       4.0        0.000000            0.0  200.000000   \n",
      "..         ...       ...             ...            ...         ...   \n",
      "709      630.0      29.0        0.125000            3.0  200.292969   \n",
      "710      630.0      30.0        0.208333            5.0  201.356337   \n",
      "711      630.0      31.0        0.125000            3.0  200.292969   \n",
      "712      630.0      32.0        0.208333            5.0  201.356337   \n",
      "713      630.0      33.0        0.166667            4.0  200.694444   \n",
      "\n",
      "       powerTotal  \n",
      "0    6.000305e+03  \n",
      "1    1.200054e+04  \n",
      "2    1.800071e+04  \n",
      "3    2.400081e+04  \n",
      "4    3.000090e+04  \n",
      "..            ...  \n",
      "709  4.302802e+06  \n",
      "710  4.308897e+06  \n",
      "711  4.314980e+06  \n",
      "712  4.321073e+06  \n",
      "713  4.327172e+06  \n",
      "\n",
      "[714 rows x 6 columns]\n"
     ]
    }
   ],
   "source": [
    "query_standard = 'from(bucket:\"FinalExperiment\")\\\n",
    "|> range(start: 2023-09-25T22:00:00Z, stop: 2023-09-25T22:15:00Z)\\\n",
    "|> filter(fn: (r) => r._measurement == \"OpenDC_Energy_Experiment\" and r._field =~ /policyId|guestsRunning|cpuUtilisation|timestamp|powerUsage|powerTotal|serverId/)\\\n",
    "|> pivot(rowKey:[\"_time\"], columnKey: [\"_field\"], valueColumn: \"_value\")\\\n",
    "|> filter(fn:(r) => r.policyId == 1)'\n",
    "result_standard = query_api.query_data_frame(org=org, query=query_standard)\n",
    "\n",
    "#display(result_standard.head(10))\n",
    "pd.set_option('display.max_columns', None)\n",
    "df_standard = result_standard[['timestamp','serverId','cpuUtilisation','guestsRunning','powerUsage','powerTotal']]\n",
    "print(df_standard)"
   ],
   "metadata": {
    "collapsed": false,
    "ExecuteTime": {
     "end_time": "2023-09-25T22:50:27.008073675Z",
     "start_time": "2023-09-25T22:50:26.500522902Z"
    }
   },
   "id": "611c3963e3ffc6dc"
  },
  {
   "cell_type": "code",
   "execution_count": 64,
   "outputs": [
    {
     "name": "stdout",
     "output_type": "stream",
     "text": [
      "     timestamp  serverId  cpuUtilisation  guestsRunning  powerUsage   \n",
      "0         30.0       0.0        0.041667            1.0  200.010851  \\\n",
      "1         30.0       1.0        0.041667            1.0  200.010851   \n",
      "2         30.0       2.0        0.041667            1.0  200.010851   \n",
      "3         30.0       3.0        0.041667            1.0  200.010851   \n",
      "4         30.0       4.0        0.000000            0.0  200.000000   \n",
      "..         ...       ...             ...            ...         ...   \n",
      "709      630.0      29.0        0.125000            3.0  200.292969   \n",
      "710      630.0      30.0        0.125000            3.0  200.292969   \n",
      "711      630.0      31.0        0.125000            3.0  200.292969   \n",
      "712      630.0      32.0        0.166667            4.0  200.694444   \n",
      "713      630.0      33.0        0.125000            3.0  200.292969   \n",
      "\n",
      "       powerTotal  \n",
      "0    6.000305e+03  \n",
      "1    1.200054e+04  \n",
      "2    1.800071e+04  \n",
      "3    2.400081e+04  \n",
      "4    3.000090e+04  \n",
      "..            ...  \n",
      "709  4.302802e+06  \n",
      "710  4.308896e+06  \n",
      "711  4.314984e+06  \n",
      "712  4.321078e+06  \n",
      "713  4.327165e+06  \n",
      "\n",
      "[714 rows x 6 columns]\n"
     ]
    }
   ],
   "source": [
    "query_heft = 'from(bucket:\"FinalExperiment\")\\\n",
    "|> range(start: 2023-09-25T22:00:00Z, stop: 2023-09-25T22:15:00Z)\\\n",
    "|> filter(fn: (r) => r._measurement == \"OpenDC_Energy_Experiment\" and r._field =~ /policyId|guestsRunning|cpuUtilisation|timestamp|powerUsage|powerTotal|serverId/)\\\n",
    "|> pivot(rowKey:[\"_time\"], columnKey: [\"_field\"], valueColumn: \"_value\")\\\n",
    "|> filter(fn:(r) => r.policyId == 2)'\n",
    "result_heft = query_api.query_data_frame(org=org, query=query_heft)\n",
    "\n",
    "df_heft = result_heft[['timestamp','serverId','cpuUtilisation','guestsRunning','powerUsage','powerTotal']]\n",
    "print(df_heft)"
   ],
   "metadata": {
    "collapsed": false,
    "ExecuteTime": {
     "end_time": "2023-09-25T22:50:27.347096934Z",
     "start_time": "2023-09-25T22:50:27.005379009Z"
    }
   },
   "id": "3b46a2557b60c693"
  },
  {
   "cell_type": "code",
   "execution_count": 65,
   "outputs": [
    {
     "name": "stdout",
     "output_type": "stream",
     "text": [
      "     timestamp  serverId  cpuUtilisation  guestsRunning  powerUsage   \n",
      "0         30.0       0.0        0.041667            1.0  200.010851  \\\n",
      "1         30.0       1.0        0.041667            1.0  200.010851   \n",
      "2         30.0       2.0        0.041667            1.0  200.010851   \n",
      "3         30.0       3.0        0.041667            1.0  200.010851   \n",
      "4         30.0       4.0        0.041667            1.0  200.010851   \n",
      "..         ...       ...             ...            ...         ...   \n",
      "709      630.0      29.0        0.208333            5.0  201.356337   \n",
      "710      630.0      30.0        0.166667            4.0  200.694444   \n",
      "711      630.0      31.0        0.166667            4.0  200.694444   \n",
      "712      630.0      32.0        0.125000            3.0  200.292969   \n",
      "713      630.0      33.0        0.125000            3.0  200.292969   \n",
      "\n",
      "       powerTotal  \n",
      "0    6.000305e+03  \n",
      "1    1.200054e+04  \n",
      "2    1.800071e+04  \n",
      "3    2.400082e+04  \n",
      "4    3.000094e+04  \n",
      "..            ...  \n",
      "709  4.302766e+06  \n",
      "710  4.308858e+06  \n",
      "711  4.314949e+06  \n",
      "712  4.321040e+06  \n",
      "713  4.327126e+06  \n",
      "\n",
      "[714 rows x 6 columns]\n"
     ]
    }
   ],
   "source": [
    "query_random = 'from(bucket:\"FinalExperiment\")\\\n",
    "|> range(start: 2023-09-25T22:00:00Z, stop: 2023-09-25T22:15:00Z)\\\n",
    "|> filter(fn: (r) => r._measurement == \"OpenDC_Energy_Experiment\" and r._field =~ /policyId|guestsRunning|cpuUtilisation|timestamp|powerUsage|powerTotal|serverId/)\\\n",
    "|> pivot(rowKey:[\"_time\"], columnKey: [\"_field\"], valueColumn: \"_value\")\\\n",
    "|> filter(fn:(r) => r.policyId == 3)'\n",
    "result_random = query_api.query_data_frame(org=org, query=query_random)\n",
    "\n",
    "df_random = result_random[['timestamp','serverId','cpuUtilisation','guestsRunning','powerUsage','powerTotal']]\n",
    "print(df_random)"
   ],
   "metadata": {
    "collapsed": false,
    "ExecuteTime": {
     "end_time": "2023-09-25T22:50:27.937055607Z",
     "start_time": "2023-09-25T22:50:27.345674576Z"
    }
   },
   "id": "89e5af9130005a08"
  },
  {
   "cell_type": "code",
   "execution_count": 66,
   "outputs": [],
   "source": [
    "# query_minmin = 'from(bucket:\"Experiment\")\\\n",
    "# |> range(start: 2023-09-18T22:20:00Z, stop: 2023-09-18T22:34:00Z)\\\n",
    "# |> filter(fn: (r) => r._measurement == \"OpenDC_Energy_Experiment\" and r._field =~ /policy_id|guestsRunning|cpuUtilisation|timestamp|powerUsage|powerTotal|host_id/)\\\n",
    "# |> pivot(rowKey:[\"_time\"], columnKey: [\"_field\"], valueColumn: \"_value\")\\\n",
    "# |> filter(fn:(r) => r.policy_id == 4)'\n",
    "# result_minmin = query_api.query_data_frame(org=org, query=query_minmin)\n",
    "# \n",
    "# df_minmin = result_minmin[['timestamp','host_id','cpuUtilisation','guestsRunning','powerUsage','powerTotal']]\n",
    "# print(df_minmin)"
   ],
   "metadata": {
    "collapsed": false,
    "ExecuteTime": {
     "end_time": "2023-09-25T22:50:27.947205953Z",
     "start_time": "2023-09-25T22:50:27.939287896Z"
    }
   },
   "id": "aff1024d1a8e3d54"
  },
  {
   "cell_type": "code",
   "execution_count": 67,
   "outputs": [
    {
     "name": "stdout",
     "output_type": "stream",
     "text": [
      "     timestamp  serverId    powerTotal\n",
      "33        30.0        33  2.040013e+05\n",
      "67        60.0        33  4.084244e+05\n",
      "101       90.0        33  6.158390e+05\n",
      "135      120.0        33  8.205856e+05\n",
      "169      150.0        33  1.028208e+06\n",
      "203      180.0        33  1.233004e+06\n",
      "237      210.0        33  1.440666e+06\n",
      "271      240.0        33  1.645376e+06\n",
      "305      270.0        33  1.853101e+06\n",
      "339      300.0        33  2.057880e+06\n",
      "373      330.0        33  2.265545e+06\n",
      "407      360.0        33  2.470230e+06\n",
      "441      390.0        33  2.677721e+06\n",
      "475      420.0        33  2.882482e+06\n",
      "509      450.0        33  3.090145e+06\n",
      "543      480.0        33  3.294796e+06\n",
      "577      510.0        33  3.502290e+06\n",
      "611      540.0        33  3.707038e+06\n",
      "645      570.0        33  3.914758e+06\n",
      "679      600.0        33  4.119444e+06\n",
      "713      630.0        33  4.327172e+06\n"
     ]
    },
    {
     "name": "stderr",
     "output_type": "stream",
     "text": [
      "/tmp/ipykernel_18660/3413936369.py:2: SettingWithCopyWarning: \n",
      "A value is trying to be set on a copy of a slice from a DataFrame.\n",
      "Try using .loc[row_indexer,col_indexer] = value instead\n",
      "\n",
      "See the caveats in the documentation: https://pandas.pydata.org/pandas-docs/stable/user_guide/indexing.html#returning-a-view-versus-a-copy\n",
      "  df_total_power_standard['serverId'] = df_total_power_standard['serverId']. astype(int)\n"
     ]
    }
   ],
   "source": [
    "df_total_power_standard = df_standard[['timestamp','serverId','powerTotal']]\n",
    "df_total_power_standard['serverId'] = df_total_power_standard['serverId']. astype(int)\n",
    "df_total_power_standard = df_total_power_standard.loc[df_total_power_standard['serverId'] == 33]\n",
    "print(df_total_power_standard)"
   ],
   "metadata": {
    "collapsed": false,
    "ExecuteTime": {
     "end_time": "2023-09-25T22:50:28.104107157Z",
     "start_time": "2023-09-25T22:50:27.943645145Z"
    }
   },
   "id": "48c4d8df7df1c9d6"
  },
  {
   "cell_type": "code",
   "execution_count": 68,
   "outputs": [
    {
     "name": "stdout",
     "output_type": "stream",
     "text": [
      "     timestamp  serverId    powerTotal\n",
      "33        30.0        33  2.040013e+05\n",
      "67        60.0        33  4.084244e+05\n",
      "101       90.0        33  6.158392e+05\n",
      "135      120.0        33  8.205841e+05\n",
      "169      150.0        33  1.028209e+06\n",
      "203      180.0        33  1.233006e+06\n",
      "237      210.0        33  1.440665e+06\n",
      "271      240.0        33  1.645374e+06\n",
      "305      270.0        33  1.853100e+06\n",
      "339      300.0        33  2.057882e+06\n",
      "373      330.0        33  2.265552e+06\n",
      "407      360.0        33  2.470233e+06\n",
      "441      390.0        33  2.677724e+06\n",
      "475      420.0        33  2.882485e+06\n",
      "509      450.0        33  3.090145e+06\n",
      "543      480.0        33  3.294796e+06\n",
      "577      510.0        33  3.502295e+06\n",
      "611      540.0        33  3.707046e+06\n",
      "645      570.0        33  3.914764e+06\n",
      "679      600.0        33  4.119444e+06\n",
      "713      630.0        33  4.327165e+06\n"
     ]
    },
    {
     "name": "stderr",
     "output_type": "stream",
     "text": [
      "/tmp/ipykernel_18660/2081136302.py:2: SettingWithCopyWarning: \n",
      "A value is trying to be set on a copy of a slice from a DataFrame.\n",
      "Try using .loc[row_indexer,col_indexer] = value instead\n",
      "\n",
      "See the caveats in the documentation: https://pandas.pydata.org/pandas-docs/stable/user_guide/indexing.html#returning-a-view-versus-a-copy\n",
      "  df_total_power_heft['serverId'] = df_total_power_heft['serverId']. astype(int)\n"
     ]
    }
   ],
   "source": [
    "df_total_power_heft = df_heft[['timestamp','serverId','powerTotal']]\n",
    "df_total_power_heft['serverId'] = df_total_power_heft['serverId']. astype(int)\n",
    "df_total_power_heft = df_total_power_heft.loc[df_total_power_heft['serverId'] == 33]\n",
    "print(df_total_power_heft)"
   ],
   "metadata": {
    "collapsed": false,
    "ExecuteTime": {
     "end_time": "2023-09-25T22:50:28.227760761Z",
     "start_time": "2023-09-25T22:50:28.071855267Z"
    }
   },
   "id": "9d5184d679b6660f"
  },
  {
   "cell_type": "code",
   "execution_count": 69,
   "outputs": [
    {
     "name": "stdout",
     "output_type": "stream",
     "text": [
      "     timestamp  serverId    powerTotal\n",
      "33        30.0        33  2.040013e+05\n",
      "67        60.0        33  4.084253e+05\n",
      "101       90.0        33  6.158439e+05\n",
      "135      120.0        33  8.205887e+05\n",
      "169      150.0        33  1.028199e+06\n",
      "203      180.0        33  1.232995e+06\n",
      "237      210.0        33  1.440649e+06\n",
      "271      240.0        33  1.645356e+06\n",
      "305      270.0        33  1.853079e+06\n",
      "339      300.0        33  2.057858e+06\n",
      "373      330.0        33  2.265528e+06\n",
      "407      360.0        33  2.470209e+06\n",
      "441      390.0        33  2.677697e+06\n",
      "475      420.0        33  2.882459e+06\n",
      "509      450.0        33  3.090119e+06\n",
      "543      480.0        33  3.294768e+06\n",
      "577      510.0        33  3.502266e+06\n",
      "611      540.0        33  3.707014e+06\n",
      "645      570.0        33  3.914731e+06\n",
      "679      600.0        33  4.119413e+06\n",
      "713      630.0        33  4.327126e+06\n"
     ]
    },
    {
     "name": "stderr",
     "output_type": "stream",
     "text": [
      "/tmp/ipykernel_18660/3731546774.py:2: SettingWithCopyWarning: \n",
      "A value is trying to be set on a copy of a slice from a DataFrame.\n",
      "Try using .loc[row_indexer,col_indexer] = value instead\n",
      "\n",
      "See the caveats in the documentation: https://pandas.pydata.org/pandas-docs/stable/user_guide/indexing.html#returning-a-view-versus-a-copy\n",
      "  df_total_power_random['serverId'] = df_total_power_random['serverId']. astype(int)\n"
     ]
    }
   ],
   "source": [
    "df_total_power_random = df_random[['timestamp','serverId','powerTotal']]\n",
    "df_total_power_random['serverId'] = df_total_power_random['serverId']. astype(int)\n",
    "df_total_power_random = df_total_power_random.loc[df_total_power_random['serverId'] == 33]\n",
    "print(df_total_power_random)"
   ],
   "metadata": {
    "collapsed": false,
    "ExecuteTime": {
     "end_time": "2023-09-25T22:50:28.311162122Z",
     "start_time": "2023-09-25T22:50:28.162476824Z"
    }
   },
   "id": "5eb714008442e4ae"
  },
  {
   "cell_type": "code",
   "execution_count": 70,
   "outputs": [],
   "source": [
    "# df_total_power_minmin = df_minmin[['timestamp','host_id','powerTotal']]\n",
    "# df_total_power_minmin['host_id'] = df_total_power_minmin['host_id']. astype(int)\n",
    "# df_total_power_minmin = df_total_power_minmin.loc[df_total_power_minmin['host_id'] == 33]\n",
    "# print(df_total_power_minmin)"
   ],
   "metadata": {
    "collapsed": false,
    "ExecuteTime": {
     "end_time": "2023-09-25T22:50:28.369574412Z",
     "start_time": "2023-09-25T22:50:28.244361941Z"
    }
   },
   "id": "95416f964813cace"
  },
  {
   "cell_type": "code",
   "execution_count": 71,
   "outputs": [
    {
     "data": {
      "text/plain": "<Figure size 1050x750 with 1 Axes>",
      "image/png": "[encoded data removed]"
     },
     "metadata": {},
     "output_type": "display_data"
    }
   ],
   "source": [
    "df1 = df_total_power_standard.drop(['serverId'], axis=1)\n",
    "df2 = df_total_power_heft.drop(['serverId'], axis=1)\n",
    "df3 = df_total_power_random.drop(['serverId'], axis=1)\n",
    "# df4 = df_total_power_minmin.drop(['host_id'], axis=1)\n",
    "# print(df1)\n",
    "# Create a list of all the dataframes\n",
    "dfs = [df1, df2, df3]\n",
    "\n",
    "# Create a new dataframe with all the timestamps from all the dataframes\n",
    "df_timestamps = pd.DataFrame({'timestamp': sorted(set(sum([df['timestamp'].tolist() for df in dfs], [])))})\n",
    "\n",
    "# Merge the new dataframe with all the dataframes, filling in missing values with 0\n",
    "df_merged = df_timestamps.merge(df1, how='left', on='timestamp', suffixes=('', '_x')).merge(df2, how='left', on='timestamp', suffixes=('', '_y')).merge(df3, how='left', on='timestamp', suffixes=('', '_z')).fillna(0)\n",
    "\n",
    "# Convert watts to kiloWatt-hours\n",
    "df_merged[\"powerTotal\"] = df_merged[\"powerTotal\"]/(1000*3600)\n",
    "df_merged[\"powerTotal_y\"] = df_merged[\"powerTotal_y\"]/(1000*3600)\n",
    "df_merged[\"powerTotal_z\"] = df_merged[\"powerTotal_z\"]/(1000*3600)\n",
    "# df_merged[\"powerTotal_w\"] = df_merged[\"powerTotal_w\"]/1000000\n",
    "df_merged.rename(columns={'powerTotal': 'FIFO-Algorithm', 'powerTotal_y': 'HEFT-Algorithm', 'powerTotal_z': 'Random-Algorithm'}, inplace=True) #, 'powerTotal_w': 'MinMin-Algorithm'\n",
    "df_merged['timestamp'] = df_merged['timestamp'].astype(int)\n",
    "\n",
    "# print(df_merged)\n",
    "# Create a bar plot of the merged dataframe, grouped by timestamp\n",
    "fig, ax = plt.subplots()\n",
    "df_merged.plot.bar(x='timestamp', ax=ax, title='Power consumption with various scheduling algorithms for shell trace\\n with 100% cluster-size configuration', width=.75)\n",
    "plt.gca().xaxis.set_tick_params(rotation=45)\n",
    "plt.ylabel('Total power consumption (in kWh: kiloWatt-Hours)')\n",
    "plt.xlabel('Timestamp (in s: seconds)')\n",
    "fig.set_size_inches(10.5, 7.5)\n",
    "fig.savefig('multiple_hosts_energy_plotted_trace_shell_100.png', bbox_inches='tight')\n",
    "plt.show()"
   ],
   "metadata": {
    "collapsed": false,
    "ExecuteTime": {
     "end_time": "2023-09-25T22:50:29.079173495Z",
     "start_time": "2023-09-25T22:50:28.342800178Z"
    }
   },
   "id": "918114e71ff815b6"
  },
  {
   "cell_type": "code",
   "execution_count": 72,
   "outputs": [
    {
     "name": "stdout",
     "output_type": "stream",
     "text": [
      "    timestamp  FIFO-Algorithm  HEFT-Algorithm  Random-Algorithm\n",
      "0          30        0.056667        0.056667          0.056667\n",
      "1          60        0.113451        0.113451          0.113451\n",
      "2          90        0.171066        0.171066          0.171068\n",
      "3         120        0.227940        0.227940          0.227941\n",
      "4         150        0.285613        0.285614          0.285611\n",
      "5         180        0.342501        0.342502          0.342499\n",
      "6         210        0.400185        0.400185          0.400180\n",
      "7         240        0.457049        0.457048          0.457043\n",
      "8         270        0.514750        0.514750          0.514744\n",
      "9         300        0.571633        0.571634          0.571627\n",
      "10        330        0.629318        0.629320          0.629313\n",
      "11        360        0.686175        0.686176          0.686169\n",
      "12        390        0.743811        0.743812          0.743805\n",
      "13        420        0.800690        0.800690          0.800683\n",
      "14        450        0.858373        0.858374          0.858366\n",
      "15        480        0.915221        0.915221          0.915213\n",
      "16        510        0.972858        0.972860          0.972852\n",
      "17        540        1.029733        1.029735          1.029726\n",
      "18        570        1.087433        1.087434          1.087425\n",
      "19        600        1.144290        1.144290          1.144281\n",
      "20        630        1.201992        1.201990          1.201980\n"
     ]
    }
   ],
   "source": [
    "# df_merged[\"powerTotal\"] = df_merged[\"powerTotal\"]/(1000*3600)\n",
    "# df_merged[\"powerTotal_y\"] = df_merged[\"powerTotal_y\"]/(1000*3600)\n",
    "# df_merged[\"powerTotal_z\"] = df_merged[\"powerTotal_z\"]/(1000*3600)\n",
    "print(df_merged)"
   ],
   "metadata": {
    "collapsed": false,
    "ExecuteTime": {
     "end_time": "2023-09-25T22:50:29.097693668Z",
     "start_time": "2023-09-25T22:50:29.083216127Z"
    }
   },
   "id": "dd9256b6af1362d1"
  },
  {
   "cell_type": "code",
   "execution_count": 73,
   "outputs": [
    {
     "name": "stdout",
     "output_type": "stream",
     "text": [
      "Total energy consumption in FIFO algorithm for executing given trace - 1.2019921052834182 kWh\n",
      "Total energy consumption in HEFT algorithm for executing given trace - 1.2019902621498855 kWh\n",
      "Total energy consumption in Random algorithm for executing given trace - 1.201979547764901 kWh\n"
     ]
    }
   ],
   "source": [
    "# Reverse the column and find the first non-zero value for getting total power\n",
    "last_non_zero_value_standard = df_merged[df_merged['FIFO-Algorithm'] != 0]['FIFO-Algorithm'].iloc[-1]\n",
    "print(f\"Total energy consumption in FIFO algorithm for executing given trace - {last_non_zero_value_standard} kWh\")\n",
    "last_non_zero_value_heft = df_merged[df_merged['HEFT-Algorithm'] != 0]['HEFT-Algorithm'].iloc[-1]\n",
    "print(f\"Total energy consumption in HEFT algorithm for executing given trace - {last_non_zero_value_heft} kWh\")\n",
    "last_non_zero_value_random = df_merged[df_merged['Random-Algorithm'] != 0]['Random-Algorithm'].iloc[-1]\n",
    "print(f\"Total energy consumption in Random algorithm for executing given trace - {last_non_zero_value_random} kWh\")"
   ],
   "metadata": {
    "collapsed": false,
    "ExecuteTime": {
     "end_time": "2023-09-25T22:50:29.294118672Z",
     "start_time": "2023-09-25T22:50:29.091383158Z"
    }
   },
   "id": "cf05cddd56d570cd"
  },
  {
   "cell_type": "code",
   "execution_count": 74,
   "outputs": [
    {
     "name": "stdout",
     "output_type": "stream",
     "text": [
      "[1.2019921052834182, 1.2019902621498855, 1.201979547764901]\n"
     ]
    }
   ],
   "source": [
    "total_energy_for_all_scheduling_algos = [last_non_zero_value_standard, last_non_zero_value_heft, last_non_zero_value_random]\n",
    "print(total_energy_for_all_scheduling_algos)"
   ],
   "metadata": {
    "collapsed": false,
    "ExecuteTime": {
     "end_time": "2023-09-25T22:50:29.295063397Z",
     "start_time": "2023-09-25T22:50:29.181951160Z"
    }
   },
   "id": "e178ed8f355873b7"
  },
  {
   "cell_type": "code",
   "execution_count": 75,
   "outputs": [
    {
     "name": "stdout",
     "output_type": "stream",
     "text": [
      "Resource scheduling algorithm Random is the most optimal amongst the three scheduling algorithms analysed above!\n",
      "----------------------------------------------------------------------------------------------------------------------------------------------\n",
      "Scheduling algorithm FIFO records 0.00104% worse energy-efficiency than the scheduling algorithm Random for shell workload trace and 100% cluster-size configuration.\n",
      "Scheduling algorithm HEFT records 0.00089% worse energy-efficiency than the scheduling algorithm Random for shell workload trace and 100% cluster-size configuration.\n"
     ]
    }
   ],
   "source": [
    "min_value = min(total_energy_for_all_scheduling_algos)\n",
    "dict = {0:\"FIFO\", 1:\"HEFT\", 2:\"Random\"}\n",
    "min_index = total_energy_for_all_scheduling_algos.index(min_value)\n",
    "\n",
    "# Calculate the percentage difference for each element compared to the minimum\n",
    "percentages = []\n",
    "for i, value in enumerate(total_energy_for_all_scheduling_algos):\n",
    "    if i == min_index:\n",
    "        continue  # Skip comparing the minimum value to itself\n",
    "    percentage_difference = ((value - min_value) / min_value) * 100\n",
    "    percentages.append((i, percentage_difference))\n",
    "\n",
    "# Print the results\n",
    "print(f\"Resource scheduling algorithm {dict[min_index]} is the most optimal amongst the three scheduling algorithms analysed above!\")\n",
    "print(\"----------------------------------------------------------------------------------------------------------------------------------------------\")\n",
    "for i, percentage in percentages:\n",
    "    print(f\"Scheduling algorithm {dict[i]} records {abs(percentage):.5f}% {'better' if percentage < 0 else 'worse'} energy-efficiency than the scheduling algorithm {dict[min_index]} for shell workload trace and 100% cluster-size configuration.\")\n"
   ],
   "metadata": {
    "collapsed": false,
    "ExecuteTime": {
     "end_time": "2023-09-25T22:50:29.387447776Z",
     "start_time": "2023-09-25T22:50:29.263265065Z"
    }
   },
   "id": "1bbaebe2ffcfd113"
  },
  {
   "cell_type": "code",
   "execution_count": 75,
   "outputs": [],
   "source": [],
   "metadata": {
    "collapsed": false,
    "ExecuteTime": {
     "end_time": "2023-09-25T22:50:29.434281697Z",
     "start_time": "2023-09-25T22:50:29.358083795Z"
    }
   },
   "id": "709b58304c7c1f92"
  }
 ],
 "metadata": {
  "kernelspec": {
   "display_name": "Python 3",
   "language": "python",
   "name": "python3"
  },
  "language_info": {
   "codemirror_mode": {
    "name": "ipython",
    "version": 2
   },
   "file_extension": ".py",
   "mimetype": "text/x-python",
   "name": "python",
   "nbconvert_exporter": "python",
   "pygments_lexer": "ipython2",
   "version": "2.7.6"
  }
 },
 "nbformat": 4,
 "nbformat_minor": 5
}
