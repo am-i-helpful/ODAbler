{
 "cells": [
  {
   "cell_type": "code",
   "execution_count": 1,
   "id": "initial_id",
   "metadata": {
    "ExecuteTime": {
     "end_time": "2023-10-24T18:17:01.370684445Z",
     "start_time": "2023-10-24T18:17:01.219004225Z"
    },
    "collapsed": true,
    "execution": {
     "iopub.execute_input": "2023-10-29T13:50:42.681377Z",
     "iopub.status.busy": "2023-10-29T13:50:42.680751Z",
     "iopub.status.idle": "2023-10-29T13:50:42.690406Z",
     "shell.execute_reply": "2023-10-29T13:50:42.688300Z"
    }
   },
   "outputs": [],
   "source": [
    "# !pip install influxdb-client"
   ]
  },
  {
   "cell_type": "code",
   "execution_count": 2,
   "id": "7061e3b22c4a6107",
   "metadata": {
    "ExecuteTime": {
     "end_time": "2023-10-24T18:17:08.224528101Z",
     "start_time": "2023-10-24T18:17:01.227854788Z"
    },
    "collapsed": false,
    "execution": {
     "iopub.execute_input": "2023-10-29T13:50:42.697804Z",
     "iopub.status.busy": "2023-10-29T13:50:42.697215Z",
     "iopub.status.idle": "2023-10-29T13:50:43.531952Z",
     "shell.execute_reply": "2023-10-29T13:50:43.531295Z"
    }
   },
   "outputs": [],
   "source": [
    "import influxdb_client\n",
    "import pandas as pd\n",
    "import matplotlib.pyplot as plt\n",
    "import json\n",
    "from pathlib import Path"
   ]
  },
  {
   "cell_type": "code",
   "execution_count": 3,
   "id": "327e81c9028d2a68",
   "metadata": {
    "ExecuteTime": {
     "end_time": "2023-10-24T18:17:08.539882738Z",
     "start_time": "2023-10-24T18:17:08.232411820Z"
    },
    "collapsed": false,
    "execution": {
     "iopub.execute_input": "2023-10-29T13:50:43.535099Z",
     "iopub.status.busy": "2023-10-29T13:50:43.534640Z",
     "iopub.status.idle": "2023-10-29T13:50:43.543482Z",
     "shell.execute_reply": "2023-10-29T13:50:43.542894Z"
    }
   },
   "outputs": [
    {
     "name": "stdout",
     "output_type": "stream",
     "text": [
      "{'bucket': 'FinalExperiment', 'org': '@Large-Research', 'token': 'd5KtoS1-I2iMVHiRQsVnXKV7MW7QR70Z1mqRdvqs08v-jKxEv8Q_URRHr2tl4AUwwqWHDeZNUKEtSTLjiCf-vg==', 'url': 'http://localhost:8086', 'location': 'Amsterdam'}\n"
     ]
    }
   ],
   "source": [
    "config_file = \"/windows/os/Thesis-Project/ODAbler/key-configurations/influxdb-config.json\"\n",
    "p = Path(config_file)\n",
    "with p.open('r') as f:\n",
    "    content = json.load(f)\n",
    "    print(content)\n",
    "url = content['url']\n",
    "token = content['token']\n",
    "org = content['org']\n",
    "client = influxdb_client.InfluxDBClient(\n",
    "   url=url,\n",
    "   token=token,\n",
    "   org=org\n",
    ")\n",
    "query_api = client.query_api()"
   ]
  },
  {
   "cell_type": "code",
   "execution_count": 4,
   "id": "611c3963e3ffc6dc",
   "metadata": {
    "ExecuteTime": {
     "end_time": "2023-10-24T18:17:09.481439001Z",
     "start_time": "2023-10-24T18:17:08.542761461Z"
    },
    "collapsed": false,
    "execution": {
     "iopub.execute_input": "2023-10-29T13:50:43.545778Z",
     "iopub.status.busy": "2023-10-29T13:50:43.545588Z",
     "iopub.status.idle": "2023-10-29T13:50:43.875084Z",
     "shell.execute_reply": "2023-10-29T13:50:43.874447Z"
    }
   },
   "outputs": [
    {
     "name": "stdout",
     "output_type": "stream",
     "text": [
      "      timestamp  serverId  cpuUtilisation  guestsRunning  powerUsage   \n",
      "0          30.0       0.0        0.041667            1.0  200.010851  \\\n",
      "1          30.0       1.0        0.041667            1.0  200.010851   \n",
      "2          30.0       2.0        0.041667            1.0  200.010851   \n",
      "3          30.0       3.0        0.041667            1.0  200.010851   \n",
      "4          30.0       4.0        0.000000            0.0  200.000000   \n",
      "...         ...       ...             ...            ...         ...   \n",
      "1066      630.0      46.0        0.125000            3.0  200.292969   \n",
      "1067      630.0      47.0        0.083333            2.0  200.086806   \n",
      "1068      630.0      48.0        0.083333            2.0  200.086806   \n",
      "1069      630.0      49.0        0.083333            2.0  200.086806   \n",
      "1070      630.0      50.0        0.083333            2.0  200.086806   \n",
      "\n",
      "       energyUsage  \n",
      "0     6.000305e+03  \n",
      "1     1.200054e+04  \n",
      "2     1.800071e+04  \n",
      "3     2.400081e+04  \n",
      "4     3.000090e+04  \n",
      "...            ...  \n",
      "1066  6.421580e+06  \n",
      "1067  6.427602e+06  \n",
      "1068  6.433625e+06  \n",
      "1069  6.439650e+06  \n",
      "1070  6.445675e+06  \n",
      "\n",
      "[1071 rows x 6 columns]\n"
     ]
    }
   ],
   "source": [
    "query_standard = 'from(bucket:\"FinalExperiment\")\\\n",
    "|> range(start: 2023-10-24T18:00:00Z, stop: 2023-10-24T18:15:00Z)\\\n",
    "|> filter(fn: (r) => r._measurement == \"OpenDC_Energy_Experiment\" and r._field =~ /policyId|guestsRunning|cpuUtilisation|timestamp|powerUsage|energyUsage|serverId/)\\\n",
    "|> pivot(rowKey:[\"_time\"], columnKey: [\"_field\"], valueColumn: \"_value\")\\\n",
    "|> filter(fn:(r) => r.policyId == 151)'\n",
    "result_standard = query_api.query_data_frame(org=org, query=query_standard)\n",
    "\n",
    "#display(result_standard.head(10))\n",
    "pd.set_option('display.max_columns', None)\n",
    "df_standard = result_standard[['timestamp','serverId','cpuUtilisation','guestsRunning','powerUsage','energyUsage']]\n",
    "print(df_standard)"
   ]
  },
  {
   "cell_type": "code",
   "execution_count": 5,
   "id": "3b46a2557b60c693",
   "metadata": {
    "ExecuteTime": {
     "end_time": "2023-10-24T18:17:10.229327686Z",
     "start_time": "2023-10-24T18:17:09.476603247Z"
    },
    "collapsed": false,
    "execution": {
     "iopub.execute_input": "2023-10-29T13:50:43.877608Z",
     "iopub.status.busy": "2023-10-29T13:50:43.877387Z",
     "iopub.status.idle": "2023-10-29T13:50:44.207257Z",
     "shell.execute_reply": "2023-10-29T13:50:44.206577Z"
    }
   },
   "outputs": [
    {
     "name": "stdout",
     "output_type": "stream",
     "text": [
      "      timestamp  serverId  cpuUtilisation  guestsRunning  powerUsage   \n",
      "0          30.0       0.0        0.041667            1.0  200.010851  \\\n",
      "1          30.0       1.0        0.041667            1.0  200.010851   \n",
      "2          30.0       2.0        0.041667            1.0  200.010851   \n",
      "3          30.0       3.0        0.041667            1.0  200.010851   \n",
      "4          30.0       4.0        0.000000            0.0  200.000000   \n",
      "...         ...       ...             ...            ...         ...   \n",
      "1066      630.0      46.0        0.083333            2.0  200.086806   \n",
      "1067      630.0      47.0        0.083333            2.0  200.086806   \n",
      "1068      630.0      48.0        0.083333            2.0  200.086806   \n",
      "1069      630.0      49.0        0.083333            2.0  200.086806   \n",
      "1070      630.0      50.0        0.083333            2.0  200.086806   \n",
      "\n",
      "       energyUsage  \n",
      "0     6.000305e+03  \n",
      "1     1.200054e+04  \n",
      "2     1.800071e+04  \n",
      "3     2.400081e+04  \n",
      "4     3.000090e+04  \n",
      "...            ...  \n",
      "1066  6.421593e+06  \n",
      "1067  6.427617e+06  \n",
      "1068  6.433642e+06  \n",
      "1069  6.439667e+06  \n",
      "1070  6.445690e+06  \n",
      "\n",
      "[1071 rows x 6 columns]\n"
     ]
    }
   ],
   "source": [
    "query_heft = 'from(bucket:\"FinalExperiment\")\\\n",
    "|> range(start: 2023-10-24T18:00:00Z, stop: 2023-10-24T18:15:00Z)\\\n",
    "|> filter(fn: (r) => r._measurement == \"OpenDC_Energy_Experiment\" and r._field =~ /policyId|guestsRunning|cpuUtilisation|timestamp|powerUsage|energyUsage|serverId/)\\\n",
    "|> pivot(rowKey:[\"_time\"], columnKey: [\"_field\"], valueColumn: \"_value\")\\\n",
    "|> filter(fn:(r) => r.policyId == 152)'\n",
    "result_heft = query_api.query_data_frame(org=org, query=query_heft)\n",
    "\n",
    "df_heft = result_heft[['timestamp','serverId','cpuUtilisation','guestsRunning','powerUsage','energyUsage']]\n",
    "print(df_heft)"
   ]
  },
  {
   "cell_type": "code",
   "execution_count": 6,
   "id": "89e5af9130005a08",
   "metadata": {
    "ExecuteTime": {
     "end_time": "2023-10-24T18:17:10.834470875Z",
     "start_time": "2023-10-24T18:17:10.213747799Z"
    },
    "collapsed": false,
    "execution": {
     "iopub.execute_input": "2023-10-29T13:50:44.209525Z",
     "iopub.status.busy": "2023-10-29T13:50:44.209310Z",
     "iopub.status.idle": "2023-10-29T13:50:44.548999Z",
     "shell.execute_reply": "2023-10-29T13:50:44.548365Z"
    }
   },
   "outputs": [
    {
     "name": "stdout",
     "output_type": "stream",
     "text": [
      "      timestamp  serverId  cpuUtilisation  guestsRunning  powerUsage   \n",
      "0          30.0       0.0        0.041667            1.0  200.010851  \\\n",
      "1          30.0       1.0        0.041667            1.0  200.010851   \n",
      "2          30.0       2.0        0.041667            1.0  200.010851   \n",
      "3          30.0       3.0        0.041667            1.0  200.010851   \n",
      "4          30.0       4.0        0.041667            1.0  200.010851   \n",
      "...         ...       ...             ...            ...         ...   \n",
      "1066      630.0      46.0        0.083333            2.0  200.086806   \n",
      "1067      630.0      47.0        0.125000            3.0  200.292969   \n",
      "1068      630.0      48.0        0.125000            3.0  200.292969   \n",
      "1069      630.0      49.0        0.083333            2.0  200.086806   \n",
      "1070      630.0      50.0        0.041667            1.0  200.010851   \n",
      "\n",
      "       energyUsage  \n",
      "0     6.000305e+03  \n",
      "1     1.200054e+04  \n",
      "2     1.800071e+04  \n",
      "3     2.400082e+04  \n",
      "4     3.000094e+04  \n",
      "...            ...  \n",
      "1066  6.421599e+06  \n",
      "1067  6.427623e+06  \n",
      "1068  6.433648e+06  \n",
      "1069  6.439672e+06  \n",
      "1070  6.445696e+06  \n",
      "\n",
      "[1071 rows x 6 columns]\n"
     ]
    }
   ],
   "source": [
    "query_random = 'from(bucket:\"FinalExperiment\")\\\n",
    "|> range(start: 2023-10-24T18:00:00Z, stop: 2023-10-24T18:15:00Z)\\\n",
    "|> filter(fn: (r) => r._measurement == \"OpenDC_Energy_Experiment\" and r._field =~ /policyId|guestsRunning|cpuUtilisation|timestamp|powerUsage|energyUsage|serverId/)\\\n",
    "|> pivot(rowKey:[\"_time\"], columnKey: [\"_field\"], valueColumn: \"_value\")\\\n",
    "|> filter(fn:(r) => r.policyId == 153)'\n",
    "result_random = query_api.query_data_frame(org=org, query=query_random)\n",
    "\n",
    "df_random = result_random[['timestamp','serverId','cpuUtilisation','guestsRunning','powerUsage','energyUsage']]\n",
    "print(df_random)"
   ]
  },
  {
   "cell_type": "code",
   "execution_count": 7,
   "id": "aff1024d1a8e3d54",
   "metadata": {
    "ExecuteTime": {
     "end_time": "2023-10-24T18:17:10.859105664Z",
     "start_time": "2023-10-24T18:17:10.835122726Z"
    },
    "collapsed": false,
    "execution": {
     "iopub.execute_input": "2023-10-29T13:50:44.551512Z",
     "iopub.status.busy": "2023-10-29T13:50:44.551299Z",
     "iopub.status.idle": "2023-10-29T13:50:44.554492Z",
     "shell.execute_reply": "2023-10-29T13:50:44.554014Z"
    }
   },
   "outputs": [],
   "source": [
    "# query_minmin = 'from(bucket:\"Experiment\")\\\n",
    "# |> range(start: 2023-10-24T18:00:00Z, stop: 2023-10-24T18:15:00Z)\\\n",
    "# |> filter(fn: (r) => r._measurement == \"OpenDC_Energy_Experiment\" and r._field =~ /policy_id|guestsRunning|cpuUtilisation|timestamp|powerUsage|energyUsage|host_id/)\\\n",
    "# |> pivot(rowKey:[\"_time\"], columnKey: [\"_field\"], valueColumn: \"_value\")\\\n",
    "# |> filter(fn:(r) => r.policy_id == 4)'\n",
    "# result_minmin = query_api.query_data_frame(org=org, query=query_minmin)\n",
    "# \n",
    "# df_minmin = result_minmin[['timestamp','host_id','cpuUtilisation','guestsRunning','powerUsage','energyUsage']]\n",
    "# print(df_minmin)"
   ]
  },
  {
   "cell_type": "code",
   "execution_count": 8,
   "id": "48c4d8df7df1c9d6",
   "metadata": {
    "ExecuteTime": {
     "end_time": "2023-10-24T18:17:10.999400912Z",
     "start_time": "2023-10-24T18:17:10.845926630Z"
    },
    "collapsed": false,
    "execution": {
     "iopub.execute_input": "2023-10-29T13:50:44.556627Z",
     "iopub.status.busy": "2023-10-29T13:50:44.556411Z",
     "iopub.status.idle": "2023-10-29T13:50:44.564515Z",
     "shell.execute_reply": "2023-10-29T13:50:44.563904Z"
    }
   },
   "outputs": [
    {
     "name": "stdout",
     "output_type": "stream",
     "text": [
      "      timestamp  serverId   energyUsage\n",
      "50         30.0        50  3.060013e+05\n",
      "101        60.0        50  6.121987e+05\n",
      "152        90.0        50  9.197556e+05\n",
      "203       120.0        50  1.226103e+06\n",
      "254       150.0        50  1.533743e+06\n",
      "305       180.0        50  1.840112e+06\n",
      "356       210.0        50  2.147774e+06\n",
      "407       240.0        50  2.454106e+06\n",
      "458       270.0        50  2.761792e+06\n",
      "509       300.0        50  3.068153e+06\n",
      "560       330.0        50  3.375823e+06\n",
      "611       360.0        50  3.682139e+06\n",
      "662       390.0        50  3.989730e+06\n",
      "713       420.0        50  4.296085e+06\n",
      "764       450.0        50  4.603748e+06\n",
      "815       480.0        50  4.910051e+06\n",
      "866       510.0        50  5.217640e+06\n",
      "917       540.0        50  5.523990e+06\n",
      "968       570.0        50  5.831667e+06\n",
      "1019      600.0        50  6.137985e+06\n",
      "1070      630.0        50  6.445675e+06\n"
     ]
    },
    {
     "name": "stderr",
     "output_type": "stream",
     "text": [
      "/tmp/ipykernel_45575/1537118985.py:2: SettingWithCopyWarning: \n",
      "A value is trying to be set on a copy of a slice from a DataFrame.\n",
      "Try using .loc[row_indexer,col_indexer] = value instead\n",
      "\n",
      "See the caveats in the documentation: https://pandas.pydata.org/pandas-docs/stable/user_guide/indexing.html#returning-a-view-versus-a-copy\n",
      "  df_total_power_standard['serverId'] = df_total_power_standard['serverId']. astype(int)\n"
     ]
    }
   ],
   "source": [
    "df_total_power_standard = df_standard[['timestamp','serverId','energyUsage']]\n",
    "df_total_power_standard['serverId'] = df_total_power_standard['serverId']. astype(int)\n",
    "df_total_power_standard = df_total_power_standard.loc[df_total_power_standard['serverId'] == 50]\n",
    "print(df_total_power_standard)"
   ]
  },
  {
   "cell_type": "code",
   "execution_count": 9,
   "id": "9d5184d679b6660f",
   "metadata": {
    "ExecuteTime": {
     "end_time": "2023-10-24T18:17:11.085414978Z",
     "start_time": "2023-10-24T18:17:10.980367686Z"
    },
    "collapsed": false,
    "execution": {
     "iopub.execute_input": "2023-10-29T13:50:44.566932Z",
     "iopub.status.busy": "2023-10-29T13:50:44.566728Z",
     "iopub.status.idle": "2023-10-29T13:50:44.574287Z",
     "shell.execute_reply": "2023-10-29T13:50:44.573757Z"
    }
   },
   "outputs": [
    {
     "name": "stdout",
     "output_type": "stream",
     "text": [
      "      timestamp  serverId   energyUsage\n",
      "50         30.0        50  3.060013e+05\n",
      "101        60.0        50  6.121987e+05\n",
      "152        90.0        50  9.197568e+05\n",
      "203       120.0        50  1.226103e+06\n",
      "254       150.0        50  1.533743e+06\n",
      "305       180.0        50  1.840114e+06\n",
      "356       210.0        50  2.147772e+06\n",
      "407       240.0        50  2.454105e+06\n",
      "458       270.0        50  2.761795e+06\n",
      "509       300.0        50  3.068158e+06\n",
      "560       330.0        50  3.375826e+06\n",
      "611       360.0        50  3.682143e+06\n",
      "662       390.0        50  3.989732e+06\n",
      "713       420.0        50  4.296086e+06\n",
      "764       450.0        50  4.603759e+06\n",
      "815       480.0        50  4.910063e+06\n",
      "866       510.0        50  5.217651e+06\n",
      "917       540.0        50  5.524002e+06\n",
      "968       570.0        50  5.831683e+06\n",
      "1019      600.0        50  6.137999e+06\n",
      "1070      630.0        50  6.445690e+06\n"
     ]
    },
    {
     "name": "stderr",
     "output_type": "stream",
     "text": [
      "/tmp/ipykernel_45575/1378030441.py:2: SettingWithCopyWarning: \n",
      "A value is trying to be set on a copy of a slice from a DataFrame.\n",
      "Try using .loc[row_indexer,col_indexer] = value instead\n",
      "\n",
      "See the caveats in the documentation: https://pandas.pydata.org/pandas-docs/stable/user_guide/indexing.html#returning-a-view-versus-a-copy\n",
      "  df_total_power_heft['serverId'] = df_total_power_heft['serverId']. astype(int)\n"
     ]
    }
   ],
   "source": [
    "df_total_power_heft = df_heft[['timestamp','serverId','energyUsage']]\n",
    "df_total_power_heft['serverId'] = df_total_power_heft['serverId']. astype(int)\n",
    "df_total_power_heft = df_total_power_heft.loc[df_total_power_heft['serverId'] == 50]\n",
    "print(df_total_power_heft)"
   ]
  },
  {
   "cell_type": "code",
   "execution_count": 10,
   "id": "5eb714008442e4ae",
   "metadata": {
    "ExecuteTime": {
     "end_time": "2023-10-24T18:17:11.238013456Z",
     "start_time": "2023-10-24T18:17:11.085744335Z"
    },
    "collapsed": false,
    "execution": {
     "iopub.execute_input": "2023-10-29T13:50:44.576715Z",
     "iopub.status.busy": "2023-10-29T13:50:44.576542Z",
     "iopub.status.idle": "2023-10-29T13:50:44.584004Z",
     "shell.execute_reply": "2023-10-29T13:50:44.583546Z"
    }
   },
   "outputs": [
    {
     "name": "stdout",
     "output_type": "stream",
     "text": [
      "      timestamp  serverId   energyUsage\n",
      "50         30.0        50  3.060013e+05\n",
      "101        60.0        50  6.121991e+05\n",
      "152        90.0        50  9.197578e+05\n",
      "203       120.0        50  1.226103e+06\n",
      "254       150.0        50  1.533745e+06\n",
      "305       180.0        50  1.840116e+06\n",
      "356       210.0        50  2.147773e+06\n",
      "407       240.0        50  2.454106e+06\n",
      "458       270.0        50  2.761802e+06\n",
      "509       300.0        50  3.068166e+06\n",
      "560       330.0        50  3.375836e+06\n",
      "611       360.0        50  3.682152e+06\n",
      "662       390.0        50  3.989743e+06\n",
      "713       420.0        50  4.296098e+06\n",
      "764       450.0        50  4.603765e+06\n",
      "815       480.0        50  4.910071e+06\n",
      "866       510.0        50  5.217657e+06\n",
      "917       540.0        50  5.524007e+06\n",
      "968       570.0        50  5.831688e+06\n",
      "1019      600.0        50  6.138005e+06\n",
      "1070      630.0        50  6.445696e+06\n"
     ]
    },
    {
     "name": "stderr",
     "output_type": "stream",
     "text": [
      "/tmp/ipykernel_45575/1531194953.py:2: SettingWithCopyWarning: \n",
      "A value is trying to be set on a copy of a slice from a DataFrame.\n",
      "Try using .loc[row_indexer,col_indexer] = value instead\n",
      "\n",
      "See the caveats in the documentation: https://pandas.pydata.org/pandas-docs/stable/user_guide/indexing.html#returning-a-view-versus-a-copy\n",
      "  df_total_power_random['serverId'] = df_total_power_random['serverId']. astype(int)\n"
     ]
    }
   ],
   "source": [
    "df_total_power_random = df_random[['timestamp','serverId','energyUsage']]\n",
    "df_total_power_random['serverId'] = df_total_power_random['serverId']. astype(int)\n",
    "df_total_power_random = df_total_power_random.loc[df_total_power_random['serverId'] == 50]\n",
    "print(df_total_power_random)"
   ]
  },
  {
   "cell_type": "code",
   "execution_count": 11,
   "id": "95416f964813cace",
   "metadata": {
    "ExecuteTime": {
     "end_time": "2023-10-24T18:17:11.308507631Z",
     "start_time": "2023-10-24T18:17:11.208800126Z"
    },
    "collapsed": false,
    "execution": {
     "iopub.execute_input": "2023-10-29T13:50:44.586422Z",
     "iopub.status.busy": "2023-10-29T13:50:44.586247Z",
     "iopub.status.idle": "2023-10-29T13:50:44.589019Z",
     "shell.execute_reply": "2023-10-29T13:50:44.588388Z"
    }
   },
   "outputs": [],
   "source": [
    "# df_total_power_minmin = df_minmin[['timestamp','host_id','energyUsage']]\n",
    "# df_total_power_minmin['host_id'] = df_total_power_minmin['host_id']. astype(int)\n",
    "# df_total_power_minmin = df_total_power_minmin.loc[df_total_power_minmin['host_id'] == 33]\n",
    "# print(df_total_power_minmin)"
   ]
  },
  {
   "cell_type": "code",
   "execution_count": 12,
   "id": "918114e71ff815b6",
   "metadata": {
    "ExecuteTime": {
     "end_time": "2023-10-24T18:17:12.291298121Z",
     "start_time": "2023-10-24T18:17:11.277749715Z"
    },
    "collapsed": false,
    "execution": {
     "iopub.execute_input": "2023-10-29T13:50:44.591782Z",
     "iopub.status.busy": "2023-10-29T13:50:44.591604Z",
     "iopub.status.idle": "2023-10-29T13:50:45.100999Z",
     "shell.execute_reply": "2023-10-29T13:50:45.100139Z"
    }
   },
   "outputs": [
    {
     "data": {
      "image/png": "[encoded data removed]",
      "text/plain": [
       "<Figure size 1050x750 with 1 Axes>"
      ]
     },
     "metadata": {},
     "output_type": "display_data"
    }
   ],
   "source": [
    "df1 = df_total_power_standard.drop(['serverId'], axis=1)\n",
    "df2 = df_total_power_heft.drop(['serverId'], axis=1)\n",
    "df3 = df_total_power_random.drop(['serverId'], axis=1)\n",
    "# df4 = df_total_power_minmin.drop(['host_id'], axis=1)\n",
    "# print(df1)\n",
    "# Create a list of all the dataframes\n",
    "dfs = [df1, df2, df3]\n",
    "\n",
    "# Create a new dataframe with all the timestamps from all the dataframes\n",
    "df_timestamps = pd.DataFrame({'timestamp': sorted(set(sum([df['timestamp'].tolist() for df in dfs], [])))})\n",
    "\n",
    "# Merge the new dataframe with all the dataframes, filling in missing values with 0\n",
    "df_merged = df_timestamps.merge(df1, how='left', on='timestamp', suffixes=('', '_x')).merge(df2, how='left', on='timestamp', suffixes=('', '_y')).merge(df3, how='left', on='timestamp', suffixes=('', '_z')).fillna(0)\n",
    "\n",
    "# Convert watts to kiloWatt-hours\n",
    "df_merged[\"energyUsage\"] = df_merged[\"energyUsage\"]/(1000*3600)\n",
    "df_merged[\"energyUsage_y\"] = df_merged[\"energyUsage_y\"]/(1000*3600)\n",
    "df_merged[\"energyUsage_z\"] = df_merged[\"energyUsage_z\"]/(1000*3600)\n",
    "# df_merged[\"energyUsage_w\"] = df_merged[\"energyUsage_w\"]/1000000\n",
    "df_merged.rename(columns={'energyUsage': 'FIFO-Algorithm', 'energyUsage_y': 'HEFT-Algorithm', 'energyUsage_z': 'Random-Algorithm'}, inplace=True) #, 'energyUsage_w': 'MinMin-Algorithm'\n",
    "df_merged['timestamp'] = df_merged['timestamp'].astype(int)\n",
    "\n",
    "# drop first and second column to have consistent distance of plots\n",
    "df_merged = df_merged.drop(0)\n",
    "# df_merged = df_merged.reset_index(drop= True)\n",
    "df_merged = df_merged.drop(1)\n",
    "df_merged = df_merged.reset_index(drop= True)\n",
    "# Create a custom x-axis with every 3rd value, due to very large number of elements in timestamp!\n",
    "df_merged = df_merged[df_merged.index % 3 == 0]\n",
    "\n",
    "# print(df_merged)\n",
    "# Create a bar plot of the merged dataframe, grouped by timestamp\n",
    "fig, ax = plt.subplots()\n",
    "df_merged.plot.bar(x='timestamp', ax=ax, title='Power consumption with various scheduling algorithms for shell trace\\n with 150% cluster-size configuration', width=.75)\n",
    "plt.gca().xaxis.set_tick_params(rotation=45)\n",
    "plt.grid(True)\n",
    "plt.ylabel('Total power consumption (in kWh: kiloWatt-Hours)', fontsize=15)\n",
    "plt.xlabel('Timestamp (in s: seconds)', fontsize=15)\n",
    "fig.set_size_inches(10.5, 7.5)\n",
    "fig.savefig('multiple_hosts_energy_plotted_trace_shell_150.png', bbox_inches='tight')\n",
    "plt.show()"
   ]
  },
  {
   "cell_type": "code",
   "execution_count": 13,
   "id": "dd9256b6af1362d1",
   "metadata": {
    "ExecuteTime": {
     "end_time": "2023-10-24T18:17:12.438566741Z",
     "start_time": "2023-10-24T18:17:12.290805222Z"
    },
    "collapsed": false,
    "execution": {
     "iopub.execute_input": "2023-10-29T13:50:45.105453Z",
     "iopub.status.busy": "2023-10-29T13:50:45.105100Z",
     "iopub.status.idle": "2023-10-29T13:50:45.112106Z",
     "shell.execute_reply": "2023-10-29T13:50:45.111345Z"
    }
   },
   "outputs": [
    {
     "name": "stdout",
     "output_type": "stream",
     "text": [
      "    timestamp  FIFO-Algorithm  HEFT-Algorithm  Random-Algorithm\n",
      "0          90        0.255488        0.255488          0.255488\n",
      "3         180        0.511142        0.511143          0.511143\n",
      "6         270        0.767164        0.767165          0.767167\n",
      "9         360        1.022816        1.022817          1.022820\n",
      "12        450        1.278819        1.278822          1.278824\n",
      "15        540        1.534442        1.534445          1.534446\n",
      "18        630        1.790465        1.790469          1.790471\n"
     ]
    }
   ],
   "source": [
    "# df_merged[\"energyUsage\"] = df_merged[\"energyUsage\"]/(1000*3600)\n",
    "# df_merged[\"energyUsage_y\"] = df_merged[\"energyUsage_y\"]/(1000*3600)\n",
    "# df_merged[\"energyUsage_z\"] = df_merged[\"energyUsage_z\"]/(1000*3600)\n",
    "print(df_merged)"
   ]
  },
  {
   "cell_type": "code",
   "execution_count": 14,
   "id": "cf05cddd56d570cd",
   "metadata": {
    "ExecuteTime": {
     "end_time": "2023-10-24T18:17:12.439027327Z",
     "start_time": "2023-10-24T18:17:12.332822519Z"
    },
    "collapsed": false,
    "execution": {
     "iopub.execute_input": "2023-10-29T13:50:45.115004Z",
     "iopub.status.busy": "2023-10-29T13:50:45.114731Z",
     "iopub.status.idle": "2023-10-29T13:50:45.122672Z",
     "shell.execute_reply": "2023-10-29T13:50:45.121683Z"
    }
   },
   "outputs": [
    {
     "name": "stdout",
     "output_type": "stream",
     "text": [
      "Total energy consumption in FIFO algorithm for executing given trace - 1.7904653208532995 kWh\n",
      "Total energy consumption in HEFT algorithm for executing given trace - 1.7904694181566845 kWh\n",
      "Total energy consumption in Random algorithm for executing given trace - 1.7904711018451998 kWh\n"
     ]
    }
   ],
   "source": [
    "# Reverse the column and find the first non-zero value for getting total power\n",
    "last_non_zero_value_standard = df_merged[df_merged['FIFO-Algorithm'] != 0]['FIFO-Algorithm'].iloc[-1]\n",
    "print(f\"Total energy consumption in FIFO algorithm for executing given trace - {last_non_zero_value_standard} kWh\")\n",
    "last_non_zero_value_heft = df_merged[df_merged['HEFT-Algorithm'] != 0]['HEFT-Algorithm'].iloc[-1]\n",
    "print(f\"Total energy consumption in HEFT algorithm for executing given trace - {last_non_zero_value_heft} kWh\")\n",
    "last_non_zero_value_random = df_merged[df_merged['Random-Algorithm'] != 0]['Random-Algorithm'].iloc[-1]\n",
    "print(f\"Total energy consumption in Random algorithm for executing given trace - {last_non_zero_value_random} kWh\")"
   ]
  },
  {
   "cell_type": "code",
   "execution_count": 15,
   "id": "e178ed8f355873b7",
   "metadata": {
    "ExecuteTime": {
     "end_time": "2023-10-24T18:17:12.683968407Z",
     "start_time": "2023-10-24T18:17:12.378390529Z"
    },
    "collapsed": false,
    "execution": {
     "iopub.execute_input": "2023-10-29T13:50:45.126870Z",
     "iopub.status.busy": "2023-10-29T13:50:45.126221Z",
     "iopub.status.idle": "2023-10-29T13:50:45.131586Z",
     "shell.execute_reply": "2023-10-29T13:50:45.130728Z"
    }
   },
   "outputs": [
    {
     "name": "stdout",
     "output_type": "stream",
     "text": [
      "[1.7904653208532995, 1.7904694181566845, 1.7904711018451998]\n"
     ]
    }
   ],
   "source": [
    "total_energy_for_all_scheduling_algos = [last_non_zero_value_standard, last_non_zero_value_heft, last_non_zero_value_random]\n",
    "print(total_energy_for_all_scheduling_algos)"
   ]
  },
  {
   "cell_type": "code",
   "execution_count": 16,
   "id": "1bbaebe2ffcfd113",
   "metadata": {
    "ExecuteTime": {
     "end_time": "2023-10-24T18:17:12.785315355Z",
     "start_time": "2023-10-24T18:17:12.691464225Z"
    },
    "collapsed": false,
    "execution": {
     "iopub.execute_input": "2023-10-29T13:50:45.135512Z",
     "iopub.status.busy": "2023-10-29T13:50:45.134869Z",
     "iopub.status.idle": "2023-10-29T13:50:45.144040Z",
     "shell.execute_reply": "2023-10-29T13:50:45.143186Z"
    }
   },
   "outputs": [
    {
     "name": "stdout",
     "output_type": "stream",
     "text": [
      "Resource scheduling algorithm FIFO is the most optimal amongst the three scheduling algorithms analysed above!\n",
      "----------------------------------------------------------------------------------------------------------------------------------------------\n",
      "Scheduling algorithm HEFT records 0.00023% worse energy-efficiency than the scheduling algorithm FIFO for shell workload trace and 150% cluster-size configuration.\n",
      "Scheduling algorithm Random records 0.00032% worse energy-efficiency than the scheduling algorithm FIFO for shell workload trace and 150% cluster-size configuration.\n"
     ]
    }
   ],
   "source": [
    "min_value = min(total_energy_for_all_scheduling_algos)\n",
    "dict = {0:\"FIFO\", 1:\"HEFT\", 2:\"Random\"}\n",
    "min_index = total_energy_for_all_scheduling_algos.index(min_value)\n",
    "\n",
    "# Calculate the percentage difference for each element compared to the minimum\n",
    "percentages = []\n",
    "for i, value in enumerate(total_energy_for_all_scheduling_algos):\n",
    "    if i == min_index:\n",
    "        continue  # Skip comparing the minimum value to itself\n",
    "    percentage_difference = ((value - min_value) / min_value) * 100\n",
    "    percentages.append((i, percentage_difference))\n",
    "\n",
    "# Print the results\n",
    "print(f\"Resource scheduling algorithm {dict[min_index]} is the most optimal amongst the three scheduling algorithms analysed above!\")\n",
    "print(\"----------------------------------------------------------------------------------------------------------------------------------------------\")\n",
    "for i, percentage in percentages:\n",
    "    print(f\"Scheduling algorithm {dict[i]} records {abs(percentage):.5f}% {'better' if percentage < 0 else 'worse'} energy-efficiency than the scheduling algorithm {dict[min_index]} for shell workload trace and 150% cluster-size configuration.\")\n"
   ]
  },
  {
   "cell_type": "code",
   "execution_count": 16,
   "id": "709b58304c7c1f92",
   "metadata": {
    "ExecuteTime": {
     "end_time": "2023-10-24T18:17:12.786034707Z",
     "start_time": "2023-10-24T18:17:12.770142830Z"
    },
    "collapsed": false
   },
   "outputs": [],
   "source": []
  }
 ],
 "metadata": {
  "kernelspec": {
   "display_name": "Python 3",
   "language": "python",
   "name": "python3"
  },
  "language_info": {
   "codemirror_mode": {
    "name": "ipython",
    "version": 3
   },
   "file_extension": ".py",
   "mimetype": "text/x-python",
   "name": "python",
   "nbconvert_exporter": "python",
   "pygments_lexer": "ipython3",
   "version": "3.11.6"
  }
 },
 "nbformat": 4,
 "nbformat_minor": 5
}
