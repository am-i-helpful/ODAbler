{
 "cells": [
  {
   "cell_type": "code",
   "execution_count": 1,
   "id": "initial_id",
   "metadata": {
    "ExecuteTime": {
     "end_time": "2023-10-24T18:17:01.371021405Z",
     "start_time": "2023-10-24T18:17:01.248017218Z"
    },
    "collapsed": true,
    "execution": {
     "iopub.execute_input": "2023-10-29T13:50:46.484288Z",
     "iopub.status.busy": "2023-10-29T13:50:46.483638Z",
     "iopub.status.idle": "2023-10-29T13:50:46.493095Z",
     "shell.execute_reply": "2023-10-29T13:50:46.491083Z"
    }
   },
   "outputs": [],
   "source": [
    "# !pip install influxdb-client"
   ]
  },
  {
   "cell_type": "code",
   "execution_count": 2,
   "id": "7061e3b22c4a6107",
   "metadata": {
    "ExecuteTime": {
     "end_time": "2023-10-24T18:17:08.227049893Z",
     "start_time": "2023-10-24T18:17:01.248323936Z"
    },
    "collapsed": false,
    "execution": {
     "iopub.execute_input": "2023-10-29T13:50:46.500695Z",
     "iopub.status.busy": "2023-10-29T13:50:46.499866Z",
     "iopub.status.idle": "2023-10-29T13:50:47.388147Z",
     "shell.execute_reply": "2023-10-29T13:50:47.387471Z"
    }
   },
   "outputs": [],
   "source": [
    "import influxdb_client\n",
    "import pandas as pd\n",
    "import matplotlib.pyplot as plt\n",
    "import json\n",
    "from pathlib import Path"
   ]
  },
  {
   "cell_type": "code",
   "execution_count": 3,
   "id": "327e81c9028d2a68",
   "metadata": {
    "ExecuteTime": {
     "end_time": "2023-10-24T18:17:08.544915113Z",
     "start_time": "2023-10-24T18:17:08.229343561Z"
    },
    "collapsed": false,
    "execution": {
     "iopub.execute_input": "2023-10-29T13:50:47.391154Z",
     "iopub.status.busy": "2023-10-29T13:50:47.390784Z",
     "iopub.status.idle": "2023-10-29T13:50:47.399441Z",
     "shell.execute_reply": "2023-10-29T13:50:47.398756Z"
    }
   },
   "outputs": [
    {
     "name": "stdout",
     "output_type": "stream",
     "text": [
      "{'bucket': 'FinalExperiment', 'org': '@Large-Research', 'token': 'd5KtoS1-I2iMVHiRQsVnXKV7MW7QR70Z1mqRdvqs08v-jKxEv8Q_URRHr2tl4AUwwqWHDeZNUKEtSTLjiCf-vg==', 'url': 'http://localhost:8086', 'location': 'Amsterdam'}\n"
     ]
    }
   ],
   "source": [
    "config_file = \"/windows/os/Thesis-Project/ODAbler/key-configurations/influxdb-config.json\"\n",
    "p = Path(config_file)\n",
    "with p.open('r') as f:\n",
    "    content = json.load(f)\n",
    "    print(content)\n",
    "url = content['url']\n",
    "token = content['token']\n",
    "org = content['org']\n",
    "client = influxdb_client.InfluxDBClient(\n",
    "   url=url,\n",
    "   token=token,\n",
    "   org=org\n",
    ")\n",
    "query_api = client.query_api()"
   ]
  },
  {
   "cell_type": "code",
   "execution_count": 4,
   "id": "611c3963e3ffc6dc",
   "metadata": {
    "ExecuteTime": {
     "end_time": "2023-10-24T18:17:09.130446996Z",
     "start_time": "2023-10-24T18:17:08.546596813Z"
    },
    "collapsed": false,
    "execution": {
     "iopub.execute_input": "2023-10-29T13:50:47.402417Z",
     "iopub.status.busy": "2023-10-29T13:50:47.402228Z",
     "iopub.status.idle": "2023-10-29T13:50:47.596635Z",
     "shell.execute_reply": "2023-10-29T13:50:47.595886Z"
    }
   },
   "outputs": [
    {
     "name": "stdout",
     "output_type": "stream",
     "text": [
      "     timestamp  serverId  cpuUtilisation  guestsRunning  powerUsage   \n",
      "0         30.0       0.0        0.041667            1.0  200.010851  \\\n",
      "1         30.0       1.0        0.041667            1.0  200.010851   \n",
      "2         30.0       2.0        0.041667            1.0  200.010851   \n",
      "3         30.0       3.0        0.041667            1.0  200.010851   \n",
      "4         30.0       4.0        0.000000            0.0  200.000000   \n",
      "..         ...       ...             ...            ...         ...   \n",
      "415      630.0      15.0        0.291667            7.0  203.721788   \n",
      "416      630.0      16.0        0.166667            4.0  200.694444   \n",
      "417      630.0      17.0        0.250000            6.0  202.343750   \n",
      "418      630.0      18.0        0.291667            7.0  203.721788   \n",
      "419      630.0      19.0        0.333333            8.0  205.555556   \n",
      "\n",
      "      energyUsage  \n",
      "0    6.000305e+03  \n",
      "1    1.200054e+04  \n",
      "2    1.800071e+04  \n",
      "3    2.400081e+04  \n",
      "4    3.000090e+04  \n",
      "..            ...  \n",
      "415  2.616775e+06  \n",
      "416  2.623247e+06  \n",
      "417  2.629717e+06  \n",
      "418  2.636184e+06  \n",
      "419  2.642670e+06  \n",
      "\n",
      "[420 rows x 6 columns]\n"
     ]
    }
   ],
   "source": [
    "query_standard = 'from(bucket:\"FinalExperiment\")\\\n",
    "|> range(start: 2023-10-24T18:00:00Z, stop: 2023-10-24T18:15:00Z)\\\n",
    "|> filter(fn: (r) => r._measurement == \"OpenDC_Energy_Experiment\" and r._field =~ /policyId|guestsRunning|cpuUtilisation|timestamp|powerUsage|energyUsage|serverId/)\\\n",
    "|> pivot(rowKey:[\"_time\"], columnKey: [\"_field\"], valueColumn: \"_value\")\\\n",
    "|> filter(fn:(r) => r.policyId == 61)'\n",
    "result_standard = query_api.query_data_frame(org=org, query=query_standard)\n",
    "\n",
    "#display(result_standard.head(10))\n",
    "pd.set_option('display.max_columns', None)\n",
    "df_standard = result_standard[['timestamp','serverId','cpuUtilisation','guestsRunning','powerUsage','energyUsage']]\n",
    "print(df_standard)"
   ]
  },
  {
   "cell_type": "code",
   "execution_count": 5,
   "id": "3b46a2557b60c693",
   "metadata": {
    "ExecuteTime": {
     "end_time": "2023-10-24T18:17:09.718880158Z",
     "start_time": "2023-10-24T18:17:09.095975778Z"
    },
    "collapsed": false,
    "execution": {
     "iopub.execute_input": "2023-10-29T13:50:47.598777Z",
     "iopub.status.busy": "2023-10-29T13:50:47.598562Z",
     "iopub.status.idle": "2023-10-29T13:50:47.792984Z",
     "shell.execute_reply": "2023-10-29T13:50:47.792327Z"
    }
   },
   "outputs": [
    {
     "name": "stdout",
     "output_type": "stream",
     "text": [
      "     timestamp  serverId  cpuUtilisation  guestsRunning  powerUsage   \n",
      "0         30.0       0.0        0.041667            1.0  200.010851  \\\n",
      "1         30.0       1.0        0.041667            1.0  200.010851   \n",
      "2         30.0       2.0        0.041667            1.0  200.010851   \n",
      "3         30.0       3.0        0.041667            1.0  200.010851   \n",
      "4         30.0       4.0        0.000000            0.0  200.000000   \n",
      "..         ...       ...             ...            ...         ...   \n",
      "415      630.0      15.0        0.166667            4.0  200.694444   \n",
      "416      630.0      16.0        0.291667            7.0  203.721788   \n",
      "417      630.0      17.0        0.291667            7.0  203.721788   \n",
      "418      630.0      18.0        0.291667            7.0  203.721788   \n",
      "419      630.0      19.0        0.250000            6.0  202.343750   \n",
      "\n",
      "      energyUsage  \n",
      "0    6.000305e+03  \n",
      "1    1.200054e+04  \n",
      "2    1.800071e+04  \n",
      "3    2.400081e+04  \n",
      "4    3.000090e+04  \n",
      "..            ...  \n",
      "415  2.616752e+06  \n",
      "416  2.623233e+06  \n",
      "417  2.629694e+06  \n",
      "418  2.636161e+06  \n",
      "419  2.642644e+06  \n",
      "\n",
      "[420 rows x 6 columns]\n"
     ]
    }
   ],
   "source": [
    "query_heft = 'from(bucket:\"FinalExperiment\")\\\n",
    "|> range(start: 2023-10-24T18:00:00Z, stop: 2023-10-24T18:15:00Z)\\\n",
    "|> filter(fn: (r) => r._measurement == \"OpenDC_Energy_Experiment\" and r._field =~ /policyId|guestsRunning|cpuUtilisation|timestamp|powerUsage|energyUsage|serverId/)\\\n",
    "|> pivot(rowKey:[\"_time\"], columnKey: [\"_field\"], valueColumn: \"_value\")\\\n",
    "|> filter(fn:(r) => r.policyId == 62)'\n",
    "result_heft = query_api.query_data_frame(org=org, query=query_heft)\n",
    "\n",
    "df_heft = result_heft[['timestamp','serverId','cpuUtilisation','guestsRunning','powerUsage','energyUsage']]\n",
    "print(df_heft)"
   ]
  },
  {
   "cell_type": "code",
   "execution_count": 6,
   "id": "89e5af9130005a08",
   "metadata": {
    "ExecuteTime": {
     "end_time": "2023-10-24T18:17:10.072915230Z",
     "start_time": "2023-10-24T18:17:09.698196803Z"
    },
    "collapsed": false,
    "execution": {
     "iopub.execute_input": "2023-10-29T13:50:47.795569Z",
     "iopub.status.busy": "2023-10-29T13:50:47.795333Z",
     "iopub.status.idle": "2023-10-29T13:50:47.997445Z",
     "shell.execute_reply": "2023-10-29T13:50:47.996665Z"
    }
   },
   "outputs": [
    {
     "name": "stdout",
     "output_type": "stream",
     "text": [
      "     timestamp  serverId  cpuUtilisation  guestsRunning  powerUsage   \n",
      "0         30.0       0.0        0.041667            1.0  200.010851  \\\n",
      "1         30.0       1.0        0.041667            1.0  200.010851   \n",
      "2         30.0       2.0        0.041667            1.0  200.010851   \n",
      "3         30.0       3.0        0.041667            1.0  200.010851   \n",
      "4         30.0       4.0        0.041667            1.0  200.010851   \n",
      "..         ...       ...             ...            ...         ...   \n",
      "415      630.0      15.0        0.291667            7.0  203.721788   \n",
      "416      630.0      16.0        0.250000            6.0  202.343750   \n",
      "417      630.0      17.0        0.291667            7.0  203.721788   \n",
      "418      630.0      18.0        0.250000            6.0  202.343750   \n",
      "419      630.0      19.0        0.250000            6.0  202.343750   \n",
      "\n",
      "      energyUsage  \n",
      "0    6.000305e+03  \n",
      "1    1.200054e+04  \n",
      "2    1.800071e+04  \n",
      "3    2.400082e+04  \n",
      "4    3.000094e+04  \n",
      "..            ...  \n",
      "415  2.616761e+06  \n",
      "416  2.623232e+06  \n",
      "417  2.629714e+06  \n",
      "418  2.636189e+06  \n",
      "419  2.642646e+06  \n",
      "\n",
      "[420 rows x 6 columns]"
     ]
    },
    {
     "name": "stdout",
     "output_type": "stream",
     "text": [
      "\n"
     ]
    }
   ],
   "source": [
    "query_random = 'from(bucket:\"FinalExperiment\")\\\n",
    "|> range(start: 2023-10-24T18:00:00Z, stop: 2023-10-24T18:15:00Z)\\\n",
    "|> filter(fn: (r) => r._measurement == \"OpenDC_Energy_Experiment\" and r._field =~ /policyId|guestsRunning|cpuUtilisation|timestamp|powerUsage|energyUsage|serverId/)\\\n",
    "|> pivot(rowKey:[\"_time\"], columnKey: [\"_field\"], valueColumn: \"_value\")\\\n",
    "|> filter(fn:(r) => r.policyId == 63)'\n",
    "result_random = query_api.query_data_frame(org=org, query=query_random)\n",
    "\n",
    "df_random = result_random[['timestamp','serverId','cpuUtilisation','guestsRunning','powerUsage','energyUsage']]\n",
    "print(df_random)"
   ]
  },
  {
   "cell_type": "code",
   "execution_count": 7,
   "id": "aff1024d1a8e3d54",
   "metadata": {
    "ExecuteTime": {
     "end_time": "2023-10-24T18:17:10.079009511Z",
     "start_time": "2023-10-24T18:17:10.073825705Z"
    },
    "collapsed": false,
    "execution": {
     "iopub.execute_input": "2023-10-29T13:50:47.999794Z",
     "iopub.status.busy": "2023-10-29T13:50:47.999606Z",
     "iopub.status.idle": "2023-10-29T13:50:48.002751Z",
     "shell.execute_reply": "2023-10-29T13:50:48.002128Z"
    }
   },
   "outputs": [],
   "source": [
    "# query_minmin = 'from(bucket:\"Experiment\")\\\n",
    "# |> range(start: 2023-09-18T22:20:00Z, stop: 2023-09-18T22:34:00Z)\\\n",
    "# |> filter(fn: (r) => r._measurement == \"OpenDC_Energy_Experiment\" and r._field =~ /policy_id|guestsRunning|cpuUtilisation|timestamp|powerUsage|energyUsage|host_id/)\\\n",
    "# |> pivot(rowKey:[\"_time\"], columnKey: [\"_field\"], valueColumn: \"_value\")\\\n",
    "# |> filter(fn:(r) => r.policy_id == 4)'\n",
    "# result_minmin = query_api.query_data_frame(org=org, query=query_minmin)\n",
    "# \n",
    "# df_minmin = result_minmin[['timestamp','host_id','cpuUtilisation','guestsRunning','powerUsage','energyUsage']]\n",
    "# print(df_minmin)"
   ]
  },
  {
   "cell_type": "code",
   "execution_count": 8,
   "id": "48c4d8df7df1c9d6",
   "metadata": {
    "ExecuteTime": {
     "end_time": "2023-10-24T18:17:10.185841860Z",
     "start_time": "2023-10-24T18:17:10.079933467Z"
    },
    "collapsed": false,
    "execution": {
     "iopub.execute_input": "2023-10-29T13:50:48.005102Z",
     "iopub.status.busy": "2023-10-29T13:50:48.004864Z",
     "iopub.status.idle": "2023-10-29T13:50:48.013153Z",
     "shell.execute_reply": "2023-10-29T13:50:48.012564Z"
    }
   },
   "outputs": [
    {
     "name": "stdout",
     "output_type": "stream",
     "text": [
      "     timestamp  serverId   energyUsage\n",
      "19        30.0        19  1.200013e+05\n",
      "39        60.0        19  2.411893e+05\n",
      "59        90.0        19  3.709359e+05\n",
      "79       120.0        19  4.930275e+05\n",
      "99       150.0        19  6.233264e+05\n",
      "119      180.0        19  7.455687e+05\n",
      "139      210.0        19  8.759823e+05\n",
      "159      240.0        19  9.979737e+05\n",
      "179      270.0        19  1.128579e+06\n",
      "199      300.0        19  1.250769e+06\n",
      "219      330.0        19  1.381222e+06\n",
      "239      360.0        19  1.503133e+06\n",
      "259      390.0        19  1.633082e+06\n",
      "279      420.0        19  1.755223e+06\n",
      "299      450.0        19  1.885663e+06\n",
      "319      480.0        19  2.007486e+06\n",
      "339      510.0        19  2.137462e+06\n",
      "359      540.0        19  2.259562e+06\n",
      "379      570.0        19  2.390145e+06\n",
      "399      600.0        19  2.512060e+06\n",
      "419      630.0        19  2.642670e+06\n"
     ]
    },
    {
     "name": "stderr",
     "output_type": "stream",
     "text": [
      "/tmp/ipykernel_45671/658179243.py:2: SettingWithCopyWarning: \n",
      "A value is trying to be set on a copy of a slice from a DataFrame.\n",
      "Try using .loc[row_indexer,col_indexer] = value instead\n",
      "\n",
      "See the caveats in the documentation: https://pandas.pydata.org/pandas-docs/stable/user_guide/indexing.html#returning-a-view-versus-a-copy\n",
      "  df_total_power_standard['serverId'] = df_total_power_standard['serverId']. astype(int)\n"
     ]
    }
   ],
   "source": [
    "df_total_power_standard = df_standard[['timestamp','serverId','energyUsage']]\n",
    "df_total_power_standard['serverId'] = df_total_power_standard['serverId']. astype(int)\n",
    "df_total_power_standard = df_total_power_standard.loc[df_total_power_standard['serverId'] == 19]\n",
    "print(df_total_power_standard)"
   ]
  },
  {
   "cell_type": "code",
   "execution_count": 9,
   "id": "9d5184d679b6660f",
   "metadata": {
    "ExecuteTime": {
     "end_time": "2023-10-24T18:17:10.337452077Z",
     "start_time": "2023-10-24T18:17:10.184693927Z"
    },
    "collapsed": false,
    "execution": {
     "iopub.execute_input": "2023-10-29T13:50:48.015550Z",
     "iopub.status.busy": "2023-10-29T13:50:48.015355Z",
     "iopub.status.idle": "2023-10-29T13:50:48.023282Z",
     "shell.execute_reply": "2023-10-29T13:50:48.022619Z"
    }
   },
   "outputs": [
    {
     "name": "stdout",
     "output_type": "stream",
     "text": [
      "     timestamp  serverId   energyUsage\n",
      "19        30.0        19  1.200013e+05\n",
      "39        60.0        19  2.411893e+05\n",
      "59        90.0        19  3.709372e+05\n",
      "79       120.0        19  4.930297e+05\n",
      "99       150.0        19  6.233277e+05\n",
      "119      180.0        19  7.455694e+05\n",
      "139      210.0        19  8.759839e+05\n",
      "159      240.0        19  9.979675e+05\n",
      "179      270.0        19  1.128571e+06\n",
      "199      300.0        19  1.250760e+06\n",
      "219      330.0        19  1.381211e+06\n",
      "239      360.0        19  1.503119e+06\n",
      "259      390.0        19  1.633081e+06\n",
      "279      420.0        19  1.755221e+06\n",
      "299      450.0        19  1.885670e+06\n",
      "319      480.0        19  2.007495e+06\n",
      "339      510.0        19  2.137456e+06\n",
      "359      540.0        19  2.259559e+06\n",
      "379      570.0        19  2.390128e+06\n",
      "399      600.0        19  2.512037e+06\n",
      "419      630.0        19  2.642644e+06\n"
     ]
    },
    {
     "name": "stderr",
     "output_type": "stream",
     "text": [
      "/tmp/ipykernel_45671/2174346701.py:2: SettingWithCopyWarning: \n",
      "A value is trying to be set on a copy of a slice from a DataFrame.\n",
      "Try using .loc[row_indexer,col_indexer] = value instead\n",
      "\n",
      "See the caveats in the documentation: https://pandas.pydata.org/pandas-docs/stable/user_guide/indexing.html#returning-a-view-versus-a-copy\n",
      "  df_total_power_heft['serverId'] = df_total_power_heft['serverId']. astype(int)\n"
     ]
    }
   ],
   "source": [
    "df_total_power_heft = df_heft[['timestamp','serverId','energyUsage']]\n",
    "df_total_power_heft['serverId'] = df_total_power_heft['serverId']. astype(int)\n",
    "df_total_power_heft = df_total_power_heft.loc[df_total_power_heft['serverId'] == 19]\n",
    "print(df_total_power_heft)"
   ]
  },
  {
   "cell_type": "code",
   "execution_count": 10,
   "id": "5eb714008442e4ae",
   "metadata": {
    "ExecuteTime": {
     "end_time": "2023-10-24T18:17:10.412730176Z",
     "start_time": "2023-10-24T18:17:10.275321348Z"
    },
    "collapsed": false,
    "execution": {
     "iopub.execute_input": "2023-10-29T13:50:48.026618Z",
     "iopub.status.busy": "2023-10-29T13:50:48.026401Z",
     "iopub.status.idle": "2023-10-29T13:50:48.034031Z",
     "shell.execute_reply": "2023-10-29T13:50:48.033525Z"
    }
   },
   "outputs": [
    {
     "name": "stdout",
     "output_type": "stream",
     "text": [
      "     timestamp  serverId   energyUsage\n",
      "19        30.0        19  1.200013e+05\n",
      "39        60.0        19  2.411872e+05\n",
      "59        90.0        19  3.709390e+05\n",
      "79       120.0        19  4.930364e+05\n",
      "99       150.0        19  6.233218e+05\n",
      "119      180.0        19  7.455621e+05\n",
      "139      210.0        19  8.759830e+05\n",
      "159      240.0        19  9.979727e+05\n",
      "179      270.0        19  1.128582e+06\n",
      "199      300.0        19  1.250766e+06\n",
      "219      330.0        19  1.381198e+06\n",
      "239      360.0        19  1.503102e+06\n",
      "259      390.0        19  1.633066e+06\n",
      "279      420.0        19  1.755210e+06\n",
      "299      450.0        19  1.885662e+06\n",
      "319      480.0        19  2.007488e+06\n",
      "339      510.0        19  2.137453e+06\n",
      "359      540.0        19  2.259555e+06\n",
      "379      570.0        19  2.390129e+06\n",
      "399      600.0        19  2.512037e+06\n",
      "419      630.0        19  2.642646e+06\n"
     ]
    },
    {
     "name": "stderr",
     "output_type": "stream",
     "text": [
      "/tmp/ipykernel_45671/1030175566.py:2: SettingWithCopyWarning: \n",
      "A value is trying to be set on a copy of a slice from a DataFrame.\n",
      "Try using .loc[row_indexer,col_indexer] = value instead\n",
      "\n",
      "See the caveats in the documentation: https://pandas.pydata.org/pandas-docs/stable/user_guide/indexing.html#returning-a-view-versus-a-copy\n",
      "  df_total_power_random['serverId'] = df_total_power_random['serverId']. astype(int)\n"
     ]
    }
   ],
   "source": [
    "df_total_power_random = df_random[['timestamp','serverId','energyUsage']]\n",
    "df_total_power_random['serverId'] = df_total_power_random['serverId']. astype(int)\n",
    "df_total_power_random = df_total_power_random.loc[df_total_power_random['serverId'] == 19]\n",
    "print(df_total_power_random)"
   ]
  },
  {
   "cell_type": "code",
   "execution_count": 11,
   "id": "95416f964813cace",
   "metadata": {
    "ExecuteTime": {
     "end_time": "2023-10-24T18:17:10.473401972Z",
     "start_time": "2023-10-24T18:17:10.386797941Z"
    },
    "collapsed": false,
    "execution": {
     "iopub.execute_input": "2023-10-29T13:50:48.036703Z",
     "iopub.status.busy": "2023-10-29T13:50:48.036510Z",
     "iopub.status.idle": "2023-10-29T13:50:48.039340Z",
     "shell.execute_reply": "2023-10-29T13:50:48.038825Z"
    }
   },
   "outputs": [],
   "source": [
    "# df_total_power_minmin = df_minmin[['timestamp','host_id','energyUsage']]\n",
    "# df_total_power_minmin['host_id'] = df_total_power_minmin['host_id']. astype(int)\n",
    "# df_total_power_minmin = df_total_power_minmin.loc[df_total_power_minmin['host_id'] == 33]\n",
    "# print(df_total_power_minmin)"
   ]
  },
  {
   "cell_type": "code",
   "execution_count": 12,
   "id": "918114e71ff815b6",
   "metadata": {
    "ExecuteTime": {
     "end_time": "2023-10-24T18:17:11.470116119Z",
     "start_time": "2023-10-24T18:17:10.484572213Z"
    },
    "collapsed": false,
    "execution": {
     "iopub.execute_input": "2023-10-29T13:50:48.041696Z",
     "iopub.status.busy": "2023-10-29T13:50:48.041504Z",
     "iopub.status.idle": "2023-10-29T13:50:48.599570Z",
     "shell.execute_reply": "2023-10-29T13:50:48.598741Z"
    }
   },
   "outputs": [
    {
     "name": "stderr",
     "output_type": "stream",
     "text": [
      "/tmp/ipykernel_45671/607993114.py:41: UserWarning: Matplotlib is currently using module://matplotlib_inline.backend_inline, which is a non-GUI backend, so cannot show the figure.\n",
      "  fig.show()\n"
     ]
    },
    {
     "data": {
      "image/png": "[encoded data removed]",
      "text/plain": [
       "<Figure size 1050x750 with 1 Axes>"
      ]
     },
     "metadata": {},
     "output_type": "display_data"
    }
   ],
   "source": [
    "df1 = df_total_power_standard.drop(['serverId'], axis=1)\n",
    "df2 = df_total_power_heft.drop(['serverId'], axis=1)\n",
    "df3 = df_total_power_random.drop(['serverId'], axis=1)\n",
    "# df4 = df_total_power_minmin.drop(['host_id'], axis=1)\n",
    "# print(df1)\n",
    "# Create a list of all the dataframes\n",
    "dfs = [df1, df2, df3]\n",
    "\n",
    "# Create a new dataframe with all the timestamps from all the dataframes\n",
    "df_timestamps = pd.DataFrame({'timestamp': sorted(set(sum([df['timestamp'].tolist() for df in dfs], [])))})\n",
    "\n",
    "# Merge the new dataframe with all the dataframes, filling in missing values with 0\n",
    "df_merged = df_timestamps.merge(df1, how='left', on='timestamp', suffixes=('', '_x')).merge(df2, how='left', on='timestamp', suffixes=('', '_y')).merge(df3, how='left', on='timestamp', suffixes=('', '_z')).fillna(0)\n",
    "\n",
    "# Convert watts to kiloWatt-hours\n",
    "df_merged[\"energyUsage\"] = df_merged[\"energyUsage\"]/(1000*3600)\n",
    "df_merged[\"energyUsage_y\"] = df_merged[\"energyUsage_y\"]/(1000*3600)\n",
    "df_merged[\"energyUsage_z\"] = df_merged[\"energyUsage_z\"]/(1000*3600)\n",
    "# df_merged[\"energyUsage_w\"] = df_merged[\"energyUsage_w\"]/1000000\n",
    "df_merged.rename(columns={'energyUsage': 'FIFO-Algorithm', 'energyUsage_y': 'HEFT-Algorithm', 'energyUsage_z': 'Random-Algorithm'}, inplace=True) #, 'energyUsage_w': 'MinMin-Algorithm'\n",
    "df_merged['timestamp'] = df_merged['timestamp'].astype(int)\n",
    "\n",
    "# drop first and second column to have consistent distance of plots\n",
    "df_merged = df_merged.drop(0)\n",
    "# df_merged = df_merged.reset_index(drop= True)\n",
    "df_merged = df_merged.drop(1)\n",
    "df_merged = df_merged.reset_index(drop= True)\n",
    "# Create a custom x-axis with every 3rd value, due to very large number of elements in timestamp!\n",
    "df_merged = df_merged[df_merged.index % 3 == 0]\n",
    "\n",
    "# print(df_merged)\n",
    "# Create a bar plot of the merged dataframe, grouped by timestamp\n",
    "fig, ax = plt.subplots()\n",
    "df_merged.plot.bar(x='timestamp', ax=ax, title='Power consumption with various scheduling algorithms for shell trace\\n with 60% cluster-size configuration', width=.75)\n",
    "plt.gca().xaxis.set_tick_params(rotation=45)\n",
    "plt.grid(True)\n",
    "plt.ylabel('Total power consumption (in kWh: kiloWatt-Hours)', fontsize=15)\n",
    "plt.xlabel('Timestamp (in s: seconds)', fontsize=15)\n",
    "fig.set_size_inches(10.5, 7.5)\n",
    "fig.savefig('multiple_hosts_energy_plotted_trace_shell_60.png', bbox_inches='tight')\n",
    "fig.show()"
   ]
  },
  {
   "cell_type": "code",
   "execution_count": 13,
   "id": "dd9256b6af1362d1",
   "metadata": {
    "ExecuteTime": {
     "end_time": "2023-10-24T18:17:11.484411924Z",
     "start_time": "2023-10-24T18:17:11.476940422Z"
    },
    "collapsed": false,
    "execution": {
     "iopub.execute_input": "2023-10-29T13:50:48.601926Z",
     "iopub.status.busy": "2023-10-29T13:50:48.601724Z",
     "iopub.status.idle": "2023-10-29T13:50:48.607061Z",
     "shell.execute_reply": "2023-10-29T13:50:48.606509Z"
    }
   },
   "outputs": [
    {
     "name": "stdout",
     "output_type": "stream",
     "text": [
      "    timestamp  FIFO-Algorithm  HEFT-Algorithm  Random-Algorithm\n",
      "0          90        0.103038        0.103038          0.103039\n",
      "3         180        0.207102        0.207103          0.207101\n",
      "6         270        0.313494        0.313492          0.313495\n",
      "9         360        0.417537        0.417533          0.417528\n",
      "12        450        0.523795        0.523797          0.523795\n",
      "15        540        0.627656        0.627655          0.627654\n",
      "18        630        0.734075        0.734068          0.734068\n"
     ]
    }
   ],
   "source": [
    "# df_merged[\"energyUsage\"] = df_merged[\"energyUsage\"]/(1000*3600)\n",
    "# df_merged[\"energyUsage_y\"] = df_merged[\"energyUsage_y\"]/(1000*3600)\n",
    "# df_merged[\"energyUsage_z\"] = df_merged[\"energyUsage_z\"]/(1000*3600)\n",
    "print(df_merged)"
   ]
  },
  {
   "cell_type": "code",
   "execution_count": 14,
   "id": "cf05cddd56d570cd",
   "metadata": {
    "ExecuteTime": {
     "end_time": "2023-10-24T18:17:11.702276957Z",
     "start_time": "2023-10-24T18:17:11.485136336Z"
    },
    "collapsed": false,
    "execution": {
     "iopub.execute_input": "2023-10-29T13:50:48.609516Z",
     "iopub.status.busy": "2023-10-29T13:50:48.609080Z",
     "iopub.status.idle": "2023-10-29T13:50:48.614672Z",
     "shell.execute_reply": "2023-10-29T13:50:48.614203Z"
    }
   },
   "outputs": [
    {
     "name": "stdout",
     "output_type": "stream",
     "text": [
      "Total energy consumption in FIFO algorithm for executing given trace - 0.7340749187948493 kWh\n",
      "Total energy consumption in HEFT algorithm for executing given trace - 0.7340676861089402 kWh\n",
      "Total energy consumption in Random algorithm for executing given trace - 0.734068268628761 kWh\n"
     ]
    }
   ],
   "source": [
    "# Reverse the column and find the first non-zero value for getting total power\n",
    "last_non_zero_value_standard = df_merged[df_merged['FIFO-Algorithm'] != 0]['FIFO-Algorithm'].iloc[-1]\n",
    "print(f\"Total energy consumption in FIFO algorithm for executing given trace - {last_non_zero_value_standard} kWh\")\n",
    "last_non_zero_value_heft = df_merged[df_merged['HEFT-Algorithm'] != 0]['HEFT-Algorithm'].iloc[-1]\n",
    "print(f\"Total energy consumption in HEFT algorithm for executing given trace - {last_non_zero_value_heft} kWh\")\n",
    "last_non_zero_value_random = df_merged[df_merged['Random-Algorithm'] != 0]['Random-Algorithm'].iloc[-1]\n",
    "print(f\"Total energy consumption in Random algorithm for executing given trace - {last_non_zero_value_random} kWh\")"
   ]
  },
  {
   "cell_type": "code",
   "execution_count": 15,
   "id": "e178ed8f355873b7",
   "metadata": {
    "ExecuteTime": {
     "end_time": "2023-10-24T18:17:11.735842959Z",
     "start_time": "2023-10-24T18:17:11.628608853Z"
    },
    "collapsed": false,
    "execution": {
     "iopub.execute_input": "2023-10-29T13:50:48.616654Z",
     "iopub.status.busy": "2023-10-29T13:50:48.616469Z",
     "iopub.status.idle": "2023-10-29T13:50:48.619769Z",
     "shell.execute_reply": "2023-10-29T13:50:48.619203Z"
    }
   },
   "outputs": [
    {
     "name": "stdout",
     "output_type": "stream",
     "text": [
      "[0.7340749187948493, 0.7340676861089402, 0.734068268628761]\n"
     ]
    }
   ],
   "source": [
    "total_energy_for_all_scheduling_algos = [last_non_zero_value_standard, last_non_zero_value_heft, last_non_zero_value_random]\n",
    "print(total_energy_for_all_scheduling_algos)"
   ]
  },
  {
   "cell_type": "code",
   "execution_count": 16,
   "id": "1bbaebe2ffcfd113",
   "metadata": {
    "ExecuteTime": {
     "end_time": "2023-10-24T18:17:11.808328582Z",
     "start_time": "2023-10-24T18:17:11.725306270Z"
    },
    "collapsed": false,
    "execution": {
     "iopub.execute_input": "2023-10-29T13:50:48.621863Z",
     "iopub.status.busy": "2023-10-29T13:50:48.621679Z",
     "iopub.status.idle": "2023-10-29T13:50:48.627002Z",
     "shell.execute_reply": "2023-10-29T13:50:48.626347Z"
    }
   },
   "outputs": [
    {
     "name": "stdout",
     "output_type": "stream",
     "text": [
      "Resource scheduling algorithm HEFT is the most optimal amongst the three scheduling algorithms analysed above!\n",
      "----------------------------------------------------------------------------------------------------------------------------------------------\n",
      "Scheduling algorithm FIFO records 0.00099% worse energy-efficiency than the scheduling algorithm HEFT for shell workload trace and 60% cluster-size configuration.\n",
      "Scheduling algorithm Random records 0.00008% worse energy-efficiency than the scheduling algorithm HEFT for shell workload trace and 60% cluster-size configuration.\n"
     ]
    }
   ],
   "source": [
    "min_value = min(total_energy_for_all_scheduling_algos)\n",
    "dict = {0:\"FIFO\", 1:\"HEFT\", 2:\"Random\"}\n",
    "min_index = total_energy_for_all_scheduling_algos.index(min_value)\n",
    "\n",
    "# Calculate the percentage difference for each element compared to the minimum\n",
    "percentages = []\n",
    "for i, value in enumerate(total_energy_for_all_scheduling_algos):\n",
    "    if i == min_index:\n",
    "        continue  # Skip comparing the minimum value to itself\n",
    "    percentage_difference = ((value - min_value) / min_value) * 100\n",
    "    percentages.append((i, percentage_difference))\n",
    "\n",
    "# Print the results\n",
    "print(f\"Resource scheduling algorithm {dict[min_index]} is the most optimal amongst the three scheduling algorithms analysed above!\")\n",
    "print(\"----------------------------------------------------------------------------------------------------------------------------------------------\")\n",
    "for i, percentage in percentages:\n",
    "    print(f\"Scheduling algorithm {dict[i]} records {abs(percentage):.5f}% {'better' if percentage < 0 else 'worse'} energy-efficiency than the scheduling algorithm {dict[min_index]} for shell workload trace and 60% cluster-size configuration.\")\n"
   ]
  },
  {
   "cell_type": "code",
   "execution_count": 16,
   "id": "709b58304c7c1f92",
   "metadata": {
    "ExecuteTime": {
     "end_time": "2023-10-24T18:17:11.810239891Z",
     "start_time": "2023-10-24T18:17:11.807967491Z"
    },
    "collapsed": false
   },
   "outputs": [],
   "source": []
  }
 ],
 "metadata": {
  "kernelspec": {
   "display_name": "Python 3",
   "language": "python",
   "name": "python3"
  },
  "language_info": {
   "codemirror_mode": {
    "name": "ipython",
    "version": 3
   },
   "file_extension": ".py",
   "mimetype": "text/x-python",
   "name": "python",
   "nbconvert_exporter": "python",
   "pygments_lexer": "ipython3",
   "version": "3.11.6"
  }
 },
 "nbformat": 4,
 "nbformat_minor": 5
}
