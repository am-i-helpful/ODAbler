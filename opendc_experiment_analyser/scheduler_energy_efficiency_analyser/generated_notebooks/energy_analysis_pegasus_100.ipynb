{
 "cells": [
  {
   "cell_type": "code",
   "execution_count": 1,
   "id": "initial_id",
   "metadata": {
    "ExecuteTime": {
     "end_time": "2023-10-24T19:13:06.615193237Z",
     "start_time": "2023-10-24T19:13:06.392053701Z"
    },
    "collapsed": true,
    "execution": {
     "iopub.execute_input": "2023-10-29T13:42:50.366277Z",
     "iopub.status.busy": "2023-10-29T13:42:50.365890Z",
     "iopub.status.idle": "2023-10-29T13:42:50.371543Z",
     "shell.execute_reply": "2023-10-29T13:42:50.370538Z"
    }
   },
   "outputs": [],
   "source": [
    "# !pip install influxdb-client\n",
    "# !pip install brokenaxes"
   ]
  },
  {
   "cell_type": "code",
   "execution_count": 2,
   "id": "7061e3b22c4a6107",
   "metadata": {
    "ExecuteTime": {
     "end_time": "2023-10-24T19:13:06.616333162Z",
     "start_time": "2023-10-24T19:13:06.392339512Z"
    },
    "collapsed": false,
    "execution": {
     "iopub.execute_input": "2023-10-29T13:42:50.376141Z",
     "iopub.status.busy": "2023-10-29T13:42:50.375533Z",
     "iopub.status.idle": "2023-10-29T13:42:51.484255Z",
     "shell.execute_reply": "2023-10-29T13:42:51.483594Z"
    }
   },
   "outputs": [],
   "source": [
    "import influxdb_client\n",
    "import pandas as pd\n",
    "import matplotlib.pyplot as plt\n",
    "from brokenaxes import brokenaxes\n",
    "import json\n",
    "from pathlib import Path"
   ]
  },
  {
   "cell_type": "code",
   "execution_count": 3,
   "id": "327e81c9028d2a68",
   "metadata": {
    "ExecuteTime": {
     "end_time": "2023-10-24T19:13:06.618258988Z",
     "start_time": "2023-10-24T19:13:06.497132Z"
    },
    "collapsed": false,
    "execution": {
     "iopub.execute_input": "2023-10-29T13:42:51.486744Z",
     "iopub.status.busy": "2023-10-29T13:42:51.486487Z",
     "iopub.status.idle": "2023-10-29T13:42:51.497795Z",
     "shell.execute_reply": "2023-10-29T13:42:51.497144Z"
    }
   },
   "outputs": [
    {
     "name": "stdout",
     "output_type": "stream",
     "text": [
      "{'bucket': 'FinalExperiment', 'org': '@Large-Research', 'token': 'd5KtoS1-I2iMVHiRQsVnXKV7MW7QR70Z1mqRdvqs08v-jKxEv8Q_URRHr2tl4AUwwqWHDeZNUKEtSTLjiCf-vg==', 'url': 'http://localhost:8086', 'location': 'Amsterdam'}\n"
     ]
    }
   ],
   "source": [
    "config_file = \"/windows/os/Thesis-Project/ODAbler/key-configurations/influxdb-config.json\"\n",
    "p = Path(config_file)\n",
    "with p.open('r') as f:\n",
    "    content = json.load(f)\n",
    "    print(content)\n",
    "url = content['url']\n",
    "token = content['token']\n",
    "org = content['org']\n",
    "client = influxdb_client.InfluxDBClient(\n",
    "   url=url,\n",
    "   token=token,\n",
    "   org=org,\n",
    "    timeout=30_000\n",
    ")\n",
    "query_api = client.query_api()"
   ]
  },
  {
   "cell_type": "code",
   "execution_count": 4,
   "id": "611c3963e3ffc6dc",
   "metadata": {
    "ExecuteTime": {
     "end_time": "2023-10-24T19:14:15.541430280Z",
     "start_time": "2023-10-24T19:13:06.599493365Z"
    },
    "collapsed": false,
    "execution": {
     "iopub.execute_input": "2023-10-29T13:42:51.500798Z",
     "iopub.status.busy": "2023-10-29T13:42:51.500602Z",
     "iopub.status.idle": "2023-10-29T13:43:41.380168Z",
     "shell.execute_reply": "2023-10-29T13:43:41.379494Z"
    }
   },
   "outputs": [
    {
     "name": "stdout",
     "output_type": "stream",
     "text": [
      "        timestamp  serverId  cpuUtilisation  guestsRunning  powerUsage   \n",
      "0            30.0       0.0             1.0           24.0       350.0  \\\n",
      "1            30.0       1.0             1.0           24.0       350.0   \n",
      "2            30.0       2.0             1.0           24.0       350.0   \n",
      "3            30.0       3.0             1.0           24.0       350.0   \n",
      "4            30.0       4.0             1.0           24.0       350.0   \n",
      "...           ...       ...             ...            ...         ...   \n",
      "142758   125970.0      29.0             0.0            0.0       200.0   \n",
      "142759   125970.0      30.0             0.0            0.0       200.0   \n",
      "142760   125970.0      31.0             0.0            0.0       200.0   \n",
      "142761   125970.0      32.0             0.0            0.0       200.0   \n",
      "142762   125970.0      33.0             0.0            0.0       200.0   \n",
      "\n",
      "         energyUsage  \n",
      "0       1.019993e+04  \n",
      "1       2.039985e+04  \n",
      "2       3.059978e+04  \n",
      "3       4.079971e+04  \n",
      "4       5.099963e+04  \n",
      "...              ...  \n",
      "142758  8.641949e+08  \n",
      "142759  8.642009e+08  \n",
      "142760  8.642069e+08  \n",
      "142761  8.642129e+08  \n",
      "142762  8.642189e+08  \n",
      "\n",
      "[142763 rows x 6 columns]\n"
     ]
    }
   ],
   "source": [
    "query_standard = 'from(bucket:\"FinalExperiment\")\\\n",
    "|> range(start: 2023-10-24T18:15:00Z, stop: 2023-10-24T19:30:00Z)\\\n",
    "|> filter(fn: (r) => r._measurement == \"OpenDC_Energy_Experiment\" and r._field =~ /policyId|guestsRunning|cpuUtilisation|timestamp|powerUsage|energyUsage|serverId/)\\\n",
    "|> pivot(rowKey:[\"_time\"], columnKey: [\"_field\"], valueColumn: \"_value\")\\\n",
    "|> filter(fn:(r) => r.policyId == 4)'\n",
    "result_standard = query_api.query_data_frame(org=org, query=query_standard)\n",
    "\n",
    "#display(result_standard.head(10))\n",
    "pd.set_option('display.max_columns', None)\n",
    "df_standard = result_standard[['timestamp','serverId','cpuUtilisation','guestsRunning','powerUsage','energyUsage']]\n",
    "print(df_standard)"
   ]
  },
  {
   "cell_type": "code",
   "execution_count": 5,
   "id": "3b46a2557b60c693",
   "metadata": {
    "ExecuteTime": {
     "end_time": "2023-10-24T19:15:20.877353147Z",
     "start_time": "2023-10-24T19:14:15.288908425Z"
    },
    "collapsed": false,
    "execution": {
     "iopub.execute_input": "2023-10-29T13:43:41.382762Z",
     "iopub.status.busy": "2023-10-29T13:43:41.382547Z",
     "iopub.status.idle": "2023-10-29T13:44:30.517720Z",
     "shell.execute_reply": "2023-10-29T13:44:30.517038Z"
    }
   },
   "outputs": [
    {
     "name": "stdout",
     "output_type": "stream",
     "text": [
      "        timestamp  serverId  cpuUtilisation  guestsRunning  powerUsage   \n",
      "0            30.0       0.0             1.0           24.0       350.0  \\\n",
      "1            30.0       1.0             1.0           24.0       350.0   \n",
      "2            30.0       2.0             1.0           24.0       350.0   \n",
      "3            30.0       3.0             1.0           24.0       350.0   \n",
      "4            30.0       4.0             1.0           24.0       350.0   \n",
      "...           ...       ...             ...            ...         ...   \n",
      "142756   125970.0      29.0             0.0            0.0       200.0   \n",
      "142757   125970.0      30.0             0.0            0.0       200.0   \n",
      "142758   125970.0      31.0             0.0            0.0       200.0   \n",
      "142759   125970.0      32.0             0.0            0.0       200.0   \n",
      "142760   125970.0      33.0             0.0            0.0       200.0   \n",
      "\n",
      "         energyUsage  \n",
      "0       1.019993e+04  \n",
      "1       2.039985e+04  \n",
      "2       3.059978e+04  \n",
      "3       4.079971e+04  \n",
      "4       5.099963e+04  \n",
      "...              ...  \n",
      "142756  8.638480e+08  \n",
      "142757  8.638540e+08  \n",
      "142758  8.638600e+08  \n",
      "142759  8.638660e+08  \n",
      "142760  8.638720e+08  \n",
      "\n",
      "[142761 rows x 6 columns]\n"
     ]
    }
   ],
   "source": [
    "query_heft = 'from(bucket:\"FinalExperiment\")\\\n",
    "|> range(start: 2023-10-24T18:15:00Z, stop: 2023-10-24T19:30:00Z)\\\n",
    "|> filter(fn: (r) => r._measurement == \"OpenDC_Energy_Experiment\" and r._field =~ /policyId|guestsRunning|cpuUtilisation|timestamp|powerUsage|energyUsage|serverId/)\\\n",
    "|> pivot(rowKey:[\"_time\"], columnKey: [\"_field\"], valueColumn: \"_value\")\\\n",
    "|> filter(fn:(r) => r.policyId == 5)'\n",
    "result_heft = query_api.query_data_frame(org=org, query=query_heft)\n",
    "\n",
    "df_heft = result_heft[['timestamp','serverId','cpuUtilisation','guestsRunning','powerUsage','energyUsage']]\n",
    "print(df_heft)"
   ]
  },
  {
   "cell_type": "code",
   "execution_count": 6,
   "id": "89e5af9130005a08",
   "metadata": {
    "ExecuteTime": {
     "end_time": "2023-10-24T19:16:23.547494587Z",
     "start_time": "2023-10-24T19:15:20.828826788Z"
    },
    "collapsed": false,
    "execution": {
     "iopub.execute_input": "2023-10-29T13:44:30.521067Z",
     "iopub.status.busy": "2023-10-29T13:44:30.520829Z",
     "iopub.status.idle": "2023-10-29T13:45:21.198600Z",
     "shell.execute_reply": "2023-10-29T13:45:21.197809Z"
    }
   },
   "outputs": [
    {
     "name": "stdout",
     "output_type": "stream",
     "text": [
      "        timestamp  serverId  cpuUtilisation  guestsRunning  powerUsage   \n",
      "0            30.0       0.0        1.000000           24.0  350.000000  \\\n",
      "1            30.0       1.0        1.000000           24.0  350.000000   \n",
      "2            30.0       2.0        1.000000           24.0  350.000000   \n",
      "3            30.0       3.0        1.000000           24.0  350.000000   \n",
      "4            30.0       4.0        1.000000           24.0  350.000000   \n",
      "...           ...       ...             ...            ...         ...   \n",
      "142758   125970.0      29.0        0.000000            0.0  200.000000   \n",
      "142759   125970.0      30.0        0.000000            0.0  200.000000   \n",
      "142760   125970.0      31.0        0.041667            1.0  200.010851   \n",
      "142761   125970.0      32.0        0.000000            0.0  200.000000   \n",
      "142762   125970.0      33.0        0.000000            0.0  200.000000   \n",
      "\n",
      "         energyUsage  \n",
      "0       1.019993e+04  \n",
      "1       2.039985e+04  \n",
      "2       3.059978e+04  \n",
      "3       4.079971e+04  \n",
      "4       5.099963e+04  \n",
      "...              ...  \n",
      "142758  8.640953e+08  \n",
      "142759  8.641013e+08  \n",
      "142760  8.641073e+08  \n",
      "142761  8.641133e+08  \n",
      "142762  8.641193e+08  \n",
      "\n",
      "[142763 rows x 6 columns]\n"
     ]
    }
   ],
   "source": [
    "query_random = 'from(bucket:\"FinalExperiment\")\\\n",
    "|> range(start: 2023-10-24T18:15:00Z, stop: 2023-10-24T19:30:00Z)\\\n",
    "|> filter(fn: (r) => r._measurement == \"OpenDC_Energy_Experiment\" and r._field =~ /policyId|guestsRunning|cpuUtilisation|timestamp|powerUsage|energyUsage|serverId/)\\\n",
    "|> pivot(rowKey:[\"_time\"], columnKey: [\"_field\"], valueColumn: \"_value\")\\\n",
    "|> filter(fn:(r) => r.policyId == 6)'\n",
    "result_random = query_api.query_data_frame(org=org, query=query_random)\n",
    "\n",
    "df_random = result_random[['timestamp','serverId','cpuUtilisation','guestsRunning','powerUsage','energyUsage']]\n",
    "print(df_random)"
   ]
  },
  {
   "cell_type": "code",
   "execution_count": 7,
   "id": "aff1024d1a8e3d54",
   "metadata": {
    "ExecuteTime": {
     "end_time": "2023-10-24T19:16:23.547911091Z",
     "start_time": "2023-10-24T19:16:23.535847897Z"
    },
    "collapsed": false,
    "execution": {
     "iopub.execute_input": "2023-10-29T13:45:21.201416Z",
     "iopub.status.busy": "2023-10-29T13:45:21.201188Z",
     "iopub.status.idle": "2023-10-29T13:45:21.204889Z",
     "shell.execute_reply": "2023-10-29T13:45:21.204050Z"
    }
   },
   "outputs": [],
   "source": [
    "# query_minmin = 'from(bucket:\"Experiment\")\\\n",
    "# |> range(start: 2023-10-24T18:15:00Z, stop: 2023-10-24T19:30:00Z)\\\n",
    "# |> filter(fn: (r) => r._measurement == \"OpenDC_Energy_Experiment\" and r._field =~ /policy_id|guestsRunning|cpuUtilisation|timestamp|powerUsage|energyUsage|host_id/)\\\n",
    "# |> pivot(rowKey:[\"_time\"], columnKey: [\"_field\"], valueColumn: \"_value\")\\\n",
    "# |> filter(fn:(r) => r.policy_id == 4)'\n",
    "# result_minmin = query_api.query_data_frame(org=org, query=query_minmin)\n",
    "# \n",
    "# df_minmin = result_minmin[['timestamp','host_id','cpuUtilisation','guestsRunning','powerUsage','energyUsage']]\n",
    "# print(df_minmin)"
   ]
  },
  {
   "cell_type": "code",
   "execution_count": 8,
   "id": "48c4d8df7df1c9d6",
   "metadata": {
    "ExecuteTime": {
     "end_time": "2023-10-24T19:16:23.641648269Z",
     "start_time": "2023-10-24T19:16:23.535992832Z"
    },
    "collapsed": false,
    "execution": {
     "iopub.execute_input": "2023-10-29T13:45:21.207374Z",
     "iopub.status.busy": "2023-10-29T13:45:21.207148Z",
     "iopub.status.idle": "2023-10-29T13:45:21.217999Z",
     "shell.execute_reply": "2023-10-29T13:45:21.217243Z"
    }
   },
   "outputs": [
    {
     "name": "stdout",
     "output_type": "stream",
     "text": [
      "        timestamp  serverId   energyUsage\n",
      "33           30.0        33  3.467975e+05\n",
      "67           60.0        33  7.037975e+05\n",
      "101          90.0        33  1.060798e+06\n",
      "135         120.0        33  1.417798e+06\n",
      "169         150.0        33  1.774798e+06\n",
      "...           ...       ...           ...\n",
      "142626   125850.0        33  8.634029e+08\n",
      "142660   125880.0        33  8.636069e+08\n",
      "142694   125910.0        33  8.638109e+08\n",
      "142728   125940.0        33  8.640149e+08\n",
      "142762   125970.0        33  8.642189e+08\n",
      "\n",
      "[4199 rows x 3 columns]\n"
     ]
    },
    {
     "name": "stderr",
     "output_type": "stream",
     "text": [
      "/tmp/ipykernel_38948/2255714648.py:2: SettingWithCopyWarning: \n",
      "A value is trying to be set on a copy of a slice from a DataFrame.\n",
      "Try using .loc[row_indexer,col_indexer] = value instead\n",
      "\n",
      "See the caveats in the documentation: https://pandas.pydata.org/pandas-docs/stable/user_guide/indexing.html#returning-a-view-versus-a-copy\n",
      "  df_total_power_standard['serverId'] = df_total_power_standard['serverId']. astype(int)\n"
     ]
    }
   ],
   "source": [
    "df_total_power_standard = df_standard[['timestamp','serverId','energyUsage']]\n",
    "df_total_power_standard['serverId'] = df_total_power_standard['serverId']. astype(int)\n",
    "df_total_power_standard = df_total_power_standard.loc[df_total_power_standard['serverId'] == 33]\n",
    "print(df_total_power_standard)"
   ]
  },
  {
   "cell_type": "code",
   "execution_count": 9,
   "id": "9d5184d679b6660f",
   "metadata": {
    "ExecuteTime": {
     "end_time": "2023-10-24T19:16:23.716024018Z",
     "start_time": "2023-10-24T19:16:23.624526871Z"
    },
    "collapsed": false,
    "execution": {
     "iopub.execute_input": "2023-10-29T13:45:21.220652Z",
     "iopub.status.busy": "2023-10-29T13:45:21.220401Z",
     "iopub.status.idle": "2023-10-29T13:45:21.230597Z",
     "shell.execute_reply": "2023-10-29T13:45:21.229924Z"
    }
   },
   "outputs": [
    {
     "name": "stdout",
     "output_type": "stream",
     "text": [
      "        timestamp  serverId   energyUsage\n",
      "33           30.0        33  3.467975e+05\n",
      "67           60.0        33  7.037975e+05\n",
      "101          90.0        33  1.060798e+06\n",
      "135         120.0        33  1.417798e+06\n",
      "169         150.0        33  1.774798e+06\n",
      "...           ...       ...           ...\n",
      "142624   125850.0        33  8.630560e+08\n",
      "142658   125880.0        33  8.632600e+08\n",
      "142692   125910.0        33  8.634640e+08\n",
      "142726   125940.0        33  8.636680e+08\n",
      "142760   125970.0        33  8.638720e+08\n",
      "\n",
      "[4199 rows x 3 columns]\n"
     ]
    },
    {
     "name": "stderr",
     "output_type": "stream",
     "text": [
      "/tmp/ipykernel_38948/902445446.py:2: SettingWithCopyWarning: \n",
      "A value is trying to be set on a copy of a slice from a DataFrame.\n",
      "Try using .loc[row_indexer,col_indexer] = value instead\n",
      "\n",
      "See the caveats in the documentation: https://pandas.pydata.org/pandas-docs/stable/user_guide/indexing.html#returning-a-view-versus-a-copy\n",
      "  df_total_power_heft['serverId'] = df_total_power_heft['serverId']. astype(int)\n"
     ]
    }
   ],
   "source": [
    "df_total_power_heft = df_heft[['timestamp','serverId','energyUsage']]\n",
    "df_total_power_heft['serverId'] = df_total_power_heft['serverId']. astype(int)\n",
    "df_total_power_heft = df_total_power_heft.loc[df_total_power_heft['serverId'] == 33]\n",
    "print(df_total_power_heft)"
   ]
  },
  {
   "cell_type": "code",
   "execution_count": 10,
   "id": "5eb714008442e4ae",
   "metadata": {
    "ExecuteTime": {
     "end_time": "2023-10-24T19:16:23.797898699Z",
     "start_time": "2023-10-24T19:16:23.718129957Z"
    },
    "collapsed": false,
    "execution": {
     "iopub.execute_input": "2023-10-29T13:45:21.233288Z",
     "iopub.status.busy": "2023-10-29T13:45:21.232778Z",
     "iopub.status.idle": "2023-10-29T13:45:21.243124Z",
     "shell.execute_reply": "2023-10-29T13:45:21.242487Z"
    }
   },
   "outputs": [
    {
     "name": "stdout",
     "output_type": "stream",
     "text": [
      "        timestamp  serverId   energyUsage\n",
      "33           30.0        33  3.467975e+05\n",
      "67           60.0        33  7.037975e+05\n",
      "101          90.0        33  1.060798e+06\n",
      "135         120.0        33  1.417798e+06\n",
      "169         150.0        33  1.774798e+06\n",
      "...           ...       ...           ...\n",
      "142626   125850.0        33  8.633033e+08\n",
      "142660   125880.0        33  8.635073e+08\n",
      "142694   125910.0        33  8.637113e+08\n",
      "142728   125940.0        33  8.639153e+08\n",
      "142762   125970.0        33  8.641193e+08\n",
      "\n",
      "[4199 rows x 3 columns]\n"
     ]
    },
    {
     "name": "stderr",
     "output_type": "stream",
     "text": [
      "/tmp/ipykernel_38948/4207874590.py:2: SettingWithCopyWarning: \n",
      "A value is trying to be set on a copy of a slice from a DataFrame.\n",
      "Try using .loc[row_indexer,col_indexer] = value instead\n",
      "\n",
      "See the caveats in the documentation: https://pandas.pydata.org/pandas-docs/stable/user_guide/indexing.html#returning-a-view-versus-a-copy\n",
      "  df_total_power_random['serverId'] = df_total_power_random['serverId']. astype(int)\n"
     ]
    }
   ],
   "source": [
    "df_total_power_random = df_random[['timestamp','serverId','energyUsage']]\n",
    "df_total_power_random['serverId'] = df_total_power_random['serverId']. astype(int)\n",
    "df_total_power_random = df_total_power_random.loc[df_total_power_random['serverId'] == 33]\n",
    "print(df_total_power_random)"
   ]
  },
  {
   "cell_type": "code",
   "execution_count": 11,
   "id": "95416f964813cace",
   "metadata": {
    "ExecuteTime": {
     "end_time": "2023-10-24T19:16:23.961947397Z",
     "start_time": "2023-10-24T19:16:23.796787316Z"
    },
    "collapsed": false,
    "execution": {
     "iopub.execute_input": "2023-10-29T13:45:21.245492Z",
     "iopub.status.busy": "2023-10-29T13:45:21.245281Z",
     "iopub.status.idle": "2023-10-29T13:45:21.248253Z",
     "shell.execute_reply": "2023-10-29T13:45:21.247672Z"
    }
   },
   "outputs": [],
   "source": [
    "# df_total_power_minmin = df_minmin[['timestamp','host_id','energyUsage']]\n",
    "# df_total_power_minmin['host_id'] = df_total_power_minmin['host_id']. astype(int)\n",
    "# df_total_power_minmin = df_total_power_minmin.loc[df_total_power_minmin['host_id'] == 33]\n",
    "# print(df_total_power_minmin)"
   ]
  },
  {
   "cell_type": "code",
   "execution_count": 12,
   "id": "918114e71ff815b6",
   "metadata": {
    "ExecuteTime": {
     "end_time": "2023-10-24T19:16:24.703185501Z",
     "start_time": "2023-10-24T19:16:23.963965935Z"
    },
    "collapsed": false,
    "execution": {
     "iopub.execute_input": "2023-10-29T13:45:21.250815Z",
     "iopub.status.busy": "2023-10-29T13:45:21.250580Z",
     "iopub.status.idle": "2023-10-29T13:45:21.930384Z",
     "shell.execute_reply": "2023-10-29T13:45:21.929667Z"
    }
   },
   "outputs": [
    {
     "name": "stdout",
     "output_type": "stream",
     "text": [
      "   timestamp  FIFO-Algorithm  HEFT-Algorithm  Random-Algorithm   \n",
      "0      18000       36.117042       36.020696         36.089393  \\\n",
      "1      35970       70.060484       69.964138         70.032835   \n",
      "2      53940      104.003914      103.907568        103.976269   \n",
      "3      71910      137.947301      137.850955        137.919656   \n",
      "4      89880      171.890689      171.794343        171.863044   \n",
      "5     107850      205.834076      205.737730        205.806431   \n",
      "6     125820      239.777464      239.681118        239.749819   \n",
      "\n",
      "   timestamp_hours  \n",
      "0              5.0  \n",
      "1             10.0  \n",
      "2             15.0  \n",
      "3             20.0  \n",
      "4             25.0  \n",
      "5             30.0  \n",
      "6             35.0  \n"
     ]
    },
    {
     "data": {
      "image/png": "[encoded data removed]",
      "text/plain": [
       "<Figure size 1300x1000 with 1 Axes>"
      ]
     },
     "metadata": {},
     "output_type": "display_data"
    }
   ],
   "source": [
    "df1 = df_total_power_standard.drop(['serverId'], axis=1)\n",
    "df2 = df_total_power_heft.drop(['serverId'], axis=1)\n",
    "df3 = df_total_power_random.drop(['serverId'], axis=1)\n",
    "# df4 = df_total_power_minmin.drop(['serverId'], axis=1)\n",
    "# print(df1)\n",
    "# Create a list of all the dataframes\n",
    "dfs = [df1, df2, df3]\n",
    "\n",
    "# Create a new dataframe with all the timestamps from all the dataframes\n",
    "df_timestamps = pd.DataFrame({'timestamp': sorted(set(sum([df['timestamp'].tolist() for df in dfs], [])))})\n",
    "\n",
    "# Merge the new dataframe with all the dataframes, filling in missing values with 0\n",
    "df_merged = df_timestamps.merge(df1, how='left', on='timestamp', suffixes=('', '_x')).merge(df2, how='left', on='timestamp', suffixes=('', '_y')).merge(df3, how='left', on='timestamp', suffixes=('', '_z')).fillna(0)\n",
    "\n",
    "# Convert watts to kiloWatt-hours\n",
    "df_merged[\"energyUsage\"] = df_merged[\"energyUsage\"]/(1000*3600)\n",
    "df_merged[\"energyUsage_y\"] = df_merged[\"energyUsage_y\"]/(1000*3600)\n",
    "df_merged[\"energyUsage_z\"] = df_merged[\"energyUsage_z\"]/(1000*3600)\n",
    "# df_merged[\"energyUsage_w\"] = df_merged[\"energyUsage_w\"]/1000000\n",
    "df_merged.rename(columns={'energyUsage': 'FIFO-Algorithm', 'energyUsage_y': 'HEFT-Algorithm', 'energyUsage_z': 'Random-Algorithm'}, inplace=True) #, 'energyUsage_w': 'MinMin-Algorithm'\n",
    "df_merged['timestamp'] = df_merged['timestamp'].astype(int)\n",
    "\n",
    "# print(df_merged)\n",
    "# Create a custom x-axis with every 599th value, due to very large number of elements in timestamp!\n",
    "df_custom = df_merged[df_merged.index % 599 == 0]\n",
    "\n",
    "# drop first column to have consistent distance of plots\n",
    "df_custom = df_custom.drop(0)\n",
    "df_custom = df_custom.reset_index(drop= True)\n",
    "df_custom['timestamp_hours'] = round(df_custom['timestamp'] / 3600, 1) # convert seconds to hours\n",
    "print(df_custom)\n",
    "\n",
    "# Create a bar plot of the merged dataframe, grouped by timestamp\n",
    "# fig, ax = plt.subplots()\n",
    "# ax_enlarged = df_merged.plot.bar(x='timestamp', ax=ax, title='Power consumption with various scheduling algorithms for pegasus trace\\n with 100% cluster-size configuration', width=.5)\n",
    "# plt.figure(figsize=(13.5, 9.5))\n",
    "# Create a plot with a broken x-axis\n",
    "# bax = brokenaxes(xlims=((df_custom.index[0], df_custom.index[1]), (df_custom.index[2], df_custom.index[-1])), wspace=0.05)\n",
    "\n",
    "# Plot the data within the broken x-axis\n",
    "# bax.bar(df_custom.index, df_custom['FIFO-Algorithm'], width=5, label='FIFO-Algorithm')\n",
    "# bax.bar(df_custom.index, df_custom['HEFT-Algorithm'], width=5, label='HEFT-Algorithm', bottom=df_custom['FIFO-Algorithm'])\n",
    "# bax.bar(df_custom.index, df_custom['Random-Algorithm'], width=5, label='Random-Algorithm', bottom=df_custom['HEFT-Algorithm'])\n",
    "\n",
    "# Calculate the bar positions for the groups within each segment\n",
    "# x_values = df_custom['timestamp']\n",
    "# print(x_values.iloc[0], x_values.iloc[1], x_values.iloc[-1])\n",
    "# group_width = 20  # Width of each group of bars\n",
    "# bar_width = 20  # Width of individual bars within a group\n",
    "# num_columns = len(df_custom.columns) - 1  # Number of columns (excluding the 'timestamp' column)\n",
    "\n",
    "# Calculate the total width for each group\n",
    "# total_group_width = num_columns * group_width\n",
    "# \n",
    "# bax = brokenaxes(xlims=((0,x_values.iloc[0]),(x_values.iloc[1] - total_group_width / 2, x_values.iloc[-1] + total_group_width / 2)), wspace=0.05)\n",
    "# \n",
    "# for i in range(num_columns):\n",
    "#     x_pos = x_values + (i - (num_columns / 2 - 0.5 )) * group_width + (bar_width * (num_columns / 2))\n",
    "#     bax.bar(x_pos, df_custom.iloc[:, i + 1], width=bar_width, label=df_custom.columns[i + 1])\n",
    "#     \n",
    "# Add a legend\n",
    "# bax.legend(loc='upper left')\n",
    "# bax.set_xlabel('Timestamp (in s: seconds)', labelpad=25)\n",
    "# bax.set_ylabel('Total power consumption (in kWh: kiloWatt-Hours)', labelpad=35)\n",
    "# plt.title('Total power usage value sampled over time (comparing various task-scheduling algorithms)')\n",
    "ax_enlarged = df_custom.plot.bar(x='timestamp_hours', y=['FIFO-Algorithm','HEFT-Algorithm','Random-Algorithm'], title='Power consumption with various scheduling algorithms for pegasus trace\\n with 100% cluster-size configuration', width=.75, figsize=(13, 10))\n",
    "# ax_enlarged.set_xticks(custom_x)\n",
    "# ax_enlarged.set_xticklabels(custom_x_labels)\n",
    "plt.gca().xaxis.set_tick_params(rotation=45)\n",
    "plt.ylabel('\\nTotal power consumption (in kWh: kiloWatt-Hours)', fontsize=15)\n",
    "plt.xlabel('\\nTimestamp (in h: hours)', fontsize=15)\n",
    "# plt.figure(figsize=(14.5, 8.5))\n",
    "# plt.set_size_inches(14.5, 8.5)\n",
    "plt.grid(True)\n",
    "plt.savefig('multiple_hosts_energy_plotted_trace_pegasus_100.png', bbox_inches='tight')\n",
    "plt.show()"
   ]
  },
  {
   "cell_type": "code",
   "execution_count": 13,
   "id": "dd9256b6af1362d1",
   "metadata": {
    "ExecuteTime": {
     "end_time": "2023-10-24T19:16:24.714133601Z",
     "start_time": "2023-10-24T19:16:24.707104557Z"
    },
    "collapsed": false,
    "execution": {
     "iopub.execute_input": "2023-10-29T13:45:21.932764Z",
     "iopub.status.busy": "2023-10-29T13:45:21.932479Z",
     "iopub.status.idle": "2023-10-29T13:45:21.938673Z",
     "shell.execute_reply": "2023-10-29T13:45:21.938210Z"
    }
   },
   "outputs": [
    {
     "name": "stdout",
     "output_type": "stream",
     "text": [
      "      timestamp  FIFO-Algorithm  HEFT-Algorithm  Random-Algorithm\n",
      "0            30        0.096333        0.096333          0.096333\n",
      "1            60        0.195499        0.195499          0.195499\n",
      "2            90        0.294666        0.294666          0.294666\n",
      "3           120        0.393833        0.393833          0.393833\n",
      "4           150        0.492999        0.492999          0.492999\n",
      "...         ...             ...             ...               ...\n",
      "4194     125850      239.834130      239.737785        239.806486\n",
      "4195     125880      239.890797      239.794451        239.863152\n",
      "4196     125910      239.947464      239.851118        239.919819\n",
      "4197     125940      240.004131      239.907785        239.976486\n",
      "4198     125970      240.060797      239.964452        240.033153\n",
      "\n",
      "[4199 rows x 4 columns]\n"
     ]
    }
   ],
   "source": [
    "# df_merged[\"energyUsage\"] = df_merged[\"energyUsage\"]/(1000*3600)\n",
    "# df_merged[\"energyUsage_y\"] = df_merged[\"energyUsage_y\"]/(1000*3600)\n",
    "# df_merged[\"energyUsage_z\"] = df_merged[\"energyUsage_z\"]/(1000*3600)\n",
    "print(df_merged)"
   ]
  },
  {
   "cell_type": "code",
   "execution_count": 14,
   "id": "cf05cddd56d570cd",
   "metadata": {
    "ExecuteTime": {
     "end_time": "2023-10-24T19:16:24.949857055Z",
     "start_time": "2023-10-24T19:16:24.714273798Z"
    },
    "collapsed": false,
    "execution": {
     "iopub.execute_input": "2023-10-29T13:45:21.940901Z",
     "iopub.status.busy": "2023-10-29T13:45:21.940700Z",
     "iopub.status.idle": "2023-10-29T13:45:21.947749Z",
     "shell.execute_reply": "2023-10-29T13:45:21.947114Z"
    }
   },
   "outputs": [
    {
     "name": "stdout",
     "output_type": "stream",
     "text": [
      "Total energy consumption in FIFO algorithm for executing given trace - 240.06079749606536 kWh\n",
      "Total energy consumption in HEFT algorithm for executing given trace - 239.96445165506606 kWh\n",
      "Total energy consumption in Random algorithm for executing given trace - 240.03315261254704 kWh\n"
     ]
    }
   ],
   "source": [
    "# Reverse the column and find the first non-zero value for getting total power\n",
    "last_non_zero_value_standard = df_merged[df_merged['FIFO-Algorithm'] != 0]['FIFO-Algorithm'].iloc[-1]\n",
    "print(f\"Total energy consumption in FIFO algorithm for executing given trace - {last_non_zero_value_standard} kWh\")\n",
    "last_non_zero_value_heft = df_merged[df_merged['HEFT-Algorithm'] != 0]['HEFT-Algorithm'].iloc[-1]\n",
    "print(f\"Total energy consumption in HEFT algorithm for executing given trace - {last_non_zero_value_heft} kWh\")\n",
    "last_non_zero_value_random = df_merged[df_merged['Random-Algorithm'] != 0]['Random-Algorithm'].iloc[-1]\n",
    "print(f\"Total energy consumption in Random algorithm for executing given trace - {last_non_zero_value_random} kWh\")"
   ]
  },
  {
   "cell_type": "code",
   "execution_count": 15,
   "id": "e178ed8f355873b7",
   "metadata": {
    "ExecuteTime": {
     "end_time": "2023-10-24T19:16:24.967146026Z",
     "start_time": "2023-10-24T19:16:24.792118143Z"
    },
    "collapsed": false,
    "execution": {
     "iopub.execute_input": "2023-10-29T13:45:21.949970Z",
     "iopub.status.busy": "2023-10-29T13:45:21.949799Z",
     "iopub.status.idle": "2023-10-29T13:45:21.953735Z",
     "shell.execute_reply": "2023-10-29T13:45:21.952984Z"
    }
   },
   "outputs": [
    {
     "name": "stdout",
     "output_type": "stream",
     "text": [
      "[240.06079749606536, 239.96445165506606, 240.03315261254704]\n"
     ]
    }
   ],
   "source": [
    "total_energy_for_all_scheduling_algos = [last_non_zero_value_standard, last_non_zero_value_heft, last_non_zero_value_random]\n",
    "print(total_energy_for_all_scheduling_algos)"
   ]
  },
  {
   "cell_type": "code",
   "execution_count": 16,
   "id": "1bbaebe2ffcfd113",
   "metadata": {
    "ExecuteTime": {
     "end_time": "2023-10-24T19:16:25.133184119Z",
     "start_time": "2023-10-24T19:16:24.865574135Z"
    },
    "collapsed": false,
    "execution": {
     "iopub.execute_input": "2023-10-29T13:45:21.956665Z",
     "iopub.status.busy": "2023-10-29T13:45:21.956446Z",
     "iopub.status.idle": "2023-10-29T13:45:21.961579Z",
     "shell.execute_reply": "2023-10-29T13:45:21.960965Z"
    }
   },
   "outputs": [
    {
     "name": "stdout",
     "output_type": "stream",
     "text": [
      "Resource scheduling algorithm HEFT is the most optimal amongst the three scheduling algorithms analysed above!\n",
      "----------------------------------------------------------------------------------------------------------------------------------------------\n",
      "Scheduling algorithm FIFO records 0.04015% worse energy-efficiency than the scheduling algorithm HEFT for pegasus workload trace and 100% cluster-size configuration.\n",
      "Scheduling algorithm Random records 0.02863% worse energy-efficiency than the scheduling algorithm HEFT for pegasus workload trace and 100% cluster-size configuration.\n"
     ]
    }
   ],
   "source": [
    "min_value = min(total_energy_for_all_scheduling_algos)\n",
    "dict = {0:\"FIFO\", 1:\"HEFT\", 2:\"Random\"}\n",
    "min_index = total_energy_for_all_scheduling_algos.index(min_value)\n",
    "\n",
    "# Calculate the percentage difference for each element compared to the minimum\n",
    "percentages = []\n",
    "for i, value in enumerate(total_energy_for_all_scheduling_algos):\n",
    "    if i == min_index:\n",
    "        continue  # Skip comparing the minimum value to itself\n",
    "    percentage_difference = ((value - min_value) / min_value) * 100\n",
    "    percentages.append((i, percentage_difference))\n",
    "\n",
    "# Print the results\n",
    "print(f\"Resource scheduling algorithm {dict[min_index]} is the most optimal amongst the three scheduling algorithms analysed above!\")\n",
    "print(\"----------------------------------------------------------------------------------------------------------------------------------------------\")\n",
    "for i, percentage in percentages:\n",
    "    print(f\"Scheduling algorithm {dict[i]} records {abs(percentage):.5f}% {'better' if percentage < 0 else 'worse'} energy-efficiency than the scheduling algorithm {dict[min_index]} for pegasus workload trace and 100% cluster-size configuration.\")\n"
   ]
  },
  {
   "cell_type": "code",
   "execution_count": 64,
   "id": "709b58304c7c1f92",
   "metadata": {
    "ExecuteTime": {
     "end_time": "2023-10-24T19:16:25.133587739Z",
     "start_time": "2023-10-24T19:16:24.974051312Z"
    },
    "collapsed": false
   },
   "outputs": [],
   "source": []
  }
 ],
 "metadata": {
  "kernelspec": {
   "display_name": "Python 3",
   "language": "python",
   "name": "python3"
  },
  "language_info": {
   "codemirror_mode": {
    "name": "ipython",
    "version": 3
   },
   "file_extension": ".py",
   "mimetype": "text/x-python",
   "name": "python",
   "nbconvert_exporter": "python",
   "pygments_lexer": "ipython3",
   "version": "3.11.6"
  }
 },
 "nbformat": 4,
 "nbformat_minor": 5
}
