{
 "cells": [
  {
   "cell_type": "code",
   "execution_count": 1,
   "id": "initial_id",
   "metadata": {
    "ExecuteTime": {
     "end_time": "2023-10-24T19:34:25.908186653Z",
     "start_time": "2023-10-24T19:34:25.907074773Z"
    },
    "collapsed": true,
    "execution": {
     "iopub.execute_input": "2023-10-29T13:48:43.021295Z",
     "iopub.status.busy": "2023-10-29T13:48:43.020497Z",
     "iopub.status.idle": "2023-10-29T13:48:43.033641Z",
     "shell.execute_reply": "2023-10-29T13:48:43.030324Z"
    }
   },
   "outputs": [],
   "source": [
    "# !pip install influxdb-client"
   ]
  },
  {
   "cell_type": "code",
   "execution_count": 2,
   "id": "7061e3b22c4a6107",
   "metadata": {
    "ExecuteTime": {
     "end_time": "2023-10-24T19:34:27.237387724Z",
     "start_time": "2023-10-24T19:34:25.907709875Z"
    },
    "collapsed": false,
    "execution": {
     "iopub.execute_input": "2023-10-29T13:48:43.044312Z",
     "iopub.status.busy": "2023-10-29T13:48:43.043432Z",
     "iopub.status.idle": "2023-10-29T13:48:44.041183Z",
     "shell.execute_reply": "2023-10-29T13:48:44.040600Z"
    }
   },
   "outputs": [],
   "source": [
    "import influxdb_client\n",
    "import pandas as pd\n",
    "import matplotlib.pyplot as plt\n",
    "import json\n",
    "from pathlib import Path"
   ]
  },
  {
   "cell_type": "code",
   "execution_count": 3,
   "id": "327e81c9028d2a68",
   "metadata": {
    "ExecuteTime": {
     "end_time": "2023-10-24T19:34:27.260768535Z",
     "start_time": "2023-10-24T19:34:27.242082718Z"
    },
    "collapsed": false,
    "execution": {
     "iopub.execute_input": "2023-10-29T13:48:44.044314Z",
     "iopub.status.busy": "2023-10-29T13:48:44.044002Z",
     "iopub.status.idle": "2023-10-29T13:48:44.053065Z",
     "shell.execute_reply": "2023-10-29T13:48:44.052468Z"
    }
   },
   "outputs": [
    {
     "name": "stdout",
     "output_type": "stream",
     "text": [
      "{'bucket': 'FinalExperiment', 'org': '@Large-Research', 'token': 'd5KtoS1-I2iMVHiRQsVnXKV7MW7QR70Z1mqRdvqs08v-jKxEv8Q_URRHr2tl4AUwwqWHDeZNUKEtSTLjiCf-vg==', 'url': 'http://localhost:8086', 'location': 'Amsterdam'}\n"
     ]
    }
   ],
   "source": [
    "config_file = \"/windows/os/Thesis-Project/ODAbler/key-configurations/influxdb-config.json\"\n",
    "p = Path(config_file)\n",
    "with p.open('r') as f:\n",
    "    content = json.load(f)\n",
    "    print(content)\n",
    "url = content['url']\n",
    "token = content['token']\n",
    "org = content['org']\n",
    "client = influxdb_client.InfluxDBClient(\n",
    "   url=url,\n",
    "   token=token,\n",
    "   org=org,\n",
    "    timeout=30_000\n",
    ")\n",
    "query_api = client.query_api()"
   ]
  },
  {
   "cell_type": "code",
   "execution_count": 4,
   "id": "611c3963e3ffc6dc",
   "metadata": {
    "ExecuteTime": {
     "end_time": "2023-10-24T19:35:18.009903704Z",
     "start_time": "2023-10-24T19:34:27.254775932Z"
    },
    "collapsed": false,
    "execution": {
     "iopub.execute_input": "2023-10-29T13:48:44.055391Z",
     "iopub.status.busy": "2023-10-29T13:48:44.055198Z",
     "iopub.status.idle": "2023-10-29T13:49:22.138130Z",
     "shell.execute_reply": "2023-10-29T13:49:22.137519Z"
    }
   },
   "outputs": [
    {
     "name": "stdout",
     "output_type": "stream",
     "text": [
      "       timestamp  serverId  cpuUtilisation  guestsRunning  powerUsage   \n",
      "0           30.0       0.0             1.0           24.0       350.0  \\\n",
      "1           30.0       1.0             1.0           24.0       350.0   \n",
      "2           30.0       2.0             1.0           24.0       350.0   \n",
      "3           30.0       3.0             1.0           24.0       350.0   \n",
      "4           30.0       4.0             1.0           24.0       350.0   \n",
      "...          ...       ...             ...            ...         ...   \n",
      "83971   125970.0      15.0             0.0            0.0       200.0   \n",
      "83972   125970.0      16.0             0.0            0.0       200.0   \n",
      "83973   125970.0      17.0             0.0            0.0       200.0   \n",
      "83974   125970.0      18.0             0.0            0.0       200.0   \n",
      "83975   125970.0      19.0             0.0            0.0       200.0   \n",
      "\n",
      "        energyUsage  \n",
      "0      1.019993e+04  \n",
      "1      2.039985e+04  \n",
      "2      3.059978e+04  \n",
      "3      4.079971e+04  \n",
      "4      5.099963e+04  \n",
      "...             ...  \n",
      "83971  5.113491e+08  \n",
      "83972  5.113551e+08  \n",
      "83973  5.113611e+08  \n",
      "83974  5.113671e+08  \n",
      "83975  5.113731e+08  \n",
      "\n",
      "[83976 rows x 6 columns]\n"
     ]
    }
   ],
   "source": [
    "query_standard = 'from(bucket:\"FinalExperiment\")\\\n",
    "|> range(start: 2023-10-24T18:15:00Z, stop: 2023-10-24T19:30:00Z)\\\n",
    "|> filter(fn: (r) => r._measurement == \"OpenDC_Energy_Experiment\" and r._field =~ /policyId|guestsRunning|cpuUtilisation|timestamp|powerUsage|energyUsage|serverId/)\\\n",
    "|> pivot(rowKey:[\"_time\"], columnKey: [\"_field\"], valueColumn: \"_value\")\\\n",
    "|> filter(fn:(r) => r.policyId == 64)'\n",
    "result_standard = query_api.query_data_frame(org=org, query=query_standard)\n",
    "\n",
    "#display(result_standard.head(10))\n",
    "pd.set_option('display.max_columns', None)\n",
    "df_standard = result_standard[['timestamp','serverId','cpuUtilisation','guestsRunning','powerUsage','energyUsage']]\n",
    "print(df_standard)"
   ]
  },
  {
   "cell_type": "code",
   "execution_count": 5,
   "id": "3b46a2557b60c693",
   "metadata": {
    "ExecuteTime": {
     "end_time": "2023-10-24T19:36:08.286590870Z",
     "start_time": "2023-10-24T19:35:17.983895091Z"
    },
    "collapsed": false,
    "execution": {
     "iopub.execute_input": "2023-10-29T13:49:22.140669Z",
     "iopub.status.busy": "2023-10-29T13:49:22.140451Z",
     "iopub.status.idle": "2023-10-29T13:49:59.486626Z",
     "shell.execute_reply": "2023-10-29T13:49:59.485768Z"
    }
   },
   "outputs": [
    {
     "name": "stdout",
     "output_type": "stream",
     "text": [
      "       timestamp  serverId  cpuUtilisation  guestsRunning  powerUsage   \n",
      "0           30.0       0.0             1.0           24.0       350.0  \\\n",
      "1           30.0       1.0             1.0           24.0       350.0   \n",
      "2           30.0       2.0             1.0           24.0       350.0   \n",
      "3           30.0       3.0             1.0           24.0       350.0   \n",
      "4           30.0       4.0             1.0           24.0       350.0   \n",
      "...          ...       ...             ...            ...         ...   \n",
      "83973   125970.0      15.0             0.0            0.0       200.0   \n",
      "83974   125970.0      16.0             0.0            0.0       200.0   \n",
      "83975   125970.0      17.0             0.0            0.0       200.0   \n",
      "83976   125970.0      18.0             0.0            0.0       200.0   \n",
      "83977   125970.0      19.0             0.0            0.0       200.0   \n",
      "\n",
      "        energyUsage  \n",
      "0      1.019993e+04  \n",
      "1      2.039985e+04  \n",
      "2      3.059978e+04  \n",
      "3      4.079971e+04  \n",
      "4      5.099963e+04  \n",
      "...             ...  \n",
      "83973  5.117568e+08  \n",
      "83974  5.117628e+08  \n",
      "83975  5.117688e+08  \n",
      "83976  5.117748e+08  \n",
      "83977  5.117808e+08  \n",
      "\n",
      "[83978 rows x 6 columns]\n"
     ]
    }
   ],
   "source": [
    "query_heft = 'from(bucket:\"FinalExperiment\")\\\n",
    "|> range(start: 2023-10-24T18:15:00Z, stop: 2023-10-24T19:30:00Z)\\\n",
    "|> filter(fn: (r) => r._measurement == \"OpenDC_Energy_Experiment\" and r._field =~ /policyId|guestsRunning|cpuUtilisation|timestamp|powerUsage|energyUsage|serverId/)\\\n",
    "|> pivot(rowKey:[\"_time\"], columnKey: [\"_field\"], valueColumn: \"_value\")\\\n",
    "|> filter(fn:(r) => r.policyId == 65)'\n",
    "result_heft = query_api.query_data_frame(org=org, query=query_heft)\n",
    "\n",
    "df_heft = result_heft[['timestamp','serverId','cpuUtilisation','guestsRunning','powerUsage','energyUsage']]\n",
    "print(df_heft)"
   ]
  },
  {
   "cell_type": "code",
   "execution_count": 6,
   "id": "89e5af9130005a08",
   "metadata": {
    "ExecuteTime": {
     "end_time": "2023-10-24T19:36:59.005911928Z",
     "start_time": "2023-10-24T19:36:08.247796758Z"
    },
    "collapsed": false,
    "execution": {
     "iopub.execute_input": "2023-10-29T13:49:59.489421Z",
     "iopub.status.busy": "2023-10-29T13:49:59.489185Z",
     "iopub.status.idle": "2023-10-29T13:50:36.745715Z",
     "shell.execute_reply": "2023-10-29T13:50:36.744940Z"
    }
   },
   "outputs": [
    {
     "name": "stdout",
     "output_type": "stream",
     "text": [
      "       timestamp  serverId  cpuUtilisation  guestsRunning  powerUsage   \n",
      "0           30.0       0.0        1.000000           24.0  350.000000  \\\n",
      "1           30.0       1.0        1.000000           24.0  350.000000   \n",
      "2           30.0       2.0        1.000000           24.0  350.000000   \n",
      "3           30.0       3.0        1.000000           24.0  350.000000   \n",
      "4           30.0       4.0        1.000000           24.0  350.000000   \n",
      "...          ...       ...             ...            ...         ...   \n",
      "83975   125970.0      15.0        0.000000            0.0  200.000000   \n",
      "83976   125970.0      16.0        0.000000            0.0  200.000000   \n",
      "83977   125970.0      17.0        0.000000            0.0  200.000000   \n",
      "83978   125970.0      18.0        0.000000            0.0  200.000000   \n",
      "83979   125970.0      19.0        0.041667            1.0  200.010851   \n",
      "\n",
      "        energyUsage  \n",
      "0      1.019993e+04  \n",
      "1      2.039985e+04  \n",
      "2      3.059978e+04  \n",
      "3      4.079971e+04  \n",
      "4      5.099963e+04  \n",
      "...             ...  \n",
      "83975  5.114505e+08  \n",
      "83976  5.114565e+08  \n",
      "83977  5.114625e+08  \n",
      "83978  5.114685e+08  \n",
      "83979  5.114745e+08  \n",
      "\n",
      "[83980 rows x 6 columns]\n"
     ]
    }
   ],
   "source": [
    "query_random = 'from(bucket:\"FinalExperiment\")\\\n",
    "|> range(start: 2023-10-24T18:15:00Z, stop: 2023-10-24T19:30:00Z)\\\n",
    "|> filter(fn: (r) => r._measurement == \"OpenDC_Energy_Experiment\" and r._field =~ /policyId|guestsRunning|cpuUtilisation|timestamp|powerUsage|energyUsage|serverId/)\\\n",
    "|> pivot(rowKey:[\"_time\"], columnKey: [\"_field\"], valueColumn: \"_value\")\\\n",
    "|> filter(fn:(r) => r.policyId == 66)'\n",
    "result_random = query_api.query_data_frame(org=org, query=query_random)\n",
    "\n",
    "df_random = result_random[['timestamp','serverId','cpuUtilisation','guestsRunning','powerUsage','energyUsage']]\n",
    "print(df_random)"
   ]
  },
  {
   "cell_type": "code",
   "execution_count": 7,
   "id": "aff1024d1a8e3d54",
   "metadata": {
    "ExecuteTime": {
     "end_time": "2023-10-24T19:36:59.006169768Z",
     "start_time": "2023-10-24T19:36:58.982787598Z"
    },
    "collapsed": false,
    "execution": {
     "iopub.execute_input": "2023-10-29T13:50:36.748454Z",
     "iopub.status.busy": "2023-10-29T13:50:36.748015Z",
     "iopub.status.idle": "2023-10-29T13:50:36.751953Z",
     "shell.execute_reply": "2023-10-29T13:50:36.751058Z"
    }
   },
   "outputs": [],
   "source": [
    "# query_minmin = 'from(bucket:\"Experiment\")\\\n",
    "# |> range(start: 2023-10-24T18:15:00Z, stop: 2023-10-24T19:30:00Z)\\\n",
    "# |> filter(fn: (r) => r._measurement == \"OpenDC_Energy_Experiment\" and r._field =~ /policy_id|guestsRunning|cpuUtilisation|timestamp|powerUsage|energyUsage|host_id/)\\\n",
    "# |> pivot(rowKey:[\"_time\"], columnKey: [\"_field\"], valueColumn: \"_value\")\\\n",
    "# |> filter(fn:(r) => r.policy_id == 4)'\n",
    "# result_minmin = query_api.query_data_frame(org=org, query=query_minmin)\n",
    "# \n",
    "# df_minmin = result_minmin[['timestamp','host_id','cpuUtilisation','guestsRunning','powerUsage','energyUsage']]\n",
    "# print(df_minmin)"
   ]
  },
  {
   "cell_type": "code",
   "execution_count": 8,
   "id": "48c4d8df7df1c9d6",
   "metadata": {
    "ExecuteTime": {
     "end_time": "2023-10-24T19:36:59.061247333Z",
     "start_time": "2023-10-24T19:36:58.982950453Z"
    },
    "collapsed": false,
    "execution": {
     "iopub.execute_input": "2023-10-29T13:50:36.755673Z",
     "iopub.status.busy": "2023-10-29T13:50:36.755106Z",
     "iopub.status.idle": "2023-10-29T13:50:36.766390Z",
     "shell.execute_reply": "2023-10-29T13:50:36.765654Z"
    }
   },
   "outputs": [
    {
     "name": "stdout",
     "output_type": "stream",
     "text": [
      "       timestamp  serverId   energyUsage\n",
      "19          30.0        19  2.039985e+05\n",
      "39          60.0        19  4.139985e+05\n",
      "59          90.0        19  6.239985e+05\n",
      "79         120.0        19  8.339985e+05\n",
      "99         150.0        19  1.043999e+06\n",
      "...          ...       ...           ...\n",
      "83895   125850.0        19  5.108931e+08\n",
      "83915   125880.0        19  5.110131e+08\n",
      "83935   125910.0        19  5.111331e+08\n",
      "83955   125940.0        19  5.112531e+08\n",
      "83975   125970.0        19  5.113731e+08\n",
      "\n",
      "[4199 rows x 3 columns]\n"
     ]
    },
    {
     "name": "stderr",
     "output_type": "stream",
     "text": [
      "/tmp/ipykernel_43913/658179243.py:2: SettingWithCopyWarning: \n",
      "A value is trying to be set on a copy of a slice from a DataFrame.\n",
      "Try using .loc[row_indexer,col_indexer] = value instead\n",
      "\n",
      "See the caveats in the documentation: https://pandas.pydata.org/pandas-docs/stable/user_guide/indexing.html#returning-a-view-versus-a-copy\n",
      "  df_total_power_standard['serverId'] = df_total_power_standard['serverId']. astype(int)\n"
     ]
    }
   ],
   "source": [
    "df_total_power_standard = df_standard[['timestamp','serverId','energyUsage']]\n",
    "df_total_power_standard['serverId'] = df_total_power_standard['serverId']. astype(int)\n",
    "df_total_power_standard = df_total_power_standard.loc[df_total_power_standard['serverId'] == 19]\n",
    "print(df_total_power_standard)"
   ]
  },
  {
   "cell_type": "code",
   "execution_count": 9,
   "id": "9d5184d679b6660f",
   "metadata": {
    "ExecuteTime": {
     "end_time": "2023-10-24T19:36:59.164937114Z",
     "start_time": "2023-10-24T19:36:59.062177188Z"
    },
    "collapsed": false,
    "execution": {
     "iopub.execute_input": "2023-10-29T13:50:36.769658Z",
     "iopub.status.busy": "2023-10-29T13:50:36.769454Z",
     "iopub.status.idle": "2023-10-29T13:50:36.780047Z",
     "shell.execute_reply": "2023-10-29T13:50:36.779266Z"
    }
   },
   "outputs": [
    {
     "name": "stdout",
     "output_type": "stream",
     "text": [
      "       timestamp  serverId   energyUsage\n",
      "19          30.0        19  2.039985e+05\n",
      "39          60.0        19  4.139985e+05\n",
      "59          90.0        19  6.239985e+05\n",
      "79         120.0        19  8.339985e+05\n",
      "99         150.0        19  1.043999e+06\n",
      "...          ...       ...           ...\n",
      "83897   125850.0        19  5.113008e+08\n",
      "83917   125880.0        19  5.114208e+08\n",
      "83937   125910.0        19  5.115408e+08\n",
      "83957   125940.0        19  5.116608e+08\n",
      "83977   125970.0        19  5.117808e+08\n",
      "\n",
      "[4199 rows x 3 columns]\n"
     ]
    },
    {
     "name": "stderr",
     "output_type": "stream",
     "text": [
      "/tmp/ipykernel_43913/2174346701.py:2: SettingWithCopyWarning: \n",
      "A value is trying to be set on a copy of a slice from a DataFrame.\n",
      "Try using .loc[row_indexer,col_indexer] = value instead\n",
      "\n",
      "See the caveats in the documentation: https://pandas.pydata.org/pandas-docs/stable/user_guide/indexing.html#returning-a-view-versus-a-copy\n",
      "  df_total_power_heft['serverId'] = df_total_power_heft['serverId']. astype(int)\n"
     ]
    }
   ],
   "source": [
    "df_total_power_heft = df_heft[['timestamp','serverId','energyUsage']]\n",
    "df_total_power_heft['serverId'] = df_total_power_heft['serverId']. astype(int)\n",
    "df_total_power_heft = df_total_power_heft.loc[df_total_power_heft['serverId'] == 19]\n",
    "print(df_total_power_heft)"
   ]
  },
  {
   "cell_type": "code",
   "execution_count": 10,
   "id": "5eb714008442e4ae",
   "metadata": {
    "ExecuteTime": {
     "end_time": "2023-10-24T19:36:59.268710596Z",
     "start_time": "2023-10-24T19:36:59.114389250Z"
    },
    "collapsed": false,
    "execution": {
     "iopub.execute_input": "2023-10-29T13:50:36.783304Z",
     "iopub.status.busy": "2023-10-29T13:50:36.783101Z",
     "iopub.status.idle": "2023-10-29T13:50:36.793789Z",
     "shell.execute_reply": "2023-10-29T13:50:36.792997Z"
    }
   },
   "outputs": [
    {
     "name": "stdout",
     "output_type": "stream",
     "text": [
      "       timestamp  serverId   energyUsage\n",
      "19          30.0        19  2.039985e+05\n",
      "39          60.0        19  4.139985e+05\n",
      "59          90.0        19  6.239985e+05\n",
      "79         120.0        19  8.339985e+05\n",
      "99         150.0        19  1.043999e+06\n",
      "...          ...       ...           ...\n",
      "83899   125850.0        19  5.109945e+08\n",
      "83919   125880.0        19  5.111145e+08\n",
      "83939   125910.0        19  5.112345e+08\n",
      "83959   125940.0        19  5.113545e+08\n",
      "83979   125970.0        19  5.114745e+08\n",
      "\n",
      "[4199 rows x 3 columns]\n"
     ]
    },
    {
     "name": "stderr",
     "output_type": "stream",
     "text": [
      "/tmp/ipykernel_43913/1030175566.py:2: SettingWithCopyWarning: \n",
      "A value is trying to be set on a copy of a slice from a DataFrame.\n",
      "Try using .loc[row_indexer,col_indexer] = value instead\n",
      "\n",
      "See the caveats in the documentation: https://pandas.pydata.org/pandas-docs/stable/user_guide/indexing.html#returning-a-view-versus-a-copy\n",
      "  df_total_power_random['serverId'] = df_total_power_random['serverId']. astype(int)\n"
     ]
    }
   ],
   "source": [
    "df_total_power_random = df_random[['timestamp','serverId','energyUsage']]\n",
    "df_total_power_random['serverId'] = df_total_power_random['serverId']. astype(int)\n",
    "df_total_power_random = df_total_power_random.loc[df_total_power_random['serverId'] == 19]\n",
    "print(df_total_power_random)"
   ]
  },
  {
   "cell_type": "code",
   "execution_count": 11,
   "id": "95416f964813cace",
   "metadata": {
    "ExecuteTime": {
     "end_time": "2023-10-24T19:36:59.333211864Z",
     "start_time": "2023-10-24T19:36:59.196814380Z"
    },
    "collapsed": false,
    "execution": {
     "iopub.execute_input": "2023-10-29T13:50:36.796620Z",
     "iopub.status.busy": "2023-10-29T13:50:36.796416Z",
     "iopub.status.idle": "2023-10-29T13:50:36.799706Z",
     "shell.execute_reply": "2023-10-29T13:50:36.798859Z"
    }
   },
   "outputs": [],
   "source": [
    "# df_total_power_minmin = df_minmin[['timestamp','host_id','energyUsage']]\n",
    "# df_total_power_minmin['host_id'] = df_total_power_minmin['host_id']. astype(int)\n",
    "# df_total_power_minmin = df_total_power_minmin.loc[df_total_power_minmin['host_id'] == 33]\n",
    "# print(df_total_power_minmin)"
   ]
  },
  {
   "cell_type": "code",
   "execution_count": 12,
   "id": "918114e71ff815b6",
   "metadata": {
    "ExecuteTime": {
     "end_time": "2023-10-24T19:37:00.439906747Z",
     "start_time": "2023-10-24T19:36:59.300892941Z"
    },
    "collapsed": false,
    "execution": {
     "iopub.execute_input": "2023-10-29T13:50:36.803414Z",
     "iopub.status.busy": "2023-10-29T13:50:36.803176Z",
     "iopub.status.idle": "2023-10-29T13:50:37.426380Z",
     "shell.execute_reply": "2023-10-29T13:50:37.425626Z"
    }
   },
   "outputs": [
    {
     "data": {
      "image/png": "[encoded data removed]",
      "text/plain": [
       "<Figure size 1300x1000 with 1 Axes>"
      ]
     },
     "metadata": {},
     "output_type": "display_data"
    }
   ],
   "source": [
    "df1 = df_total_power_standard.drop(['serverId'], axis=1)\n",
    "df2 = df_total_power_heft.drop(['serverId'], axis=1)\n",
    "df3 = df_total_power_random.drop(['serverId'], axis=1)\n",
    "# df4 = df_total_power_minmin.drop(['serverId'], axis=1)\n",
    "# print(df1)\n",
    "# Create a list of all the dataframes\n",
    "dfs = [df1, df2, df3]\n",
    "\n",
    "# Create a new dataframe with all the timestamps from all the dataframes\n",
    "df_timestamps = pd.DataFrame({'timestamp': sorted(set(sum([df['timestamp'].tolist() for df in dfs], [])))})\n",
    "\n",
    "# Merge the new dataframe with all the dataframes, filling in missing values with 0\n",
    "df_merged = df_timestamps.merge(df1, how='left', on='timestamp', suffixes=('', '_x')).merge(df2, how='left', on='timestamp', suffixes=('', '_y')).merge(df3, how='left', on='timestamp', suffixes=('', '_z')).fillna(0)\n",
    "\n",
    "# Convert watts to kiloWatt-hours\n",
    "df_merged[\"energyUsage\"] = df_merged[\"energyUsage\"]/(1000*3600)\n",
    "df_merged[\"energyUsage_y\"] = df_merged[\"energyUsage_y\"]/(1000*3600)\n",
    "df_merged[\"energyUsage_z\"] = df_merged[\"energyUsage_z\"]/(1000*3600)\n",
    "# df_merged[\"energyUsage_w\"] = df_merged[\"energyUsage_w\"]/1000000\n",
    "df_merged.rename(columns={'energyUsage': 'FIFO-Algorithm', 'energyUsage_y': 'HEFT-Algorithm', 'energyUsage_z': 'Random-Algorithm'}, inplace=True) #, 'energyUsage_w': 'MinMin-Algorithm'\n",
    "df_merged['timestamp'] = df_merged['timestamp'].astype(int)\n",
    "\n",
    "# Create a custom x-axis with every 599th value, due to very large number of elements in timestamp!\n",
    "df_custom = df_merged[df_merged.index % 599 == 0]\n",
    "\n",
    "# drop first column to have consistent distance of plots\n",
    "df_custom = df_custom.drop(0)\n",
    "df_custom = df_custom.reset_index(drop= True)\n",
    "df_custom['timestamp_hours'] = round(df_custom['timestamp'] / 3600, 1) # convert seconds to hours\n",
    "# print(df_custom)\n",
    "\n",
    "ax_enlarged = df_custom.plot.bar(x='timestamp_hours', y=['FIFO-Algorithm','HEFT-Algorithm','Random-Algorithm'], title='Power consumption with various scheduling algorithms for pegasus trace\\n with 100% cluster-size configuration', width=.75, figsize=(13, 10))\n",
    "# ax_enlarged.set_xticks(custom_x)\n",
    "# ax_enlarged.set_xticklabels(custom_x_labels)\n",
    "plt.gca().xaxis.set_tick_params(rotation=45)\n",
    "plt.ylabel('\\nTotal power consumption (in kWh: kiloWatt-Hours)', fontsize=15)\n",
    "plt.xlabel('\\nTimestamp (in h: hours)', fontsize=15)\n",
    "# plt.figure(figsize=(14.5, 8.5))\n",
    "# plt.set_size_inches(14.5, 8.5)\n",
    "plt.grid(True)\n",
    "plt.savefig('multiple_hosts_energy_plotted_trace_pegasus_60.png', bbox_inches='tight')\n",
    "plt.show()"
   ]
  },
  {
   "cell_type": "code",
   "execution_count": 13,
   "id": "dd9256b6af1362d1",
   "metadata": {
    "ExecuteTime": {
     "end_time": "2023-10-24T19:37:00.707564581Z",
     "start_time": "2023-10-24T19:37:00.443425073Z"
    },
    "collapsed": false,
    "execution": {
     "iopub.execute_input": "2023-10-29T13:50:37.428867Z",
     "iopub.status.busy": "2023-10-29T13:50:37.428629Z",
     "iopub.status.idle": "2023-10-29T13:50:37.435626Z",
     "shell.execute_reply": "2023-10-29T13:50:37.434875Z"
    }
   },
   "outputs": [
    {
     "name": "stdout",
     "output_type": "stream",
     "text": [
      "      timestamp  FIFO-Algorithm  HEFT-Algorithm  Random-Algorithm\n",
      "0            30        0.056666        0.056666          0.056666\n",
      "1            60        0.115000        0.115000          0.115000\n",
      "2            90        0.173333        0.173333          0.173333\n",
      "3           120        0.231666        0.231666          0.231666\n",
      "4           150        0.290000        0.290000          0.290000\n",
      "...         ...             ...             ...               ...\n",
      "4194     125850      141.914757      142.028010        141.942903\n",
      "4195     125880      141.948091      142.061343        141.976237\n",
      "4196     125910      141.981424      142.094677        142.009570\n",
      "4197     125940      142.014758      142.128010        142.042904\n",
      "4198     125970      142.048091      142.161344        142.076237\n",
      "\n",
      "[4199 rows x 4 columns]\n"
     ]
    }
   ],
   "source": [
    "# df_merged[\"energyUsage\"] = df_merged[\"energyUsage\"]/(1000*3600)\n",
    "# df_merged[\"energyUsage_y\"] = df_merged[\"energyUsage_y\"]/(1000*3600)\n",
    "# df_merged[\"energyUsage_z\"] = df_merged[\"energyUsage_z\"]/(1000*3600)\n",
    "print(df_merged)"
   ]
  },
  {
   "cell_type": "code",
   "execution_count": 14,
   "id": "cf05cddd56d570cd",
   "metadata": {
    "ExecuteTime": {
     "end_time": "2023-10-24T19:37:00.707838464Z",
     "start_time": "2023-10-24T19:37:00.483899944Z"
    },
    "collapsed": false,
    "execution": {
     "iopub.execute_input": "2023-10-29T13:50:37.438035Z",
     "iopub.status.busy": "2023-10-29T13:50:37.437800Z",
     "iopub.status.idle": "2023-10-29T13:50:37.445020Z",
     "shell.execute_reply": "2023-10-29T13:50:37.444400Z"
    }
   },
   "outputs": [
    {
     "name": "stdout",
     "output_type": "stream",
     "text": [
      "Total energy consumption in FIFO algorithm for executing given trace - 142.0480910529712 kWh\n",
      "Total energy consumption in HEFT algorithm for executing given trace - 142.1613436373055 kWh\n",
      "Total energy consumption in Random algorithm for executing given trace - 142.07623717667266 kWh\n"
     ]
    }
   ],
   "source": [
    "# Reverse the column and find the first non-zero value for getting total power\n",
    "last_non_zero_value_standard = df_merged[df_merged['FIFO-Algorithm'] != 0]['FIFO-Algorithm'].iloc[-1]\n",
    "print(f\"Total energy consumption in FIFO algorithm for executing given trace - {last_non_zero_value_standard} kWh\")\n",
    "last_non_zero_value_heft = df_merged[df_merged['HEFT-Algorithm'] != 0]['HEFT-Algorithm'].iloc[-1]\n",
    "print(f\"Total energy consumption in HEFT algorithm for executing given trace - {last_non_zero_value_heft} kWh\")\n",
    "last_non_zero_value_random = df_merged[df_merged['Random-Algorithm'] != 0]['Random-Algorithm'].iloc[-1]\n",
    "print(f\"Total energy consumption in Random algorithm for executing given trace - {last_non_zero_value_random} kWh\")"
   ]
  },
  {
   "cell_type": "code",
   "execution_count": 15,
   "id": "e178ed8f355873b7",
   "metadata": {
    "ExecuteTime": {
     "end_time": "2023-10-24T19:37:00.708027904Z",
     "start_time": "2023-10-24T19:37:00.524842015Z"
    },
    "collapsed": false,
    "execution": {
     "iopub.execute_input": "2023-10-29T13:50:37.447393Z",
     "iopub.status.busy": "2023-10-29T13:50:37.447188Z",
     "iopub.status.idle": "2023-10-29T13:50:37.451175Z",
     "shell.execute_reply": "2023-10-29T13:50:37.450438Z"
    }
   },
   "outputs": [
    {
     "name": "stdout",
     "output_type": "stream",
     "text": [
      "[142.0480910529712, 142.1613436373055, 142.07623717667266]\n"
     ]
    }
   ],
   "source": [
    "total_energy_for_all_scheduling_algos = [last_non_zero_value_standard, last_non_zero_value_heft, last_non_zero_value_random]\n",
    "print(total_energy_for_all_scheduling_algos)"
   ]
  },
  {
   "cell_type": "code",
   "execution_count": 16,
   "id": "1bbaebe2ffcfd113",
   "metadata": {
    "ExecuteTime": {
     "end_time": "2023-10-24T19:37:00.708289209Z",
     "start_time": "2023-10-24T19:37:00.580385482Z"
    },
    "collapsed": false,
    "execution": {
     "iopub.execute_input": "2023-10-29T13:50:37.453605Z",
     "iopub.status.busy": "2023-10-29T13:50:37.453430Z",
     "iopub.status.idle": "2023-10-29T13:50:37.458923Z",
     "shell.execute_reply": "2023-10-29T13:50:37.458267Z"
    }
   },
   "outputs": [
    {
     "name": "stdout",
     "output_type": "stream",
     "text": [
      "Resource scheduling algorithm FIFO is the most optimal amongst the three scheduling algorithms analysed above!\n",
      "----------------------------------------------------------------------------------------------------------------------------------------------\n",
      "Scheduling algorithm HEFT records 0.07973% worse energy-efficiency than the scheduling algorithm FIFO for pegasus workload trace and 60% cluster-size configuration.\n",
      "Scheduling algorithm Random records 0.01981% worse energy-efficiency than the scheduling algorithm FIFO for pegasus workload trace and 60% cluster-size configuration.\n"
     ]
    }
   ],
   "source": [
    "min_value = min(total_energy_for_all_scheduling_algos)\n",
    "dict = {0:\"FIFO\", 1:\"HEFT\", 2:\"Random\"}\n",
    "min_index = total_energy_for_all_scheduling_algos.index(min_value)\n",
    "\n",
    "# Calculate the percentage difference for each element compared to the minimum\n",
    "percentages = []\n",
    "for i, value in enumerate(total_energy_for_all_scheduling_algos):\n",
    "    if i == min_index:\n",
    "        continue  # Skip comparing the minimum value to itself\n",
    "    percentage_difference = ((value - min_value) / min_value) * 100\n",
    "    percentages.append((i, percentage_difference))\n",
    "\n",
    "# Print the results\n",
    "print(f\"Resource scheduling algorithm {dict[min_index]} is the most optimal amongst the three scheduling algorithms analysed above!\")\n",
    "print(\"----------------------------------------------------------------------------------------------------------------------------------------------\")\n",
    "for i, percentage in percentages:\n",
    "    print(f\"Scheduling algorithm {dict[i]} records {abs(percentage):.5f}% {'better' if percentage < 0 else 'worse'} energy-efficiency than the scheduling algorithm {dict[min_index]} for pegasus workload trace and 60% cluster-size configuration.\")\n"
   ]
  },
  {
   "cell_type": "code",
   "execution_count": 16,
   "id": "709b58304c7c1f92",
   "metadata": {
    "ExecuteTime": {
     "end_time": "2023-10-24T19:37:00.708853685Z",
     "start_time": "2023-10-24T19:37:00.655757835Z"
    },
    "collapsed": false
   },
   "outputs": [],
   "source": []
  }
 ],
 "metadata": {
  "kernelspec": {
   "display_name": "Python 3",
   "language": "python",
   "name": "python3"
  },
  "language_info": {
   "codemirror_mode": {
    "name": "ipython",
    "version": 3
   },
   "file_extension": ".py",
   "mimetype": "text/x-python",
   "name": "python",
   "nbconvert_exporter": "python",
   "pygments_lexer": "ipython3",
   "version": "3.11.6"
  }
 },
 "nbformat": 4,
 "nbformat_minor": 5
}
