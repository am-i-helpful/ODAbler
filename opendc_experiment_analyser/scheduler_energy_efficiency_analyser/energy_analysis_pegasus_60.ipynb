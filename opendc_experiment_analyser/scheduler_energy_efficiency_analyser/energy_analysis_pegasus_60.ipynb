{
 "cells": [
  {
   "cell_type": "code",
   "execution_count": 13,
   "id": "initial_id",
   "metadata": {
    "collapsed": true,
    "ExecuteTime": {
     "end_time": "2023-09-25T23:07:00.641337331Z",
     "start_time": "2023-09-25T23:07:00.499699405Z"
    }
   },
   "outputs": [],
   "source": [
    "# !pip install influxdb-client"
   ]
  },
  {
   "cell_type": "code",
   "execution_count": 14,
   "outputs": [],
   "source": [
    "import influxdb_client\n",
    "import pandas as pd\n",
    "import matplotlib.pyplot as plt\n",
    "import json\n",
    "from pathlib import Path"
   ],
   "metadata": {
    "collapsed": false,
    "ExecuteTime": {
     "end_time": "2023-09-25T23:07:00.642088723Z",
     "start_time": "2023-09-25T23:07:00.540245993Z"
    }
   },
   "id": "7061e3b22c4a6107"
  },
  {
   "cell_type": "code",
   "execution_count": 15,
   "outputs": [
    {
     "name": "stdout",
     "output_type": "stream",
     "text": [
      "{'bucket': 'Temporary', 'org': '@Large-Research', 'token': 'd5KtoS1-I2iMVHiRQsVnXKV7MW7QR70Z1mqRdvqs08v-jKxEv8Q_URRHr2tl4AUwwqWHDeZNUKEtSTLjiCf-vg==', 'url': 'http://localhost:8086', 'location': 'Amsterdam'}\n"
     ]
    }
   ],
   "source": [
    "config_file = \"/windows/os/Thesis-Project/ODAbler/key-configurations/influxdb-config.json\"\n",
    "p = Path(config_file)\n",
    "with p.open('r') as f:\n",
    "    content = json.load(f)\n",
    "    print(content)\n",
    "url = content['url']\n",
    "token = content['token']\n",
    "org = content['org']\n",
    "client = influxdb_client.InfluxDBClient(\n",
    "   url=url,\n",
    "   token=token,\n",
    "   org=org,\n",
    "    timeout=30_000\n",
    ")\n",
    "query_api = client.query_api()"
   ],
   "metadata": {
    "collapsed": false,
    "ExecuteTime": {
     "end_time": "2023-09-25T23:07:00.781395748Z",
     "start_time": "2023-09-25T23:07:00.617373861Z"
    }
   },
   "id": "327e81c9028d2a68"
  },
  {
   "cell_type": "code",
   "execution_count": 16,
   "outputs": [
    {
     "name": "stdout",
     "output_type": "stream",
     "text": [
      "       timestamp  serverId  cpuUtilisation  guestsRunning  powerUsage   \n",
      "0           30.0       0.0             1.0           24.0       350.0  \\\n",
      "1           30.0       1.0             1.0           24.0       350.0   \n",
      "2           30.0       2.0             1.0           24.0       350.0   \n",
      "3           30.0       3.0             1.0           24.0       350.0   \n",
      "4           30.0       4.0             1.0           24.0       350.0   \n",
      "...          ...       ...             ...            ...         ...   \n",
      "83973   125970.0      15.0             0.0            0.0       200.0   \n",
      "83974   125970.0      16.0             0.0            0.0       200.0   \n",
      "83975   125970.0      17.0             0.0            0.0       200.0   \n",
      "83976   125970.0      18.0             0.0            0.0       200.0   \n",
      "83977   125970.0      19.0             0.0            0.0       200.0   \n",
      "\n",
      "         powerTotal  \n",
      "0      1.019993e+04  \n",
      "1      2.039985e+04  \n",
      "2      3.059978e+04  \n",
      "3      4.079971e+04  \n",
      "4      5.099963e+04  \n",
      "...             ...  \n",
      "83973  5.113491e+08  \n",
      "83974  5.113551e+08  \n",
      "83975  5.113611e+08  \n",
      "83976  5.113671e+08  \n",
      "83977  5.113731e+08  \n",
      "\n",
      "[83978 rows x 6 columns]\n"
     ]
    }
   ],
   "source": [
    "query_standard = 'from(bucket:\"FinalExperiment\")\\\n",
    "|> range(start: 2023-09-25T22:00:00Z, stop: 2023-09-25T22:50:00Z)\\\n",
    "|> filter(fn: (r) => r._measurement == \"OpenDC_Energy_Experiment\" and r._field =~ /policyId|guestsRunning|cpuUtilisation|timestamp|powerUsage|powerTotal|serverId/)\\\n",
    "|> pivot(rowKey:[\"_time\"], columnKey: [\"_field\"], valueColumn: \"_value\")\\\n",
    "|> filter(fn:(r) => r.policyId == 64)'\n",
    "result_standard = query_api.query_data_frame(org=org, query=query_standard)\n",
    "\n",
    "#display(result_standard.head(10))\n",
    "pd.set_option('display.max_columns', None)\n",
    "df_standard = result_standard[['timestamp','serverId','cpuUtilisation','guestsRunning','powerUsage','powerTotal']]\n",
    "print(df_standard)"
   ],
   "metadata": {
    "collapsed": false,
    "ExecuteTime": {
     "end_time": "2023-09-25T23:07:41.804106052Z",
     "start_time": "2023-09-25T23:07:00.785266942Z"
    }
   },
   "id": "611c3963e3ffc6dc"
  },
  {
   "cell_type": "code",
   "execution_count": 18,
   "outputs": [
    {
     "name": "stdout",
     "output_type": "stream",
     "text": [
      "       timestamp  serverId  cpuUtilisation  guestsRunning  powerUsage   \n",
      "0           30.0       0.0             1.0           24.0       350.0  \\\n",
      "1           30.0       1.0             1.0           24.0       350.0   \n",
      "2           30.0       2.0             1.0           24.0       350.0   \n",
      "3           30.0       3.0             1.0           24.0       350.0   \n",
      "4           30.0       4.0             1.0           24.0       350.0   \n",
      "...          ...       ...             ...            ...         ...   \n",
      "83973   125970.0      15.0             0.0            0.0       200.0   \n",
      "83974   125970.0      16.0             0.0            0.0       200.0   \n",
      "83975   125970.0      17.0             0.0            0.0       200.0   \n",
      "83976   125970.0      18.0             0.0            0.0       200.0   \n",
      "83977   125970.0      19.0             0.0            0.0       200.0   \n",
      "\n",
      "         powerTotal  \n",
      "0      1.019993e+04  \n",
      "1      2.039985e+04  \n",
      "2      3.059978e+04  \n",
      "3      4.079971e+04  \n",
      "4      5.099963e+04  \n",
      "...             ...  \n",
      "83973  5.117568e+08  \n",
      "83974  5.117628e+08  \n",
      "83975  5.117688e+08  \n",
      "83976  5.117748e+08  \n",
      "83977  5.117808e+08  \n",
      "\n",
      "[83978 rows x 6 columns]\n"
     ]
    }
   ],
   "source": [
    "query_heft = 'from(bucket:\"FinalExperiment\")\\\n",
    "|> range(start: 2023-09-25T22:00:00Z, stop: 2023-09-25T22:50:00Z)\\\n",
    "|> filter(fn: (r) => r._measurement == \"OpenDC_Energy_Experiment\" and r._field =~ /policyId|guestsRunning|cpuUtilisation|timestamp|powerUsage|powerTotal|serverId/)\\\n",
    "|> pivot(rowKey:[\"_time\"], columnKey: [\"_field\"], valueColumn: \"_value\")\\\n",
    "|> filter(fn:(r) => r.policyId == 65)'\n",
    "result_heft = query_api.query_data_frame(org=org, query=query_heft)\n",
    "\n",
    "df_heft = result_heft[['timestamp','serverId','cpuUtilisation','guestsRunning','powerUsage','powerTotal']]\n",
    "print(df_heft)"
   ],
   "metadata": {
    "collapsed": false,
    "ExecuteTime": {
     "end_time": "2023-09-25T23:08:52.644519589Z",
     "start_time": "2023-09-25T23:08:11.889767993Z"
    }
   },
   "id": "3b46a2557b60c693"
  },
  {
   "cell_type": "code",
   "execution_count": 19,
   "outputs": [
    {
     "name": "stdout",
     "output_type": "stream",
     "text": [
      "       timestamp  serverId  cpuUtilisation  guestsRunning  powerUsage   \n",
      "0           30.0       0.0        1.000000           24.0  350.000000  \\\n",
      "1           30.0       1.0        1.000000           24.0  350.000000   \n",
      "2           30.0       2.0        1.000000           24.0  350.000000   \n",
      "3           30.0       3.0        1.000000           24.0  350.000000   \n",
      "4           30.0       4.0        1.000000           24.0  350.000000   \n",
      "...          ...       ...             ...            ...         ...   \n",
      "83973   125970.0      15.0        0.000000            0.0  200.000000   \n",
      "83974   125970.0      16.0        0.000000            0.0  200.000000   \n",
      "83975   125970.0      17.0        0.000000            0.0  200.000000   \n",
      "83976   125970.0      18.0        0.000000            0.0  200.000000   \n",
      "83977   125970.0      19.0        0.041667            1.0  200.010851   \n",
      "\n",
      "         powerTotal  \n",
      "0      1.019993e+04  \n",
      "1      2.039985e+04  \n",
      "2      3.059978e+04  \n",
      "3      4.079971e+04  \n",
      "4      5.099963e+04  \n",
      "...             ...  \n",
      "83973  5.114505e+08  \n",
      "83974  5.114565e+08  \n",
      "83975  5.114625e+08  \n",
      "83976  5.114685e+08  \n",
      "83977  5.114745e+08  \n",
      "\n",
      "[83978 rows x 6 columns]\n"
     ]
    }
   ],
   "source": [
    "query_random = 'from(bucket:\"FinalExperiment\")\\\n",
    "|> range(start: 2023-09-25T22:00:00Z, stop: 2023-09-25T22:50:00Z)\\\n",
    "|> filter(fn: (r) => r._measurement == \"OpenDC_Energy_Experiment\" and r._field =~ /policyId|guestsRunning|cpuUtilisation|timestamp|powerUsage|powerTotal|serverId/)\\\n",
    "|> pivot(rowKey:[\"_time\"], columnKey: [\"_field\"], valueColumn: \"_value\")\\\n",
    "|> filter(fn:(r) => r.policyId == 66)'\n",
    "result_random = query_api.query_data_frame(org=org, query=query_random)\n",
    "\n",
    "df_random = result_random[['timestamp','serverId','cpuUtilisation','guestsRunning','powerUsage','powerTotal']]\n",
    "print(df_random)"
   ],
   "metadata": {
    "collapsed": false,
    "ExecuteTime": {
     "end_time": "2023-09-25T23:09:52.744663759Z",
     "start_time": "2023-09-25T23:09:14.077269225Z"
    }
   },
   "id": "89e5af9130005a08"
  },
  {
   "cell_type": "code",
   "execution_count": 20,
   "outputs": [],
   "source": [
    "# query_minmin = 'from(bucket:\"Experiment\")\\\n",
    "# |> range(start: 2023-09-18T22:20:00Z, stop: 2023-09-18T22:34:00Z)\\\n",
    "# |> filter(fn: (r) => r._measurement == \"OpenDC_Energy_Experiment\" and r._field =~ /policy_id|guestsRunning|cpuUtilisation|timestamp|powerUsage|powerTotal|host_id/)\\\n",
    "# |> pivot(rowKey:[\"_time\"], columnKey: [\"_field\"], valueColumn: \"_value\")\\\n",
    "# |> filter(fn:(r) => r.policy_id == 4)'\n",
    "# result_minmin = query_api.query_data_frame(org=org, query=query_minmin)\n",
    "# \n",
    "# df_minmin = result_minmin[['timestamp','host_id','cpuUtilisation','guestsRunning','powerUsage','powerTotal']]\n",
    "# print(df_minmin)"
   ],
   "metadata": {
    "collapsed": false,
    "ExecuteTime": {
     "end_time": "2023-09-25T23:09:56.362067932Z",
     "start_time": "2023-09-25T23:09:56.319061576Z"
    }
   },
   "id": "aff1024d1a8e3d54"
  },
  {
   "cell_type": "code",
   "execution_count": 21,
   "outputs": [
    {
     "name": "stdout",
     "output_type": "stream",
     "text": [
      "       timestamp  serverId    powerTotal\n",
      "19          30.0        19  2.039985e+05\n",
      "39          60.0        19  4.139985e+05\n",
      "59          90.0        19  6.239985e+05\n",
      "79         120.0        19  8.339985e+05\n",
      "99         150.0        19  1.043999e+06\n",
      "...          ...       ...           ...\n",
      "83897   125850.0        19  5.108931e+08\n",
      "83917   125880.0        19  5.110131e+08\n",
      "83937   125910.0        19  5.111331e+08\n",
      "83957   125940.0        19  5.112531e+08\n",
      "83977   125970.0        19  5.113731e+08\n",
      "\n",
      "[4198 rows x 3 columns]\n"
     ]
    },
    {
     "name": "stderr",
     "output_type": "stream",
     "text": [
      "/tmp/ipykernel_26725/316847650.py:2: SettingWithCopyWarning: \n",
      "A value is trying to be set on a copy of a slice from a DataFrame.\n",
      "Try using .loc[row_indexer,col_indexer] = value instead\n",
      "\n",
      "See the caveats in the documentation: https://pandas.pydata.org/pandas-docs/stable/user_guide/indexing.html#returning-a-view-versus-a-copy\n",
      "  df_total_power_standard['serverId'] = df_total_power_standard['serverId']. astype(int)\n"
     ]
    }
   ],
   "source": [
    "df_total_power_standard = df_standard[['timestamp','serverId','powerTotal']]\n",
    "df_total_power_standard['serverId'] = df_total_power_standard['serverId']. astype(int)\n",
    "df_total_power_standard = df_total_power_standard.loc[df_total_power_standard['serverId'] == 19]\n",
    "print(df_total_power_standard)"
   ],
   "metadata": {
    "collapsed": false,
    "ExecuteTime": {
     "end_time": "2023-09-25T23:09:57.774651569Z",
     "start_time": "2023-09-25T23:09:57.741824590Z"
    }
   },
   "id": "48c4d8df7df1c9d6"
  },
  {
   "cell_type": "code",
   "execution_count": 22,
   "outputs": [
    {
     "name": "stdout",
     "output_type": "stream",
     "text": [
      "       timestamp  serverId    powerTotal\n",
      "19          30.0        19  2.039985e+05\n",
      "39          60.0        19  4.139985e+05\n",
      "59          90.0        19  6.239985e+05\n",
      "79         120.0        19  8.339985e+05\n",
      "99         150.0        19  1.043999e+06\n",
      "...          ...       ...           ...\n",
      "83897   125850.0        19  5.113008e+08\n",
      "83917   125880.0        19  5.114208e+08\n",
      "83937   125910.0        19  5.115408e+08\n",
      "83957   125940.0        19  5.116608e+08\n",
      "83977   125970.0        19  5.117808e+08\n",
      "\n",
      "[4199 rows x 3 columns]\n"
     ]
    },
    {
     "name": "stderr",
     "output_type": "stream",
     "text": [
      "/tmp/ipykernel_26725/2887248667.py:2: SettingWithCopyWarning: \n",
      "A value is trying to be set on a copy of a slice from a DataFrame.\n",
      "Try using .loc[row_indexer,col_indexer] = value instead\n",
      "\n",
      "See the caveats in the documentation: https://pandas.pydata.org/pandas-docs/stable/user_guide/indexing.html#returning-a-view-versus-a-copy\n",
      "  df_total_power_heft['serverId'] = df_total_power_heft['serverId']. astype(int)\n"
     ]
    }
   ],
   "source": [
    "df_total_power_heft = df_heft[['timestamp','serverId','powerTotal']]\n",
    "df_total_power_heft['serverId'] = df_total_power_heft['serverId']. astype(int)\n",
    "df_total_power_heft = df_total_power_heft.loc[df_total_power_heft['serverId'] == 19]\n",
    "print(df_total_power_heft)"
   ],
   "metadata": {
    "collapsed": false,
    "ExecuteTime": {
     "end_time": "2023-09-25T23:09:59.029678600Z",
     "start_time": "2023-09-25T23:09:58.964273883Z"
    }
   },
   "id": "9d5184d679b6660f"
  },
  {
   "cell_type": "code",
   "execution_count": 23,
   "outputs": [
    {
     "name": "stdout",
     "output_type": "stream",
     "text": [
      "       timestamp  serverId    powerTotal\n",
      "19          30.0        19  2.039985e+05\n",
      "39          60.0        19  4.139985e+05\n",
      "59          90.0        19  6.239985e+05\n",
      "79         120.0        19  8.339985e+05\n",
      "99         150.0        19  1.043999e+06\n",
      "...          ...       ...           ...\n",
      "83897   125850.0        19  5.109945e+08\n",
      "83917   125880.0        19  5.111145e+08\n",
      "83937   125910.0        19  5.112345e+08\n",
      "83957   125940.0        19  5.113545e+08\n",
      "83977   125970.0        19  5.114745e+08\n",
      "\n",
      "[4199 rows x 3 columns]\n"
     ]
    },
    {
     "name": "stderr",
     "output_type": "stream",
     "text": [
      "/tmp/ipykernel_26725/1944107618.py:2: SettingWithCopyWarning: \n",
      "A value is trying to be set on a copy of a slice from a DataFrame.\n",
      "Try using .loc[row_indexer,col_indexer] = value instead\n",
      "\n",
      "See the caveats in the documentation: https://pandas.pydata.org/pandas-docs/stable/user_guide/indexing.html#returning-a-view-versus-a-copy\n",
      "  df_total_power_random['serverId'] = df_total_power_random['serverId']. astype(int)\n"
     ]
    }
   ],
   "source": [
    "df_total_power_random = df_random[['timestamp','serverId','powerTotal']]\n",
    "df_total_power_random['serverId'] = df_total_power_random['serverId']. astype(int)\n",
    "df_total_power_random = df_total_power_random.loc[df_total_power_random['serverId'] == 19]\n",
    "print(df_total_power_random)"
   ],
   "metadata": {
    "collapsed": false,
    "ExecuteTime": {
     "end_time": "2023-09-25T23:09:59.924011129Z",
     "start_time": "2023-09-25T23:09:59.908738813Z"
    }
   },
   "id": "5eb714008442e4ae"
  },
  {
   "cell_type": "code",
   "execution_count": 24,
   "outputs": [],
   "source": [
    "# df_total_power_minmin = df_minmin[['timestamp','host_id','powerTotal']]\n",
    "# df_total_power_minmin['host_id'] = df_total_power_minmin['host_id']. astype(int)\n",
    "# df_total_power_minmin = df_total_power_minmin.loc[df_total_power_minmin['host_id'] == 33]\n",
    "# print(df_total_power_minmin)"
   ],
   "metadata": {
    "collapsed": false,
    "ExecuteTime": {
     "end_time": "2023-09-25T23:10:05.290017398Z",
     "start_time": "2023-09-25T23:10:05.268483168Z"
    }
   },
   "id": "95416f964813cace"
  },
  {
   "cell_type": "code",
   "execution_count": 25,
   "outputs": [
    {
     "name": "stderr",
     "output_type": "stream",
     "text": [
      "/tmp/ipykernel_26725/2854987187.py:32: UserWarning: Matplotlib is currently using module://matplotlib_inline.backend_inline, which is a non-GUI backend, so cannot show the figure.\n",
      "  fig.show()\n"
     ]
    },
    {
     "data": {
      "text/plain": "<Figure size 1050x750 with 1 Axes>",
      "image/png": "[encoded data removed]"
     },
     "metadata": {},
     "output_type": "display_data"
    }
   ],
   "source": [
    "df1 = df_total_power_standard.drop(['serverId'], axis=1)\n",
    "df2 = df_total_power_heft.drop(['serverId'], axis=1)\n",
    "df3 = df_total_power_random.drop(['serverId'], axis=1)\n",
    "# df4 = df_total_power_minmin.drop(['host_id'], axis=1)\n",
    "# print(df1)\n",
    "# Create a list of all the dataframes\n",
    "dfs = [df1, df2, df3]\n",
    "\n",
    "# Create a new dataframe with all the timestamps from all the dataframes\n",
    "df_timestamps = pd.DataFrame({'timestamp': sorted(set(sum([df['timestamp'].tolist() for df in dfs], [])))})\n",
    "\n",
    "# Merge the new dataframe with all the dataframes, filling in missing values with 0\n",
    "df_merged = df_timestamps.merge(df1, how='left', on='timestamp', suffixes=('', '_x')).merge(df2, how='left', on='timestamp', suffixes=('', '_y')).merge(df3, how='left', on='timestamp', suffixes=('', '_z')).fillna(0)\n",
    "\n",
    "# Convert watts to kiloWatt-hours\n",
    "df_merged[\"powerTotal\"] = df_merged[\"powerTotal\"]/(1000*3600)\n",
    "df_merged[\"powerTotal_y\"] = df_merged[\"powerTotal_y\"]/(1000*3600)\n",
    "df_merged[\"powerTotal_z\"] = df_merged[\"powerTotal_z\"]/(1000*3600)\n",
    "# df_merged[\"powerTotal_w\"] = df_merged[\"powerTotal_w\"]/1000000\n",
    "df_merged.rename(columns={'powerTotal': 'FIFO-Algorithm', 'powerTotal_y': 'HEFT-Algorithm', 'powerTotal_z': 'Random-Algorithm'}, inplace=True) #, 'powerTotal_w': 'MinMin-Algorithm'\n",
    "df_merged['timestamp'] = df_merged['timestamp'].astype(int)\n",
    "\n",
    "# print(df_merged)\n",
    "# Create a bar plot of the merged dataframe, grouped by timestamp\n",
    "fig, ax = plt.subplots()\n",
    "df_merged.plot.bar(x='timestamp', ax=ax, title='Power consumption with various scheduling algorithms for pegasus trace\\n with 60% cluster-size configuration', width=.75)\n",
    "plt.gca().xaxis.set_tick_params(rotation=45)\n",
    "plt.ylabel('Total power consumption (in kWh: kiloWatt-Hours)')\n",
    "plt.xlabel('Timestamp (in s: seconds)')\n",
    "fig.set_size_inches(10.5, 7.5)\n",
    "fig.savefig('multiple_hosts_energy_plotted_trace_pegasus_60.png', bbox_inches='tight')\n",
    "fig.show()"
   ],
   "metadata": {
    "collapsed": false,
    "ExecuteTime": {
     "end_time": "2023-09-25T23:11:23.064666452Z",
     "start_time": "2023-09-25T23:10:06.349096100Z"
    }
   },
   "id": "918114e71ff815b6"
  },
  {
   "cell_type": "code",
   "execution_count": 26,
   "outputs": [
    {
     "name": "stdout",
     "output_type": "stream",
     "text": [
      "      timestamp  FIFO-Algorithm  HEFT-Algorithm  Random-Algorithm\n",
      "0            30        0.056666        0.056666          0.056666\n",
      "1            60        0.115000        0.115000          0.115000\n",
      "2            90        0.173333        0.173333          0.173333\n",
      "3           120        0.231666        0.231666          0.231666\n",
      "4           150        0.290000        0.290000          0.290000\n",
      "...         ...             ...             ...               ...\n",
      "4194     125850      141.914757      142.028010        141.942903\n",
      "4195     125880      141.948091      142.061343        141.976237\n",
      "4196     125910      141.981424      142.094677        142.009570\n",
      "4197     125940      142.014758      142.128010        142.042904\n",
      "4198     125970      142.048091      142.161344        142.076237\n",
      "\n",
      "[4199 rows x 4 columns]\n"
     ]
    }
   ],
   "source": [
    "# df_merged[\"powerTotal\"] = df_merged[\"powerTotal\"]/(1000*3600)\n",
    "# df_merged[\"powerTotal_y\"] = df_merged[\"powerTotal_y\"]/(1000*3600)\n",
    "# df_merged[\"powerTotal_z\"] = df_merged[\"powerTotal_z\"]/(1000*3600)\n",
    "print(df_merged)"
   ],
   "metadata": {
    "collapsed": false,
    "ExecuteTime": {
     "end_time": "2023-09-25T23:11:36.298773550Z",
     "start_time": "2023-09-25T23:11:36.257783974Z"
    }
   },
   "id": "dd9256b6af1362d1"
  },
  {
   "cell_type": "code",
   "execution_count": 27,
   "outputs": [
    {
     "name": "stdout",
     "output_type": "stream",
     "text": [
      "Total energy consumption in FIFO algorithm for executing given trace - 142.0480910529712 kWh\n",
      "Total energy consumption in HEFT algorithm for executing given trace - 142.1613436373055 kWh\n",
      "Total energy consumption in Random algorithm for executing given trace - 142.07623717667266 kWh\n"
     ]
    }
   ],
   "source": [
    "# Reverse the column and find the first non-zero value for getting total power\n",
    "last_non_zero_value_standard = df_merged[df_merged['FIFO-Algorithm'] != 0]['FIFO-Algorithm'].iloc[-1]\n",
    "print(f\"Total energy consumption in FIFO algorithm for executing given trace - {last_non_zero_value_standard} kWh\")\n",
    "last_non_zero_value_heft = df_merged[df_merged['HEFT-Algorithm'] != 0]['HEFT-Algorithm'].iloc[-1]\n",
    "print(f\"Total energy consumption in HEFT algorithm for executing given trace - {last_non_zero_value_heft} kWh\")\n",
    "last_non_zero_value_random = df_merged[df_merged['Random-Algorithm'] != 0]['Random-Algorithm'].iloc[-1]\n",
    "print(f\"Total energy consumption in Random algorithm for executing given trace - {last_non_zero_value_random} kWh\")"
   ],
   "metadata": {
    "collapsed": false,
    "ExecuteTime": {
     "end_time": "2023-09-25T23:11:37.069933355Z",
     "start_time": "2023-09-25T23:11:37.051039075Z"
    }
   },
   "id": "cf05cddd56d570cd"
  },
  {
   "cell_type": "code",
   "execution_count": 28,
   "outputs": [
    {
     "name": "stdout",
     "output_type": "stream",
     "text": [
      "[142.0480910529712, 142.1613436373055, 142.07623717667266]\n"
     ]
    }
   ],
   "source": [
    "total_energy_for_all_scheduling_algos = [last_non_zero_value_standard, last_non_zero_value_heft, last_non_zero_value_random]\n",
    "print(total_energy_for_all_scheduling_algos)"
   ],
   "metadata": {
    "collapsed": false,
    "ExecuteTime": {
     "end_time": "2023-09-25T23:11:38.049687800Z",
     "start_time": "2023-09-25T23:11:37.956801913Z"
    }
   },
   "id": "e178ed8f355873b7"
  },
  {
   "cell_type": "code",
   "execution_count": 29,
   "outputs": [
    {
     "name": "stdout",
     "output_type": "stream",
     "text": [
      "Resource scheduling algorithm FIFO is the most optimal amongst the three scheduling algorithms analysed above!\n",
      "----------------------------------------------------------------------------------------------------------------------------------------------\n",
      "Scheduling algorithm HEFT records 0.07973% worse energy-efficiency than the scheduling algorithm FIFO for pegasus workload trace and 60% cluster-size configuration.\n",
      "Scheduling algorithm Random records 0.01981% worse energy-efficiency than the scheduling algorithm FIFO for pegasus workload trace and 60% cluster-size configuration.\n"
     ]
    }
   ],
   "source": [
    "min_value = min(total_energy_for_all_scheduling_algos)\n",
    "dict = {0:\"FIFO\", 1:\"HEFT\", 2:\"Random\"}\n",
    "min_index = total_energy_for_all_scheduling_algos.index(min_value)\n",
    "\n",
    "# Calculate the percentage difference for each element compared to the minimum\n",
    "percentages = []\n",
    "for i, value in enumerate(total_energy_for_all_scheduling_algos):\n",
    "    if i == min_index:\n",
    "        continue  # Skip comparing the minimum value to itself\n",
    "    percentage_difference = ((value - min_value) / min_value) * 100\n",
    "    percentages.append((i, percentage_difference))\n",
    "\n",
    "# Print the results\n",
    "print(f\"Resource scheduling algorithm {dict[min_index]} is the most optimal amongst the three scheduling algorithms analysed above!\")\n",
    "print(\"----------------------------------------------------------------------------------------------------------------------------------------------\")\n",
    "for i, percentage in percentages:\n",
    "    print(f\"Scheduling algorithm {dict[i]} records {abs(percentage):.5f}% {'better' if percentage < 0 else 'worse'} energy-efficiency than the scheduling algorithm {dict[min_index]} for pegasus workload trace and 60% cluster-size configuration.\")\n"
   ],
   "metadata": {
    "collapsed": false,
    "ExecuteTime": {
     "end_time": "2023-09-25T23:11:39.072900145Z",
     "start_time": "2023-09-25T23:11:38.992323721Z"
    }
   },
   "id": "1bbaebe2ffcfd113"
  },
  {
   "cell_type": "code",
   "execution_count": null,
   "outputs": [],
   "source": [],
   "metadata": {
    "collapsed": false,
    "ExecuteTime": {
     "start_time": "2023-09-25T23:07:42.531671551Z"
    }
   },
   "id": "709b58304c7c1f92"
  }
 ],
 "metadata": {
  "kernelspec": {
   "display_name": "Python 3",
   "language": "python",
   "name": "python3"
  },
  "language_info": {
   "codemirror_mode": {
    "name": "ipython",
    "version": 2
   },
   "file_extension": ".py",
   "mimetype": "text/x-python",
   "name": "python",
   "nbconvert_exporter": "python",
   "pygments_lexer": "ipython2",
   "version": "2.7.6"
  }
 },
 "nbformat": 4,
 "nbformat_minor": 5
}
