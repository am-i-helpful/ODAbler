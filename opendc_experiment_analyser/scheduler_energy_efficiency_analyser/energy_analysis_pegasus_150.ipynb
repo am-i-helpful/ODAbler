{
 "cells": [
  {
   "cell_type": "code",
   "execution_count": 5,
   "id": "initial_id",
   "metadata": {
    "collapsed": true,
    "ExecuteTime": {
     "end_time": "2023-09-27T13:41:24.353888740Z",
     "start_time": "2023-09-27T13:41:24.219585760Z"
    }
   },
   "outputs": [],
   "source": [
    "# !pip install influxdb-client"
   ]
  },
  {
   "cell_type": "code",
   "execution_count": 6,
   "outputs": [],
   "source": [
    "import influxdb_client\n",
    "import pandas as pd\n",
    "import matplotlib.pyplot as plt\n",
    "import json\n",
    "from pathlib import Path"
   ],
   "metadata": {
    "collapsed": false,
    "ExecuteTime": {
     "end_time": "2023-09-27T13:41:24.358053136Z",
     "start_time": "2023-09-27T13:41:24.273343086Z"
    }
   },
   "id": "7061e3b22c4a6107"
  },
  {
   "cell_type": "code",
   "execution_count": 7,
   "outputs": [
    {
     "name": "stdout",
     "output_type": "stream",
     "text": [
      "{'bucket': 'FinalExperiment', 'org': '@Large-Research', 'token': 'd5KtoS1-I2iMVHiRQsVnXKV7MW7QR70Z1mqRdvqs08v-jKxEv8Q_URRHr2tl4AUwwqWHDeZNUKEtSTLjiCf-vg==', 'url': 'http://localhost:8086', 'location': 'Amsterdam'}\n"
     ]
    }
   ],
   "source": [
    "config_file = \"/windows/os/Thesis-Project/ODAbler/key-configurations/influxdb-config.json\"\n",
    "p = Path(config_file)\n",
    "with p.open('r') as f:\n",
    "    content = json.load(f)\n",
    "    print(content)\n",
    "url = content['url']\n",
    "token = content['token']\n",
    "org = content['org']\n",
    "client = influxdb_client.InfluxDBClient(\n",
    "   url=url,\n",
    "   token=token,\n",
    "   org=org,\n",
    "    timeout=30_000\n",
    ")\n",
    "query_api = client.query_api()"
   ],
   "metadata": {
    "collapsed": false,
    "ExecuteTime": {
     "end_time": "2023-09-27T13:41:24.427019546Z",
     "start_time": "2023-09-27T13:41:24.328244862Z"
    }
   },
   "id": "327e81c9028d2a68"
  },
  {
   "cell_type": "code",
   "execution_count": 8,
   "outputs": [
    {
     "name": "stdout",
     "output_type": "stream",
     "text": [
      "        timestamp  serverId  cpuUtilisation  guestsRunning  powerUsage   \n",
      "0            30.0       0.0             1.0           24.0       350.0  \\\n",
      "1            30.0       1.0             1.0           24.0       350.0   \n",
      "2            30.0       2.0             1.0           24.0       350.0   \n",
      "3            30.0       3.0             1.0           24.0       350.0   \n",
      "4            30.0       4.0             1.0           24.0       350.0   \n",
      "...           ...       ...             ...            ...         ...   \n",
      "214143   125970.0      46.0             0.0            0.0       200.0   \n",
      "214144   125970.0      47.0             0.0            0.0       200.0   \n",
      "214145   125970.0      48.0             0.0            0.0       200.0   \n",
      "214146   125970.0      49.0             0.0            0.0       200.0   \n",
      "214147   125970.0      50.0             0.0            0.0       200.0   \n",
      "\n",
      "          powerTotal  \n",
      "0       1.019993e+04  \n",
      "1       2.039985e+04  \n",
      "2       3.059978e+04  \n",
      "3       4.079971e+04  \n",
      "4       5.099963e+04  \n",
      "...              ...  \n",
      "214143  1.292614e+09  \n",
      "214144  1.292620e+09  \n",
      "214145  1.292626e+09  \n",
      "214146  1.292632e+09  \n",
      "214147  1.292638e+09  \n",
      "\n",
      "[214148 rows x 6 columns]\n"
     ]
    }
   ],
   "source": [
    "query_standard = 'from(bucket:\"FinalExperiment\")\\\n",
    "|> range(start: 2023-09-25T22:00:00Z, stop: 2023-09-25T22:50:00Z)\\\n",
    "|> filter(fn: (r) => r._measurement == \"OpenDC_Energy_Experiment\" and r._field =~ /policyId|guestsRunning|cpuUtilisation|timestamp|powerUsage|powerTotal|serverId/)\\\n",
    "|> pivot(rowKey:[\"_time\"], columnKey: [\"_field\"], valueColumn: \"_value\")\\\n",
    "|> filter(fn:(r) => r.policyId == 154)'\n",
    "result_standard = query_api.query_data_frame(org=org, query=query_standard)\n",
    "\n",
    "#display(result_standard.head(10))\n",
    "pd.set_option('display.max_columns', None)\n",
    "df_standard = result_standard[['timestamp','serverId','cpuUtilisation','guestsRunning','powerUsage','powerTotal']]\n",
    "print(df_standard)"
   ],
   "metadata": {
    "collapsed": false,
    "ExecuteTime": {
     "end_time": "2023-09-27T13:42:34.451301732Z",
     "start_time": "2023-09-27T13:41:24.393808883Z"
    }
   },
   "id": "611c3963e3ffc6dc"
  },
  {
   "cell_type": "code",
   "execution_count": 9,
   "outputs": [
    {
     "name": "stdout",
     "output_type": "stream",
     "text": [
      "        timestamp  serverId  cpuUtilisation  guestsRunning  powerUsage   \n",
      "0            30.0       0.0             1.0           24.0       350.0  \\\n",
      "1            30.0       1.0             1.0           24.0       350.0   \n",
      "2            30.0       2.0             1.0           24.0       350.0   \n",
      "3            30.0       3.0             1.0           24.0       350.0   \n",
      "4            30.0       4.0             1.0           24.0       350.0   \n",
      "...           ...       ...             ...            ...         ...   \n",
      "214140   125970.0      46.0             0.0            0.0       200.0   \n",
      "214141   125970.0      47.0             0.0            0.0       200.0   \n",
      "214142   125970.0      48.0             0.0            0.0       200.0   \n",
      "214143   125970.0      49.0             0.0            0.0       200.0   \n",
      "214144   125970.0      50.0             0.0            0.0       200.0   \n",
      "\n",
      "          powerTotal  \n",
      "0       1.019993e+04  \n",
      "1       2.039985e+04  \n",
      "2       3.059978e+04  \n",
      "3       4.079971e+04  \n",
      "4       5.099963e+04  \n",
      "...              ...  \n",
      "214140  1.292814e+09  \n",
      "214141  1.292820e+09  \n",
      "214142  1.292826e+09  \n",
      "214143  1.292832e+09  \n",
      "214144  1.292838e+09  \n",
      "\n",
      "[214145 rows x 6 columns]\n"
     ]
    }
   ],
   "source": [
    "query_heft = 'from(bucket:\"FinalExperiment\")\\\n",
    "|> range(start: 2023-09-25T22:00:00Z, stop: 2023-09-25T22:50:00Z)\\\n",
    "|> filter(fn: (r) => r._measurement == \"OpenDC_Energy_Experiment\" and r._field =~ /policyId|guestsRunning|cpuUtilisation|timestamp|powerUsage|powerTotal|serverId/)\\\n",
    "|> pivot(rowKey:[\"_time\"], columnKey: [\"_field\"], valueColumn: \"_value\")\\\n",
    "|> filter(fn:(r) => r.policyId == 155)'\n",
    "result_heft = query_api.query_data_frame(org=org, query=query_heft)\n",
    "\n",
    "df_heft = result_heft[['timestamp','serverId','cpuUtilisation','guestsRunning','powerUsage','powerTotal']]\n",
    "print(df_heft)"
   ],
   "metadata": {
    "collapsed": false,
    "ExecuteTime": {
     "end_time": "2023-09-27T13:43:42.945587072Z",
     "start_time": "2023-09-27T13:42:34.454347104Z"
    }
   },
   "id": "3b46a2557b60c693"
  },
  {
   "cell_type": "code",
   "execution_count": 10,
   "outputs": [
    {
     "name": "stdout",
     "output_type": "stream",
     "text": [
      "        timestamp  serverId  cpuUtilisation  guestsRunning  powerUsage   \n",
      "0            30.0       0.0             1.0           24.0       350.0  \\\n",
      "1            30.0       1.0             1.0           24.0       350.0   \n",
      "2            30.0       2.0             1.0           24.0       350.0   \n",
      "3            30.0       3.0             1.0           24.0       350.0   \n",
      "4            30.0       4.0             1.0           24.0       350.0   \n",
      "...           ...       ...             ...            ...         ...   \n",
      "211926   124680.0      25.0             0.0            0.0       200.0   \n",
      "211927   124680.0      26.0             0.0            0.0       200.0   \n",
      "211928   124680.0      27.0             0.0            0.0       200.0   \n",
      "211929   124680.0      28.0             0.0            0.0       200.0   \n",
      "211930   124680.0      29.0             0.0            0.0       200.0   \n",
      "\n",
      "          powerTotal  \n",
      "0       1.019993e+04  \n",
      "1       2.039985e+04  \n",
      "2       3.059978e+04  \n",
      "3       4.079971e+04  \n",
      "4       5.099963e+04  \n",
      "...              ...  \n",
      "211926  1.279086e+09  \n",
      "211927  1.279092e+09  \n",
      "211928  1.279098e+09  \n",
      "211929  1.279104e+09  \n",
      "211930  1.279110e+09  \n",
      "\n",
      "[211931 rows x 6 columns]\n"
     ]
    }
   ],
   "source": [
    "query_random = 'from(bucket:\"FinalExperiment\")\\\n",
    "|> range(start: 2023-09-25T22:00:00Z, stop: 2023-09-25T22:50:00Z)\\\n",
    "|> filter(fn: (r) => r._measurement == \"OpenDC_Energy_Experiment\" and r._field =~ /policyId|guestsRunning|cpuUtilisation|timestamp|powerUsage|powerTotal|serverId/)\\\n",
    "|> pivot(rowKey:[\"_time\"], columnKey: [\"_field\"], valueColumn: \"_value\")\\\n",
    "|> filter(fn:(r) => r.policyId == 156)'\n",
    "result_random = query_api.query_data_frame(org=org, query=query_random)\n",
    "\n",
    "df_random = result_random[['timestamp','serverId','cpuUtilisation','guestsRunning','powerUsage','powerTotal']]\n",
    "print(df_random)"
   ],
   "metadata": {
    "collapsed": false,
    "ExecuteTime": {
     "end_time": "2023-09-27T13:44:51.352940068Z",
     "start_time": "2023-09-27T13:43:42.918399761Z"
    }
   },
   "id": "89e5af9130005a08"
  },
  {
   "cell_type": "code",
   "execution_count": 11,
   "outputs": [],
   "source": [
    "# query_minmin = 'from(bucket:\"Experiment\")\\\n",
    "# |> range(start: 2023-09-18T22:20:00Z, stop: 2023-09-18T22:34:00Z)\\\n",
    "# |> filter(fn: (r) => r._measurement == \"OpenDC_Energy_Experiment\" and r._field =~ /policy_id|guestsRunning|cpuUtilisation|timestamp|powerUsage|powerTotal|host_id/)\\\n",
    "# |> pivot(rowKey:[\"_time\"], columnKey: [\"_field\"], valueColumn: \"_value\")\\\n",
    "# |> filter(fn:(r) => r.policy_id == 4)'\n",
    "# result_minmin = query_api.query_data_frame(org=org, query=query_minmin)\n",
    "# \n",
    "# df_minmin = result_minmin[['timestamp','host_id','cpuUtilisation','guestsRunning','powerUsage','powerTotal']]\n",
    "# print(df_minmin)"
   ],
   "metadata": {
    "collapsed": false,
    "ExecuteTime": {
     "end_time": "2023-09-27T13:44:51.367521476Z",
     "start_time": "2023-09-27T13:44:51.336382728Z"
    }
   },
   "id": "aff1024d1a8e3d54"
  },
  {
   "cell_type": "code",
   "execution_count": 12,
   "outputs": [
    {
     "name": "stdout",
     "output_type": "stream",
     "text": [
      "        timestamp  serverId    powerTotal\n",
      "50           30.0        50  5.201963e+05\n",
      "101          60.0        50  1.055696e+06\n",
      "152          90.0        50  1.591196e+06\n",
      "203         120.0        50  2.126696e+06\n",
      "254         150.0        50  2.662196e+06\n",
      "...           ...       ...           ...\n",
      "213943   125850.0        50  1.291414e+09\n",
      "213994   125880.0        50  1.291720e+09\n",
      "214045   125910.0        50  1.292026e+09\n",
      "214096   125940.0        50  1.292332e+09\n",
      "214147   125970.0        50  1.292638e+09\n",
      "\n",
      "[4199 rows x 3 columns]\n"
     ]
    },
    {
     "name": "stderr",
     "output_type": "stream",
     "text": [
      "/tmp/ipykernel_47874/3045806056.py:2: SettingWithCopyWarning: \n",
      "A value is trying to be set on a copy of a slice from a DataFrame.\n",
      "Try using .loc[row_indexer,col_indexer] = value instead\n",
      "\n",
      "See the caveats in the documentation: https://pandas.pydata.org/pandas-docs/stable/user_guide/indexing.html#returning-a-view-versus-a-copy\n",
      "  df_total_power_standard['serverId'] = df_total_power_standard['serverId']. astype(int)\n"
     ]
    }
   ],
   "source": [
    "df_total_power_standard = df_standard[['timestamp','serverId','powerTotal']]\n",
    "df_total_power_standard['serverId'] = df_total_power_standard['serverId']. astype(int)\n",
    "df_total_power_standard = df_total_power_standard.loc[df_total_power_standard['serverId'] == 50]\n",
    "print(df_total_power_standard)"
   ],
   "metadata": {
    "collapsed": false,
    "ExecuteTime": {
     "end_time": "2023-09-27T13:44:51.420845260Z",
     "start_time": "2023-09-27T13:44:51.336536290Z"
    }
   },
   "id": "48c4d8df7df1c9d6"
  },
  {
   "cell_type": "code",
   "execution_count": 13,
   "outputs": [
    {
     "name": "stdout",
     "output_type": "stream",
     "text": [
      "        timestamp  serverId    powerTotal\n",
      "50           30.0        50  5.201963e+05\n",
      "101          60.0        50  1.055696e+06\n",
      "152          90.0        50  1.591196e+06\n",
      "203         120.0        50  2.126696e+06\n",
      "254         150.0        50  2.662196e+06\n",
      "...           ...       ...           ...\n",
      "213940   125850.0        50  1.291614e+09\n",
      "213991   125880.0        50  1.291920e+09\n",
      "214042   125910.0        50  1.292226e+09\n",
      "214093   125940.0        50  1.292532e+09\n",
      "214144   125970.0        50  1.292838e+09\n",
      "\n",
      "[4199 rows x 3 columns]\n"
     ]
    },
    {
     "name": "stderr",
     "output_type": "stream",
     "text": [
      "/tmp/ipykernel_47874/4099335833.py:2: SettingWithCopyWarning: \n",
      "A value is trying to be set on a copy of a slice from a DataFrame.\n",
      "Try using .loc[row_indexer,col_indexer] = value instead\n",
      "\n",
      "See the caveats in the documentation: https://pandas.pydata.org/pandas-docs/stable/user_guide/indexing.html#returning-a-view-versus-a-copy\n",
      "  df_total_power_heft['serverId'] = df_total_power_heft['serverId']. astype(int)\n"
     ]
    }
   ],
   "source": [
    "df_total_power_heft = df_heft[['timestamp','serverId','powerTotal']]\n",
    "df_total_power_heft['serverId'] = df_total_power_heft['serverId']. astype(int)\n",
    "df_total_power_heft = df_total_power_heft.loc[df_total_power_heft['serverId'] == 50]\n",
    "print(df_total_power_heft)"
   ],
   "metadata": {
    "collapsed": false,
    "ExecuteTime": {
     "end_time": "2023-09-27T13:44:51.498903613Z",
     "start_time": "2023-09-27T13:44:51.420483401Z"
    }
   },
   "id": "9d5184d679b6660f"
  },
  {
   "cell_type": "code",
   "execution_count": 14,
   "outputs": [
    {
     "name": "stdout",
     "output_type": "stream",
     "text": [
      "        timestamp  serverId    powerTotal\n",
      "50           30.0        50  5.201963e+05\n",
      "101          60.0        50  1.055696e+06\n",
      "152          90.0        50  1.591196e+06\n",
      "203         120.0        50  2.126696e+06\n",
      "254         150.0        50  2.662196e+06\n",
      "...           ...       ...           ...\n",
      "211696   124530.0        50  1.277706e+09\n",
      "211747   124560.0        50  1.278012e+09\n",
      "211798   124590.0        50  1.278318e+09\n",
      "211849   124620.0        50  1.278624e+09\n",
      "211900   124650.0        50  1.278930e+09\n",
      "\n",
      "[4155 rows x 3 columns]\n"
     ]
    },
    {
     "name": "stderr",
     "output_type": "stream",
     "text": [
      "/tmp/ipykernel_47874/713471063.py:2: SettingWithCopyWarning: \n",
      "A value is trying to be set on a copy of a slice from a DataFrame.\n",
      "Try using .loc[row_indexer,col_indexer] = value instead\n",
      "\n",
      "See the caveats in the documentation: https://pandas.pydata.org/pandas-docs/stable/user_guide/indexing.html#returning-a-view-versus-a-copy\n",
      "  df_total_power_random['serverId'] = df_total_power_random['serverId']. astype(int)\n"
     ]
    }
   ],
   "source": [
    "df_total_power_random = df_random[['timestamp','serverId','powerTotal']]\n",
    "df_total_power_random['serverId'] = df_total_power_random['serverId']. astype(int)\n",
    "df_total_power_random = df_total_power_random.loc[df_total_power_random['serverId'] == 50]\n",
    "print(df_total_power_random)"
   ],
   "metadata": {
    "collapsed": false,
    "ExecuteTime": {
     "end_time": "2023-09-27T13:44:51.583568415Z",
     "start_time": "2023-09-27T13:44:51.485739741Z"
    }
   },
   "id": "5eb714008442e4ae"
  },
  {
   "cell_type": "code",
   "execution_count": 15,
   "outputs": [],
   "source": [
    "# df_total_power_minmin = df_minmin[['timestamp','host_id','powerTotal']]\n",
    "# df_total_power_minmin['host_id'] = df_total_power_minmin['host_id']. astype(int)\n",
    "# df_total_power_minmin = df_total_power_minmin.loc[df_total_power_minmin['host_id'] == 33]\n",
    "# print(df_total_power_minmin)"
   ],
   "metadata": {
    "collapsed": false,
    "ExecuteTime": {
     "end_time": "2023-09-27T13:44:51.635515248Z",
     "start_time": "2023-09-27T13:44:51.544398934Z"
    }
   },
   "id": "95416f964813cace"
  },
  {
   "cell_type": "code",
   "execution_count": 22,
   "outputs": [
    {
     "data": {
      "text/plain": "<Figure size 1300x1000 with 1 Axes>",
      "image/png": "[encoded data removed]"
     },
     "metadata": {},
     "output_type": "display_data"
    }
   ],
   "source": [
    "df1 = df_total_power_standard.drop(['serverId'], axis=1)\n",
    "df2 = df_total_power_heft.drop(['serverId'], axis=1)\n",
    "df3 = df_total_power_random.drop(['serverId'], axis=1)\n",
    "# df4 = df_total_power_minmin.drop(['serverId'], axis=1)\n",
    "# print(df1)\n",
    "# Create a list of all the dataframes\n",
    "dfs = [df1, df2, df3]\n",
    "\n",
    "# Create a new dataframe with all the timestamps from all the dataframes\n",
    "df_timestamps = pd.DataFrame({'timestamp': sorted(set(sum([df['timestamp'].tolist() for df in dfs], [])))})\n",
    "\n",
    "# Merge the new dataframe with all the dataframes, filling in missing values with 0\n",
    "df_merged = df_timestamps.merge(df1, how='left', on='timestamp', suffixes=('', '_x')).merge(df2, how='left', on='timestamp', suffixes=('', '_y')).merge(df3, how='left', on='timestamp', suffixes=('', '_z')).fillna(0)\n",
    "\n",
    "# Convert watts to kiloWatt-hours\n",
    "df_merged[\"powerTotal\"] = df_merged[\"powerTotal\"]/(1000*3600)\n",
    "df_merged[\"powerTotal_y\"] = df_merged[\"powerTotal_y\"]/(1000*3600)\n",
    "df_merged[\"powerTotal_z\"] = df_merged[\"powerTotal_z\"]/(1000*3600)\n",
    "# df_merged[\"powerTotal_w\"] = df_merged[\"powerTotal_w\"]/1000000\n",
    "df_merged.rename(columns={'powerTotal': 'FIFO-Algorithm', 'powerTotal_y': 'HEFT-Algorithm', 'powerTotal_z': 'Random-Algorithm'}, inplace=True) #, 'powerTotal_w': 'MinMin-Algorithm'\n",
    "df_merged['timestamp'] = df_merged['timestamp'].astype(int)\n",
    "\n",
    "# Create a custom x-axis with every 599th value, due to very large number of elements in timestamp!\n",
    "df_custom = df_merged[df_merged.index % 599 == 0]\n",
    "\n",
    "# drop first column to have consistent distance of plots\n",
    "df_custom = df_custom.drop(0)\n",
    "df_custom = df_custom.reset_index(drop= True)\n",
    "df_custom['timestamp_hours'] = round(df_custom['timestamp'] / 3600, 1) # convert seconds to hours\n",
    "# print(df_custom)\n",
    "\n",
    "ax_enlarged = df_custom.plot.bar(x='timestamp_hours', y=['FIFO-Algorithm','HEFT-Algorithm','Random-Algorithm'], title='Power consumption with various scheduling algorithms for pegasus trace\\n with 100% cluster-size configuration', width=.75, figsize=(13, 10))\n",
    "# ax_enlarged.set_xticks(custom_x)\n",
    "# ax_enlarged.set_xticklabels(custom_x_labels)\n",
    "plt.gca().xaxis.set_tick_params(rotation=45)\n",
    "plt.ylabel('\\nTotal power consumption (in kWh: kiloWatt-Hours)')\n",
    "plt.xlabel('\\nTimestamp (in h: hours)')\n",
    "# plt.figure(figsize=(14.5, 8.5))\n",
    "# plt.set_size_inches(14.5, 8.5)\n",
    "plt.grid(True)\n",
    "plt.savefig('multiple_hosts_energy_plotted_trace_pegasus_150.png', bbox_inches='tight')\n",
    "plt.show()"
   ],
   "metadata": {
    "collapsed": false,
    "ExecuteTime": {
     "end_time": "2023-09-27T13:49:13.239060195Z",
     "start_time": "2023-09-27T13:49:12.532486799Z"
    }
   },
   "id": "918114e71ff815b6"
  },
  {
   "cell_type": "code",
   "execution_count": 17,
   "outputs": [
    {
     "name": "stdout",
     "output_type": "stream",
     "text": [
      "      timestamp  FIFO-Algorithm  HEFT-Algorithm  Random-Algorithm\n",
      "0            30        0.144499        0.144499          0.144499\n",
      "1            60        0.293249        0.293249          0.293249\n",
      "2            90        0.441999        0.441999          0.441999\n",
      "3           120        0.590749        0.590749          0.590749\n",
      "4           150        0.739499        0.739499          0.739499\n",
      "...         ...             ...             ...               ...\n",
      "4194     125850      358.726179      358.781646          0.000000\n",
      "4195     125880      358.811179      358.866646          0.000000\n",
      "4196     125910      358.896179      358.951646          0.000000\n",
      "4197     125940      358.981180      359.036646          0.000000\n",
      "4198     125970      359.066180      359.121646          0.000000\n",
      "\n",
      "[4199 rows x 4 columns]\n"
     ]
    }
   ],
   "source": [
    "# df_merged[\"powerTotal\"] = df_merged[\"powerTotal\"]/(1000*3600)\n",
    "# df_merged[\"powerTotal_y\"] = df_merged[\"powerTotal_y\"]/(1000*3600)\n",
    "# df_merged[\"powerTotal_z\"] = df_merged[\"powerTotal_z\"]/(1000*3600)\n",
    "print(df_merged)"
   ],
   "metadata": {
    "collapsed": false,
    "ExecuteTime": {
     "end_time": "2023-09-27T13:44:52.376431454Z",
     "start_time": "2023-09-27T13:44:52.362231230Z"
    }
   },
   "id": "dd9256b6af1362d1"
  },
  {
   "cell_type": "code",
   "execution_count": 18,
   "outputs": [
    {
     "name": "stdout",
     "output_type": "stream",
     "text": [
      "Total energy consumption in FIFO algorithm for executing given trace - 359.0661796595586 kWh\n",
      "Total energy consumption in HEFT algorithm for executing given trace - 359.12164593596145 kWh\n",
      "Total energy consumption in Random algorithm for executing given trace - 355.2582851681656 kWh\n"
     ]
    }
   ],
   "source": [
    "# Reverse the column and find the first non-zero value for getting total power\n",
    "last_non_zero_value_standard = df_merged[df_merged['FIFO-Algorithm'] != 0]['FIFO-Algorithm'].iloc[-1]\n",
    "print(f\"Total energy consumption in FIFO algorithm for executing given trace - {last_non_zero_value_standard} kWh\")\n",
    "last_non_zero_value_heft = df_merged[df_merged['HEFT-Algorithm'] != 0]['HEFT-Algorithm'].iloc[-1]\n",
    "print(f\"Total energy consumption in HEFT algorithm for executing given trace - {last_non_zero_value_heft} kWh\")\n",
    "last_non_zero_value_random = df_merged[df_merged['Random-Algorithm'] != 0]['Random-Algorithm'].iloc[-1]\n",
    "print(f\"Total energy consumption in Random algorithm for executing given trace - {last_non_zero_value_random} kWh\")"
   ],
   "metadata": {
    "collapsed": false,
    "ExecuteTime": {
     "end_time": "2023-09-27T13:44:52.544620933Z",
     "start_time": "2023-09-27T13:44:52.367865846Z"
    }
   },
   "id": "cf05cddd56d570cd"
  },
  {
   "cell_type": "code",
   "execution_count": 19,
   "outputs": [
    {
     "name": "stdout",
     "output_type": "stream",
     "text": [
      "[359.0661796595586, 359.12164593596145, 355.2582851681656]\n"
     ]
    }
   ],
   "source": [
    "total_energy_for_all_scheduling_algos = [last_non_zero_value_standard, last_non_zero_value_heft, last_non_zero_value_random]\n",
    "print(total_energy_for_all_scheduling_algos)"
   ],
   "metadata": {
    "collapsed": false,
    "ExecuteTime": {
     "end_time": "2023-09-27T13:44:52.545022229Z",
     "start_time": "2023-09-27T13:44:52.467013191Z"
    }
   },
   "id": "e178ed8f355873b7"
  },
  {
   "cell_type": "code",
   "execution_count": 20,
   "outputs": [
    {
     "name": "stdout",
     "output_type": "stream",
     "text": [
      "Resource scheduling algorithm Random is the most optimal amongst the three scheduling algorithms analysed above!\n",
      "----------------------------------------------------------------------------------------------------------------------------------------------\n",
      "Scheduling algorithm FIFO records 1.07187% worse energy-efficiency than the scheduling algorithm Random for pegasus workload trace and 150% cluster-size configuration.\n",
      "Scheduling algorithm HEFT records 1.08748% worse energy-efficiency than the scheduling algorithm Random for pegasus workload trace and 150% cluster-size configuration.\n"
     ]
    }
   ],
   "source": [
    "min_value = min(total_energy_for_all_scheduling_algos)\n",
    "dict = {0:\"FIFO\", 1:\"HEFT\", 2:\"Random\"}\n",
    "min_index = total_energy_for_all_scheduling_algos.index(min_value)\n",
    "\n",
    "# Calculate the percentage difference for each element compared to the minimum\n",
    "percentages = []\n",
    "for i, value in enumerate(total_energy_for_all_scheduling_algos):\n",
    "    if i == min_index:\n",
    "        continue  # Skip comparing the minimum value to itself\n",
    "    percentage_difference = ((value - min_value) / min_value) * 100\n",
    "    percentages.append((i, percentage_difference))\n",
    "\n",
    "# Print the results\n",
    "print(f\"Resource scheduling algorithm {dict[min_index]} is the most optimal amongst the three scheduling algorithms analysed above!\")\n",
    "print(\"----------------------------------------------------------------------------------------------------------------------------------------------\")\n",
    "for i, percentage in percentages:\n",
    "    print(f\"Scheduling algorithm {dict[i]} records {abs(percentage):.5f}% {'better' if percentage < 0 else 'worse'} energy-efficiency than the scheduling algorithm {dict[min_index]} for pegasus workload trace and 150% cluster-size configuration.\")\n"
   ],
   "metadata": {
    "collapsed": false,
    "ExecuteTime": {
     "end_time": "2023-09-27T13:44:52.635145287Z",
     "start_time": "2023-09-27T13:44:52.567319058Z"
    }
   },
   "id": "1bbaebe2ffcfd113"
  },
  {
   "cell_type": "code",
   "execution_count": 20,
   "outputs": [],
   "source": [],
   "metadata": {
    "collapsed": false,
    "ExecuteTime": {
     "end_time": "2023-09-27T13:44:52.728630953Z",
     "start_time": "2023-09-27T13:44:52.614302207Z"
    }
   },
   "id": "709b58304c7c1f92"
  }
 ],
 "metadata": {
  "kernelspec": {
   "display_name": "Python 3",
   "language": "python",
   "name": "python3"
  },
  "language_info": {
   "codemirror_mode": {
    "name": "ipython",
    "version": 2
   },
   "file_extension": ".py",
   "mimetype": "text/x-python",
   "name": "python",
   "nbconvert_exporter": "python",
   "pygments_lexer": "ipython2",
   "version": "2.7.6"
  }
 },
 "nbformat": 4,
 "nbformat_minor": 5
}
