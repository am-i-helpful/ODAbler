{
 "cells": [
  {
   "cell_type": "code",
   "execution_count": 5,
   "id": "initial_id",
   "metadata": {
    "collapsed": true,
    "ExecuteTime": {
     "end_time": "2023-09-27T14:27:30.021424216Z",
     "start_time": "2023-09-27T14:27:29.928712721Z"
    }
   },
   "outputs": [],
   "source": [
    "# !pip install influxdb-client\n",
    "# !pip install brokenaxes"
   ]
  },
  {
   "cell_type": "code",
   "execution_count": 6,
   "outputs": [],
   "source": [
    "import influxdb_client\n",
    "import pandas as pd\n",
    "import matplotlib.pyplot as plt\n",
    "from brokenaxes import brokenaxes\n",
    "import json\n",
    "from pathlib import Path"
   ],
   "metadata": {
    "collapsed": false,
    "ExecuteTime": {
     "end_time": "2023-09-27T14:27:30.055795365Z",
     "start_time": "2023-09-27T14:27:29.973375554Z"
    }
   },
   "id": "7061e3b22c4a6107"
  },
  {
   "cell_type": "code",
   "execution_count": 7,
   "outputs": [
    {
     "name": "stdout",
     "output_type": "stream",
     "text": [
      "{'bucket': 'FinalExperiment', 'org': '@Large-Research', 'token': 'd5KtoS1-I2iMVHiRQsVnXKV7MW7QR70Z1mqRdvqs08v-jKxEv8Q_URRHr2tl4AUwwqWHDeZNUKEtSTLjiCf-vg==', 'url': 'http://localhost:8086', 'location': 'Amsterdam'}\n"
     ]
    }
   ],
   "source": [
    "config_file = \"/windows/os/Thesis-Project/ODAbler/key-configurations/influxdb-config.json\"\n",
    "p = Path(config_file)\n",
    "with p.open('r') as f:\n",
    "    content = json.load(f)\n",
    "    print(content)\n",
    "url = content['url']\n",
    "token = content['token']\n",
    "org = content['org']\n",
    "client = influxdb_client.InfluxDBClient(\n",
    "   url=url,\n",
    "   token=token,\n",
    "   org=org,\n",
    "    timeout=30_000\n",
    ")\n",
    "query_api = client.query_api()"
   ],
   "metadata": {
    "collapsed": false,
    "ExecuteTime": {
     "end_time": "2023-09-27T14:27:30.110561428Z",
     "start_time": "2023-09-27T14:27:30.019270593Z"
    }
   },
   "id": "327e81c9028d2a68"
  },
  {
   "cell_type": "code",
   "execution_count": 8,
   "outputs": [
    {
     "name": "stdout",
     "output_type": "stream",
     "text": [
      "        timestamp  serverId  cpuUtilisation  guestsRunning  powerUsage   \n",
      "0            30.0       0.0             1.0           24.0       350.0  \\\n",
      "1            30.0       1.0             1.0           24.0       350.0   \n",
      "2            30.0       2.0             1.0           24.0       350.0   \n",
      "3            30.0       3.0             1.0           24.0       350.0   \n",
      "4            30.0       4.0             1.0           24.0       350.0   \n",
      "...           ...       ...             ...            ...         ...   \n",
      "142760   125970.0      29.0             0.0            0.0       200.0   \n",
      "142761   125970.0      30.0             0.0            0.0       200.0   \n",
      "142762   125970.0      31.0             0.0            0.0       200.0   \n",
      "142763   125970.0      32.0             0.0            0.0       200.0   \n",
      "142764   125970.0      33.0             0.0            0.0       200.0   \n",
      "\n",
      "          powerTotal  \n",
      "0       1.019993e+04  \n",
      "1       2.039985e+04  \n",
      "2       3.059978e+04  \n",
      "3       4.079971e+04  \n",
      "4       5.099963e+04  \n",
      "...              ...  \n",
      "142760  8.641949e+08  \n",
      "142761  8.642009e+08  \n",
      "142762  8.642069e+08  \n",
      "142763  8.642129e+08  \n",
      "142764  8.642189e+08  \n",
      "\n",
      "[142765 rows x 6 columns]\n"
     ]
    }
   ],
   "source": [
    "query_standard = 'from(bucket:\"FinalExperiment\")\\\n",
    "|> range(start: 2023-09-25T22:00:00Z, stop: 2023-09-25T22:50:00Z)\\\n",
    "|> filter(fn: (r) => r._measurement == \"OpenDC_Energy_Experiment\" and r._field =~ /policyId|guestsRunning|cpuUtilisation|timestamp|powerUsage|powerTotal|serverId/)\\\n",
    "|> pivot(rowKey:[\"_time\"], columnKey: [\"_field\"], valueColumn: \"_value\")\\\n",
    "|> filter(fn:(r) => r.policyId == 4)'\n",
    "result_standard = query_api.query_data_frame(org=org, query=query_standard)\n",
    "\n",
    "#display(result_standard.head(10))\n",
    "pd.set_option('display.max_columns', None)\n",
    "df_standard = result_standard[['timestamp','serverId','cpuUtilisation','guestsRunning','powerUsage','powerTotal']]\n",
    "print(df_standard)"
   ],
   "metadata": {
    "collapsed": false,
    "ExecuteTime": {
     "end_time": "2023-09-27T14:28:22.046243371Z",
     "start_time": "2023-09-27T14:27:30.101352166Z"
    }
   },
   "id": "611c3963e3ffc6dc"
  },
  {
   "cell_type": "code",
   "execution_count": 9,
   "outputs": [
    {
     "name": "stdout",
     "output_type": "stream",
     "text": [
      "        timestamp  serverId  cpuUtilisation  guestsRunning  powerUsage   \n",
      "0            30.0       0.0             1.0           24.0       350.0  \\\n",
      "1            30.0       1.0             1.0           24.0       350.0   \n",
      "2            30.0       2.0             1.0           24.0       350.0   \n",
      "3            30.0       3.0             1.0           24.0       350.0   \n",
      "4            30.0       4.0             1.0           24.0       350.0   \n",
      "...           ...       ...             ...            ...         ...   \n",
      "142757   125970.0      29.0             0.0            0.0       200.0   \n",
      "142758   125970.0      30.0             0.0            0.0       200.0   \n",
      "142759   125970.0      31.0             0.0            0.0       200.0   \n",
      "142760   125970.0      32.0             0.0            0.0       200.0   \n",
      "142761   125970.0      33.0             0.0            0.0       200.0   \n",
      "\n",
      "          powerTotal  \n",
      "0       1.019993e+04  \n",
      "1       2.039985e+04  \n",
      "2       3.059978e+04  \n",
      "3       4.079971e+04  \n",
      "4       5.099963e+04  \n",
      "...              ...  \n",
      "142757  8.638480e+08  \n",
      "142758  8.638540e+08  \n",
      "142759  8.638600e+08  \n",
      "142760  8.638660e+08  \n",
      "142761  8.638720e+08  \n",
      "\n",
      "[142762 rows x 6 columns]\n"
     ]
    }
   ],
   "source": [
    "query_heft = 'from(bucket:\"FinalExperiment\")\\\n",
    "|> range(start: 2023-09-25T22:00:00Z, stop: 2023-09-25T22:50:00Z)\\\n",
    "|> filter(fn: (r) => r._measurement == \"OpenDC_Energy_Experiment\" and r._field =~ /policyId|guestsRunning|cpuUtilisation|timestamp|powerUsage|powerTotal|serverId/)\\\n",
    "|> pivot(rowKey:[\"_time\"], columnKey: [\"_field\"], valueColumn: \"_value\")\\\n",
    "|> filter(fn:(r) => r.policyId == 5)'\n",
    "result_heft = query_api.query_data_frame(org=org, query=query_heft)\n",
    "\n",
    "df_heft = result_heft[['timestamp','serverId','cpuUtilisation','guestsRunning','powerUsage','powerTotal']]\n",
    "print(df_heft)"
   ],
   "metadata": {
    "collapsed": false,
    "ExecuteTime": {
     "end_time": "2023-09-27T14:29:14.271603070Z",
     "start_time": "2023-09-27T14:28:22.009386019Z"
    }
   },
   "id": "3b46a2557b60c693"
  },
  {
   "cell_type": "code",
   "execution_count": 10,
   "outputs": [
    {
     "name": "stdout",
     "output_type": "stream",
     "text": [
      "        timestamp  serverId  cpuUtilisation  guestsRunning  powerUsage   \n",
      "0            30.0       0.0        1.000000           24.0  350.000000  \\\n",
      "1            30.0       1.0        1.000000           24.0  350.000000   \n",
      "2            30.0       2.0        1.000000           24.0  350.000000   \n",
      "3            30.0       3.0        1.000000           24.0  350.000000   \n",
      "4            30.0       4.0        1.000000           24.0  350.000000   \n",
      "...           ...       ...             ...            ...         ...   \n",
      "142760   125970.0      29.0        0.000000            0.0  200.000000   \n",
      "142761   125970.0      30.0        0.000000            0.0  200.000000   \n",
      "142762   125970.0      31.0        0.041667            1.0  200.010851   \n",
      "142763   125970.0      32.0        0.000000            0.0  200.000000   \n",
      "142764   125970.0      33.0        0.000000            0.0  200.000000   \n",
      "\n",
      "          powerTotal  \n",
      "0       1.019993e+04  \n",
      "1       2.039985e+04  \n",
      "2       3.059978e+04  \n",
      "3       4.079971e+04  \n",
      "4       5.099963e+04  \n",
      "...              ...  \n",
      "142760  8.640953e+08  \n",
      "142761  8.641013e+08  \n",
      "142762  8.641073e+08  \n",
      "142763  8.641133e+08  \n",
      "142764  8.641193e+08  \n",
      "\n",
      "[142765 rows x 6 columns]\n"
     ]
    }
   ],
   "source": [
    "query_random = 'from(bucket:\"FinalExperiment\")\\\n",
    "|> range(start: 2023-09-25T22:00:00Z, stop: 2023-09-25T22:50:00Z)\\\n",
    "|> filter(fn: (r) => r._measurement == \"OpenDC_Energy_Experiment\" and r._field =~ /policyId|guestsRunning|cpuUtilisation|timestamp|powerUsage|powerTotal|serverId/)\\\n",
    "|> pivot(rowKey:[\"_time\"], columnKey: [\"_field\"], valueColumn: \"_value\")\\\n",
    "|> filter(fn:(r) => r.policyId == 6)'\n",
    "result_random = query_api.query_data_frame(org=org, query=query_random)\n",
    "\n",
    "df_random = result_random[['timestamp','serverId','cpuUtilisation','guestsRunning','powerUsage','powerTotal']]\n",
    "print(df_random)"
   ],
   "metadata": {
    "collapsed": false,
    "ExecuteTime": {
     "end_time": "2023-09-27T14:30:06.342368509Z",
     "start_time": "2023-09-27T14:29:14.252507526Z"
    }
   },
   "id": "89e5af9130005a08"
  },
  {
   "cell_type": "code",
   "execution_count": 11,
   "outputs": [],
   "source": [
    "# query_minmin = 'from(bucket:\"Experiment\")\\\n",
    "# |> range(start: 2023-09-18T22:20:00Z, stop: 2023-09-18T22:34:00Z)\\\n",
    "# |> filter(fn: (r) => r._measurement == \"OpenDC_Energy_Experiment\" and r._field =~ /policy_id|guestsRunning|cpuUtilisation|timestamp|powerUsage|powerTotal|host_id/)\\\n",
    "# |> pivot(rowKey:[\"_time\"], columnKey: [\"_field\"], valueColumn: \"_value\")\\\n",
    "# |> filter(fn:(r) => r.policy_id == 4)'\n",
    "# result_minmin = query_api.query_data_frame(org=org, query=query_minmin)\n",
    "# \n",
    "# df_minmin = result_minmin[['timestamp','host_id','cpuUtilisation','guestsRunning','powerUsage','powerTotal']]\n",
    "# print(df_minmin)"
   ],
   "metadata": {
    "collapsed": false,
    "ExecuteTime": {
     "end_time": "2023-09-27T14:30:06.343010185Z",
     "start_time": "2023-09-27T14:30:06.323660227Z"
    }
   },
   "id": "aff1024d1a8e3d54"
  },
  {
   "cell_type": "code",
   "execution_count": 12,
   "outputs": [
    {
     "name": "stdout",
     "output_type": "stream",
     "text": [
      "        timestamp  serverId    powerTotal\n",
      "33           30.0        33  3.467975e+05\n",
      "67           60.0        33  7.037975e+05\n",
      "101          90.0        33  1.060798e+06\n",
      "135         120.0        33  1.417798e+06\n",
      "169         150.0        33  1.774798e+06\n",
      "...           ...       ...           ...\n",
      "142628   125850.0        33  8.634029e+08\n",
      "142662   125880.0        33  8.636069e+08\n",
      "142696   125910.0        33  8.638109e+08\n",
      "142730   125940.0        33  8.640149e+08\n",
      "142764   125970.0        33  8.642189e+08\n",
      "\n",
      "[4199 rows x 3 columns]\n"
     ]
    },
    {
     "name": "stderr",
     "output_type": "stream",
     "text": [
      "/tmp/ipykernel_64336/3413936369.py:2: SettingWithCopyWarning: \n",
      "A value is trying to be set on a copy of a slice from a DataFrame.\n",
      "Try using .loc[row_indexer,col_indexer] = value instead\n",
      "\n",
      "See the caveats in the documentation: https://pandas.pydata.org/pandas-docs/stable/user_guide/indexing.html#returning-a-view-versus-a-copy\n",
      "  df_total_power_standard['serverId'] = df_total_power_standard['serverId']. astype(int)\n"
     ]
    }
   ],
   "source": [
    "df_total_power_standard = df_standard[['timestamp','serverId','powerTotal']]\n",
    "df_total_power_standard['serverId'] = df_total_power_standard['serverId']. astype(int)\n",
    "df_total_power_standard = df_total_power_standard.loc[df_total_power_standard['serverId'] == 33]\n",
    "print(df_total_power_standard)"
   ],
   "metadata": {
    "collapsed": false,
    "ExecuteTime": {
     "end_time": "2023-09-27T14:30:06.406703968Z",
     "start_time": "2023-09-27T14:30:06.323924380Z"
    }
   },
   "id": "48c4d8df7df1c9d6"
  },
  {
   "cell_type": "code",
   "execution_count": 13,
   "outputs": [
    {
     "name": "stdout",
     "output_type": "stream",
     "text": [
      "        timestamp  serverId    powerTotal\n",
      "33           30.0        33  3.467975e+05\n",
      "67           60.0        33  7.037975e+05\n",
      "101          90.0        33  1.060798e+06\n",
      "135         120.0        33  1.417798e+06\n",
      "169         150.0        33  1.774798e+06\n",
      "...           ...       ...           ...\n",
      "142625   125850.0        33  8.630560e+08\n",
      "142659   125880.0        33  8.632600e+08\n",
      "142693   125910.0        33  8.634640e+08\n",
      "142727   125940.0        33  8.636680e+08\n",
      "142761   125970.0        33  8.638720e+08\n",
      "\n",
      "[4199 rows x 3 columns]\n"
     ]
    },
    {
     "name": "stderr",
     "output_type": "stream",
     "text": [
      "/tmp/ipykernel_64336/2081136302.py:2: SettingWithCopyWarning: \n",
      "A value is trying to be set on a copy of a slice from a DataFrame.\n",
      "Try using .loc[row_indexer,col_indexer] = value instead\n",
      "\n",
      "See the caveats in the documentation: https://pandas.pydata.org/pandas-docs/stable/user_guide/indexing.html#returning-a-view-versus-a-copy\n",
      "  df_total_power_heft['serverId'] = df_total_power_heft['serverId']. astype(int)\n"
     ]
    }
   ],
   "source": [
    "df_total_power_heft = df_heft[['timestamp','serverId','powerTotal']]\n",
    "df_total_power_heft['serverId'] = df_total_power_heft['serverId']. astype(int)\n",
    "df_total_power_heft = df_total_power_heft.loc[df_total_power_heft['serverId'] == 33]\n",
    "print(df_total_power_heft)"
   ],
   "metadata": {
    "collapsed": false,
    "ExecuteTime": {
     "end_time": "2023-09-27T14:30:06.539830715Z",
     "start_time": "2023-09-27T14:30:06.407270764Z"
    }
   },
   "id": "9d5184d679b6660f"
  },
  {
   "cell_type": "code",
   "execution_count": 14,
   "outputs": [
    {
     "name": "stdout",
     "output_type": "stream",
     "text": [
      "        timestamp  serverId    powerTotal\n",
      "33           30.0        33  3.467975e+05\n",
      "67           60.0        33  7.037975e+05\n",
      "101          90.0        33  1.060798e+06\n",
      "135         120.0        33  1.417798e+06\n",
      "169         150.0        33  1.774798e+06\n",
      "...           ...       ...           ...\n",
      "142628   125850.0        33  8.633033e+08\n",
      "142662   125880.0        33  8.635073e+08\n",
      "142696   125910.0        33  8.637113e+08\n",
      "142730   125940.0        33  8.639153e+08\n",
      "142764   125970.0        33  8.641193e+08\n",
      "\n",
      "[4199 rows x 3 columns]\n"
     ]
    },
    {
     "name": "stderr",
     "output_type": "stream",
     "text": [
      "/tmp/ipykernel_64336/3731546774.py:2: SettingWithCopyWarning: \n",
      "A value is trying to be set on a copy of a slice from a DataFrame.\n",
      "Try using .loc[row_indexer,col_indexer] = value instead\n",
      "\n",
      "See the caveats in the documentation: https://pandas.pydata.org/pandas-docs/stable/user_guide/indexing.html#returning-a-view-versus-a-copy\n",
      "  df_total_power_random['serverId'] = df_total_power_random['serverId']. astype(int)\n"
     ]
    }
   ],
   "source": [
    "df_total_power_random = df_random[['timestamp','serverId','powerTotal']]\n",
    "df_total_power_random['serverId'] = df_total_power_random['serverId']. astype(int)\n",
    "df_total_power_random = df_total_power_random.loc[df_total_power_random['serverId'] == 33]\n",
    "print(df_total_power_random)"
   ],
   "metadata": {
    "collapsed": false,
    "ExecuteTime": {
     "end_time": "2023-09-27T14:30:06.583219918Z",
     "start_time": "2023-09-27T14:30:06.515378587Z"
    }
   },
   "id": "5eb714008442e4ae"
  },
  {
   "cell_type": "code",
   "execution_count": 15,
   "outputs": [],
   "source": [
    "# df_total_power_minmin = df_minmin[['timestamp','host_id','powerTotal']]\n",
    "# df_total_power_minmin['host_id'] = df_total_power_minmin['host_id']. astype(int)\n",
    "# df_total_power_minmin = df_total_power_minmin.loc[df_total_power_minmin['host_id'] == 33]\n",
    "# print(df_total_power_minmin)"
   ],
   "metadata": {
    "collapsed": false,
    "ExecuteTime": {
     "end_time": "2023-09-27T14:30:06.641571163Z",
     "start_time": "2023-09-27T14:30:06.556417429Z"
    }
   },
   "id": "95416f964813cace"
  },
  {
   "cell_type": "code",
   "execution_count": 16,
   "outputs": [
    {
     "name": "stdout",
     "output_type": "stream",
     "text": [
      "   timestamp  FIFO-Algorithm  HEFT-Algorithm  Random-Algorithm   \n",
      "0      18000       36.117042       36.020696         36.089393  \\\n",
      "1      35970       70.060484       69.964138         70.032835   \n",
      "2      53940      104.003914      103.907568        103.976269   \n",
      "3      71910      137.947301      137.850955        137.919656   \n",
      "4      89880      171.890689      171.794343        171.863044   \n",
      "5     107850      205.834076      205.737730        205.806431   \n",
      "6     125820      239.777464      239.681118        239.749819   \n",
      "\n",
      "   timestamp_hours  \n",
      "0              5.0  \n",
      "1             10.0  \n",
      "2             15.0  \n",
      "3             20.0  \n",
      "4             25.0  \n",
      "5             30.0  \n",
      "6             35.0  \n"
     ]
    },
    {
     "data": {
      "text/plain": "<Figure size 1300x1000 with 1 Axes>",
      "image/png": "[encoded data removed]"
     },
     "metadata": {},
     "output_type": "display_data"
    }
   ],
   "source": [
    "df1 = df_total_power_standard.drop(['serverId'], axis=1)\n",
    "df2 = df_total_power_heft.drop(['serverId'], axis=1)\n",
    "df3 = df_total_power_random.drop(['serverId'], axis=1)\n",
    "# df4 = df_total_power_minmin.drop(['serverId'], axis=1)\n",
    "# print(df1)\n",
    "# Create a list of all the dataframes\n",
    "dfs = [df1, df2, df3]\n",
    "\n",
    "# Create a new dataframe with all the timestamps from all the dataframes\n",
    "df_timestamps = pd.DataFrame({'timestamp': sorted(set(sum([df['timestamp'].tolist() for df in dfs], [])))})\n",
    "\n",
    "# Merge the new dataframe with all the dataframes, filling in missing values with 0\n",
    "df_merged = df_timestamps.merge(df1, how='left', on='timestamp', suffixes=('', '_x')).merge(df2, how='left', on='timestamp', suffixes=('', '_y')).merge(df3, how='left', on='timestamp', suffixes=('', '_z')).fillna(0)\n",
    "\n",
    "# Convert watts to kiloWatt-hours\n",
    "df_merged[\"powerTotal\"] = df_merged[\"powerTotal\"]/(1000*3600)\n",
    "df_merged[\"powerTotal_y\"] = df_merged[\"powerTotal_y\"]/(1000*3600)\n",
    "df_merged[\"powerTotal_z\"] = df_merged[\"powerTotal_z\"]/(1000*3600)\n",
    "# df_merged[\"powerTotal_w\"] = df_merged[\"powerTotal_w\"]/1000000\n",
    "df_merged.rename(columns={'powerTotal': 'FIFO-Algorithm', 'powerTotal_y': 'HEFT-Algorithm', 'powerTotal_z': 'Random-Algorithm'}, inplace=True) #, 'powerTotal_w': 'MinMin-Algorithm'\n",
    "df_merged['timestamp'] = df_merged['timestamp'].astype(int)\n",
    "\n",
    "# print(df_merged)\n",
    "# Create a custom x-axis with every 599th value, due to very large number of elements in timestamp!\n",
    "df_custom = df_merged[df_merged.index % 599 == 0]\n",
    "\n",
    "# drop first column to have consistent distance of plots\n",
    "df_custom = df_custom.drop(0)\n",
    "df_custom = df_custom.reset_index(drop= True)\n",
    "df_custom['timestamp_hours'] = round(df_custom['timestamp'] / 3600, 1) # convert seconds to hours\n",
    "print(df_custom)\n",
    "\n",
    "# Create a bar plot of the merged dataframe, grouped by timestamp\n",
    "# fig, ax = plt.subplots()\n",
    "# ax_enlarged = df_merged.plot.bar(x='timestamp', ax=ax, title='Power consumption with various scheduling algorithms for pegasus trace\\n with 100% cluster-size configuration', width=.5)\n",
    "# plt.figure(figsize=(13.5, 9.5))\n",
    "# Create a plot with a broken x-axis\n",
    "# bax = brokenaxes(xlims=((df_custom.index[0], df_custom.index[1]), (df_custom.index[2], df_custom.index[-1])), wspace=0.05)\n",
    "\n",
    "# Plot the data within the broken x-axis\n",
    "# bax.bar(df_custom.index, df_custom['FIFO-Algorithm'], width=5, label='FIFO-Algorithm')\n",
    "# bax.bar(df_custom.index, df_custom['HEFT-Algorithm'], width=5, label='HEFT-Algorithm', bottom=df_custom['FIFO-Algorithm'])\n",
    "# bax.bar(df_custom.index, df_custom['Random-Algorithm'], width=5, label='Random-Algorithm', bottom=df_custom['HEFT-Algorithm'])\n",
    "\n",
    "# Calculate the bar positions for the groups within each segment\n",
    "# x_values = df_custom['timestamp']\n",
    "# print(x_values.iloc[0], x_values.iloc[1], x_values.iloc[-1])\n",
    "# group_width = 20  # Width of each group of bars\n",
    "# bar_width = 20  # Width of individual bars within a group\n",
    "# num_columns = len(df_custom.columns) - 1  # Number of columns (excluding the 'timestamp' column)\n",
    "\n",
    "# Calculate the total width for each group\n",
    "# total_group_width = num_columns * group_width\n",
    "# \n",
    "# bax = brokenaxes(xlims=((0,x_values.iloc[0]),(x_values.iloc[1] - total_group_width / 2, x_values.iloc[-1] + total_group_width / 2)), wspace=0.05)\n",
    "# \n",
    "# for i in range(num_columns):\n",
    "#     x_pos = x_values + (i - (num_columns / 2 - 0.5 )) * group_width + (bar_width * (num_columns / 2))\n",
    "#     bax.bar(x_pos, df_custom.iloc[:, i + 1], width=bar_width, label=df_custom.columns[i + 1])\n",
    "#     \n",
    "# Add a legend\n",
    "# bax.legend(loc='upper left')\n",
    "# bax.set_xlabel('Timestamp (in s: seconds)', labelpad=25)\n",
    "# bax.set_ylabel('Total power consumption (in kWh: kiloWatt-Hours)', labelpad=35)\n",
    "# plt.title('Total power usage value sampled over time (comparing various task-scheduling algorithms)')\n",
    "ax_enlarged = df_custom.plot.bar(x='timestamp_hours', y=['FIFO-Algorithm','HEFT-Algorithm','Random-Algorithm'], title='Power consumption with various scheduling algorithms for pegasus trace\\n with 100% cluster-size configuration', width=.75, figsize=(13, 10))\n",
    "# ax_enlarged.set_xticks(custom_x)\n",
    "# ax_enlarged.set_xticklabels(custom_x_labels)\n",
    "plt.gca().xaxis.set_tick_params(rotation=45)\n",
    "plt.ylabel('\\nTotal power consumption (in kWh: kiloWatt-Hours)')\n",
    "plt.xlabel('\\nTimestamp (in h: hours)')\n",
    "# plt.figure(figsize=(14.5, 8.5))\n",
    "# plt.set_size_inches(14.5, 8.5)\n",
    "plt.grid(True)\n",
    "plt.savefig('multiple_hosts_energy_plotted_trace_pegasus_100.png', bbox_inches='tight')\n",
    "plt.show()"
   ],
   "metadata": {
    "collapsed": false,
    "ExecuteTime": {
     "end_time": "2023-09-27T14:30:07.311216186Z",
     "start_time": "2023-09-27T14:30:06.616684263Z"
    }
   },
   "id": "918114e71ff815b6"
  },
  {
   "cell_type": "code",
   "execution_count": 17,
   "outputs": [
    {
     "name": "stdout",
     "output_type": "stream",
     "text": [
      "      timestamp  FIFO-Algorithm  HEFT-Algorithm  Random-Algorithm\n",
      "0            30        0.096333        0.096333          0.096333\n",
      "1            60        0.195499        0.195499          0.195499\n",
      "2            90        0.294666        0.294666          0.294666\n",
      "3           120        0.393833        0.393833          0.393833\n",
      "4           150        0.492999        0.492999          0.492999\n",
      "...         ...             ...             ...               ...\n",
      "4194     125850      239.834130      239.737785        239.806486\n",
      "4195     125880      239.890797      239.794451        239.863152\n",
      "4196     125910      239.947464      239.851118        239.919819\n",
      "4197     125940      240.004131      239.907785        239.976486\n",
      "4198     125970      240.060797      239.964452        240.033153\n",
      "\n",
      "[4199 rows x 4 columns]\n"
     ]
    }
   ],
   "source": [
    "# df_merged[\"powerTotal\"] = df_merged[\"powerTotal\"]/(1000*3600)\n",
    "# df_merged[\"powerTotal_y\"] = df_merged[\"powerTotal_y\"]/(1000*3600)\n",
    "# df_merged[\"powerTotal_z\"] = df_merged[\"powerTotal_z\"]/(1000*3600)\n",
    "print(df_merged)"
   ],
   "metadata": {
    "collapsed": false,
    "ExecuteTime": {
     "end_time": "2023-09-27T14:30:07.470264770Z",
     "start_time": "2023-09-27T14:30:07.314823071Z"
    }
   },
   "id": "dd9256b6af1362d1"
  },
  {
   "cell_type": "code",
   "execution_count": 18,
   "outputs": [
    {
     "name": "stdout",
     "output_type": "stream",
     "text": [
      "Total energy consumption in FIFO algorithm for executing given trace - 240.06079749606536 kWh\n",
      "Total energy consumption in HEFT algorithm for executing given trace - 239.96445165506606 kWh\n",
      "Total energy consumption in Random algorithm for executing given trace - 240.03315261254704 kWh\n"
     ]
    }
   ],
   "source": [
    "# Reverse the column and find the first non-zero value for getting total power\n",
    "last_non_zero_value_standard = df_merged[df_merged['FIFO-Algorithm'] != 0]['FIFO-Algorithm'].iloc[-1]\n",
    "print(f\"Total energy consumption in FIFO algorithm for executing given trace - {last_non_zero_value_standard} kWh\")\n",
    "last_non_zero_value_heft = df_merged[df_merged['HEFT-Algorithm'] != 0]['HEFT-Algorithm'].iloc[-1]\n",
    "print(f\"Total energy consumption in HEFT algorithm for executing given trace - {last_non_zero_value_heft} kWh\")\n",
    "last_non_zero_value_random = df_merged[df_merged['Random-Algorithm'] != 0]['Random-Algorithm'].iloc[-1]\n",
    "print(f\"Total energy consumption in Random algorithm for executing given trace - {last_non_zero_value_random} kWh\")"
   ],
   "metadata": {
    "collapsed": false,
    "ExecuteTime": {
     "end_time": "2023-09-27T14:30:07.470814604Z",
     "start_time": "2023-09-27T14:30:07.355342900Z"
    }
   },
   "id": "cf05cddd56d570cd"
  },
  {
   "cell_type": "code",
   "execution_count": 19,
   "outputs": [
    {
     "name": "stdout",
     "output_type": "stream",
     "text": [
      "[240.06079749606536, 239.96445165506606, 240.03315261254704]\n"
     ]
    }
   ],
   "source": [
    "total_energy_for_all_scheduling_algos = [last_non_zero_value_standard, last_non_zero_value_heft, last_non_zero_value_random]\n",
    "print(total_energy_for_all_scheduling_algos)"
   ],
   "metadata": {
    "collapsed": false,
    "ExecuteTime": {
     "end_time": "2023-09-27T14:30:07.490289307Z",
     "start_time": "2023-09-27T14:30:07.405723568Z"
    }
   },
   "id": "e178ed8f355873b7"
  },
  {
   "cell_type": "code",
   "execution_count": 20,
   "outputs": [
    {
     "name": "stdout",
     "output_type": "stream",
     "text": [
      "Resource scheduling algorithm HEFT is the most optimal amongst the three scheduling algorithms analysed above!\n",
      "----------------------------------------------------------------------------------------------------------------------------------------------\n",
      "Scheduling algorithm FIFO records 0.04015% worse energy-efficiency than the scheduling algorithm HEFT for pegasus workload trace and 100% cluster-size configuration.\n",
      "Scheduling algorithm Random records 0.02863% worse energy-efficiency than the scheduling algorithm HEFT for pegasus workload trace and 100% cluster-size configuration.\n"
     ]
    }
   ],
   "source": [
    "min_value = min(total_energy_for_all_scheduling_algos)\n",
    "dict = {0:\"FIFO\", 1:\"HEFT\", 2:\"Random\"}\n",
    "min_index = total_energy_for_all_scheduling_algos.index(min_value)\n",
    "\n",
    "# Calculate the percentage difference for each element compared to the minimum\n",
    "percentages = []\n",
    "for i, value in enumerate(total_energy_for_all_scheduling_algos):\n",
    "    if i == min_index:\n",
    "        continue  # Skip comparing the minimum value to itself\n",
    "    percentage_difference = ((value - min_value) / min_value) * 100\n",
    "    percentages.append((i, percentage_difference))\n",
    "\n",
    "# Print the results\n",
    "print(f\"Resource scheduling algorithm {dict[min_index]} is the most optimal amongst the three scheduling algorithms analysed above!\")\n",
    "print(\"----------------------------------------------------------------------------------------------------------------------------------------------\")\n",
    "for i, percentage in percentages:\n",
    "    print(f\"Scheduling algorithm {dict[i]} records {abs(percentage):.5f}% {'better' if percentage < 0 else 'worse'} energy-efficiency than the scheduling algorithm {dict[min_index]} for pegasus workload trace and 100% cluster-size configuration.\")\n"
   ],
   "metadata": {
    "collapsed": false,
    "ExecuteTime": {
     "end_time": "2023-09-27T14:30:07.548707069Z",
     "start_time": "2023-09-27T14:30:07.487346215Z"
    }
   },
   "id": "1bbaebe2ffcfd113"
  },
  {
   "cell_type": "code",
   "execution_count": 20,
   "outputs": [],
   "source": [],
   "metadata": {
    "collapsed": false,
    "ExecuteTime": {
     "end_time": "2023-09-27T14:30:07.624293291Z",
     "start_time": "2023-09-27T14:30:07.538940334Z"
    }
   },
   "id": "709b58304c7c1f92"
  }
 ],
 "metadata": {
  "kernelspec": {
   "display_name": "Python 3",
   "language": "python",
   "name": "python3"
  },
  "language_info": {
   "codemirror_mode": {
    "name": "ipython",
    "version": 2
   },
   "file_extension": ".py",
   "mimetype": "text/x-python",
   "name": "python",
   "nbconvert_exporter": "python",
   "pygments_lexer": "ipython2",
   "version": "2.7.6"
  }
 },
 "nbformat": 4,
 "nbformat_minor": 5
}
