{
 "cells": [
  {
   "cell_type": "code",
   "execution_count": 13,
   "id": "initial_id",
   "metadata": {
    "collapsed": true,
    "ExecuteTime": {
     "end_time": "2023-09-24T19:34:06.896884536Z",
     "start_time": "2023-09-24T19:34:06.807750852Z"
    }
   },
   "outputs": [],
   "source": [
    "# !pip install influxdb-client"
   ]
  },
  {
   "cell_type": "code",
   "execution_count": 14,
   "outputs": [],
   "source": [
    "import influxdb_client\n",
    "import pandas as pd\n",
    "import matplotlib.pyplot as plt\n",
    "import json\n",
    "from pathlib import Path"
   ],
   "metadata": {
    "collapsed": false,
    "ExecuteTime": {
     "end_time": "2023-09-24T19:34:06.954062362Z",
     "start_time": "2023-09-24T19:34:06.852795608Z"
    }
   },
   "id": "7061e3b22c4a6107"
  },
  {
   "cell_type": "code",
   "execution_count": 15,
   "outputs": [
    {
     "name": "stdout",
     "output_type": "stream",
     "text": [
      "{'bucket': 'Temporary', 'org': '@Large-Research', 'token': 'd5KtoS1-I2iMVHiRQsVnXKV7MW7QR70Z1mqRdvqs08v-jKxEv8Q_URRHr2tl4AUwwqWHDeZNUKEtSTLjiCf-vg==', 'url': 'http://localhost:8086', 'location': 'Amsterdam'}\n"
     ]
    }
   ],
   "source": [
    "config_file = \"/windows/os/Thesis-Project/ODAbler/key-configurations/influxdb-config.json\"\n",
    "p = Path(config_file)\n",
    "with p.open('r') as f:\n",
    "    content = json.load(f)\n",
    "    print(content)\n",
    "url = content['url']\n",
    "token = content['token']\n",
    "org = content['org']\n",
    "client = influxdb_client.InfluxDBClient(\n",
    "   url=url,\n",
    "   token=token,\n",
    "   org=org\n",
    ")\n",
    "query_api = client.query_api()"
   ],
   "metadata": {
    "collapsed": false,
    "ExecuteTime": {
     "end_time": "2023-09-24T19:34:07.039664124Z",
     "start_time": "2023-09-24T19:34:06.916228282Z"
    }
   },
   "id": "327e81c9028d2a68"
  },
  {
   "cell_type": "code",
   "execution_count": 16,
   "outputs": [
    {
     "name": "stdout",
     "output_type": "stream",
     "text": [
      "     timestamp  host_id  cpuUtilisation  guestsRunning  powerUsage   \n",
      "0       1000.0      0.0        0.500000           12.0  218.750000  \\\n",
      "1       1000.0      1.0        0.541667           13.0  223.838976   \n",
      "2       1000.0      2.0        0.416667           10.0  210.850694   \n",
      "3       1000.0      3.0        0.416667           10.0  210.850694   \n",
      "4       1000.0      4.0        0.291667            7.0  203.721788   \n",
      "..         ...      ...             ...            ...         ...   \n",
      "369    11000.0     29.0        0.041667            1.0  200.010851   \n",
      "370    11000.0     30.0        0.041667            1.0  200.010851   \n",
      "371    11000.0     31.0        0.041667            1.0  200.010851   \n",
      "372    11000.0     32.0        0.000000            0.0  200.000000   \n",
      "373    11000.0     33.0        0.041667            1.0  200.010851   \n",
      "\n",
      "       powerTotal  \n",
      "0    2.451133e+05  \n",
      "1    4.904217e+05  \n",
      "2    7.352067e+05  \n",
      "3    9.788205e+05  \n",
      "4    1.222501e+06  \n",
      "..            ...  \n",
      "369  8.491048e+07  \n",
      "370  8.511868e+07  \n",
      "371  8.532739e+07  \n",
      "372  8.553638e+07  \n",
      "373  8.574522e+07  \n",
      "\n",
      "[374 rows x 6 columns]\n"
     ]
    }
   ],
   "source": [
    "query_standard = 'from(bucket:\"Experiment\")\\\n",
    "|> range(start: 2023-09-18T22:20:00Z, stop: 2023-09-18T22:34:00Z)\\\n",
    "|> filter(fn: (r) => r._measurement == \"OpenDC_Energy_Experiment\" and r._field =~ /policy_id|guestsRunning|cpuUtilisation|timestamp|powerUsage|powerTotal|host_id/)\\\n",
    "|> pivot(rowKey:[\"_time\"], columnKey: [\"_field\"], valueColumn: \"_value\")\\\n",
    "|> filter(fn:(r) => r.policy_id == 1)'\n",
    "result_standard = query_api.query_data_frame(org=org, query=query_standard)\n",
    "\n",
    "#display(result_standard.head(10))\n",
    "pd.set_option('display.max_columns', None)\n",
    "df_standard = result_standard[['timestamp','host_id','cpuUtilisation','guestsRunning','powerUsage','powerTotal']]\n",
    "print(df_standard)"
   ],
   "metadata": {
    "collapsed": false,
    "ExecuteTime": {
     "end_time": "2023-09-24T19:34:07.266189809Z",
     "start_time": "2023-09-24T19:34:07.035691608Z"
    }
   },
   "id": "611c3963e3ffc6dc"
  },
  {
   "cell_type": "code",
   "execution_count": 17,
   "outputs": [
    {
     "name": "stdout",
     "output_type": "stream",
     "text": [
      "     timestamp  host_id  cpuUtilisation  guestsRunning  powerUsage   \n",
      "0       1000.0      0.0        0.500000           12.0  218.750000  \\\n",
      "1       1000.0      1.0        0.541667           13.0  223.838976   \n",
      "2       1000.0      2.0        0.416667           10.0  210.850694   \n",
      "3       1000.0      3.0        0.416667           10.0  210.850694   \n",
      "4       1000.0      4.0        0.291667            7.0  203.721788   \n",
      "..         ...      ...             ...            ...         ...   \n",
      "335    10000.0     29.0        0.041667            1.0  200.010851   \n",
      "336    10000.0     30.0        0.083333            2.0  200.086806   \n",
      "337    10000.0     31.0        0.041667            1.0  200.010851   \n",
      "338    10000.0     32.0        0.041667            1.0  200.010851   \n",
      "339    10000.0     33.0        0.041667            1.0  200.010851   \n",
      "\n",
      "       powerTotal  \n",
      "0    2.451133e+05  \n",
      "1    4.904217e+05  \n",
      "2    7.352067e+05  \n",
      "3    9.788205e+05  \n",
      "4    1.222501e+06  \n",
      "..            ...  \n",
      "335  7.793107e+07  \n",
      "336  7.813697e+07  \n",
      "337  7.834366e+07  \n",
      "338  7.854973e+07  \n",
      "339  7.875559e+07  \n",
      "\n",
      "[340 rows x 6 columns]\n"
     ]
    }
   ],
   "source": [
    "query_heft = 'from(bucket:\"Experiment\")\\\n",
    "|> range(start: 2023-09-18T22:20:00Z, stop: 2023-09-18T22:34:00Z)\\\n",
    "|> filter(fn: (r) => r._measurement == \"OpenDC_Energy_Experiment\" and r._field =~ /policy_id|guestsRunning|cpuUtilisation|timestamp|powerUsage|powerTotal|host_id/)\\\n",
    "|> pivot(rowKey:[\"_time\"], columnKey: [\"_field\"], valueColumn: \"_value\")\\\n",
    "|> filter(fn:(r) => r.policy_id == 2)'\n",
    "result_heft = query_api.query_data_frame(org=org, query=query_heft)\n",
    "\n",
    "df_heft = result_heft[['timestamp','host_id','cpuUtilisation','guestsRunning','powerUsage','powerTotal']]\n",
    "print(df_heft)"
   ],
   "metadata": {
    "collapsed": false,
    "ExecuteTime": {
     "end_time": "2023-09-24T19:34:07.410550372Z",
     "start_time": "2023-09-24T19:34:07.272252180Z"
    }
   },
   "id": "3b46a2557b60c693"
  },
  {
   "cell_type": "code",
   "execution_count": 18,
   "outputs": [
    {
     "name": "stdout",
     "output_type": "stream",
     "text": [
      "     timestamp  host_id  cpuUtilisation  guestsRunning  powerUsage   \n",
      "0       1000.0      0.0        0.083333            2.0  200.086806  \\\n",
      "1       1000.0      1.0        0.083333            2.0  200.086806   \n",
      "2       1000.0      2.0        0.083333            2.0  200.086806   \n",
      "3       1000.0      3.0        0.083333            2.0  200.086806   \n",
      "4       1000.0      4.0        0.083333            2.0  200.086806   \n",
      "..         ...      ...             ...            ...         ...   \n",
      "505    15000.0     29.0        0.958333           23.0  332.020399   \n",
      "506    15000.0     30.0        1.000000           24.0  350.000000   \n",
      "507    15000.0     31.0        0.958333           23.0  332.020399   \n",
      "508    15000.0     32.0        0.958333           23.0  332.020399   \n",
      "509    15000.0     33.0        1.000000           24.0  350.000000   \n",
      "\n",
      "       powerTotal  \n",
      "0    2.094128e+05  \n",
      "1    4.195784e+05  \n",
      "2    6.297628e+05  \n",
      "3    8.426643e+05  \n",
      "4    1.052307e+06  \n",
      "..            ...  \n",
      "505  1.100548e+08  \n",
      "506  1.102649e+08  \n",
      "507  1.104752e+08  \n",
      "508  1.106844e+08  \n",
      "509  1.108955e+08  \n",
      "\n",
      "[510 rows x 6 columns]\n"
     ]
    }
   ],
   "source": [
    "query_random = 'from(bucket:\"Experiment\")\\\n",
    "|> range(start: 2023-09-18T22:20:00Z, stop: 2023-09-18T22:34:00Z)\\\n",
    "|> filter(fn: (r) => r._measurement == \"OpenDC_Energy_Experiment\" and r._field =~ /policy_id|guestsRunning|cpuUtilisation|timestamp|powerUsage|powerTotal|host_id/)\\\n",
    "|> pivot(rowKey:[\"_time\"], columnKey: [\"_field\"], valueColumn: \"_value\")\\\n",
    "|> filter(fn:(r) => r.policy_id == 3)'\n",
    "result_random = query_api.query_data_frame(org=org, query=query_random)\n",
    "\n",
    "df_random = result_random[['timestamp','host_id','cpuUtilisation','guestsRunning','powerUsage','powerTotal']]\n",
    "print(df_random)"
   ],
   "metadata": {
    "collapsed": false,
    "ExecuteTime": {
     "end_time": "2023-09-24T19:34:07.582047164Z",
     "start_time": "2023-09-24T19:34:07.404735721Z"
    }
   },
   "id": "89e5af9130005a08"
  },
  {
   "cell_type": "code",
   "execution_count": 19,
   "outputs": [
    {
     "name": "stdout",
     "output_type": "stream",
     "text": [
      "     timestamp  host_id  cpuUtilisation  guestsRunning  powerUsage   \n",
      "0       1000.0      0.0        0.500000           12.0  218.750000  \\\n",
      "1       1000.0      1.0        0.541667           13.0  223.838976   \n",
      "2       1000.0      2.0        0.416667           10.0  210.850694   \n",
      "3       1000.0      3.0        0.416667           10.0  210.850694   \n",
      "4       1000.0      4.0        0.291667            7.0  203.721788   \n",
      "..         ...      ...             ...            ...         ...   \n",
      "335    10000.0     29.0        0.041667            1.0  200.010851   \n",
      "336    10000.0     30.0        0.083333            2.0  200.086806   \n",
      "337    10000.0     31.0        0.041667            1.0  200.010851   \n",
      "338    10000.0     32.0        0.041667            1.0  200.010851   \n",
      "339    10000.0     33.0        0.041667            1.0  200.010851   \n",
      "\n",
      "       powerTotal  \n",
      "0    2.451133e+05  \n",
      "1    4.904217e+05  \n",
      "2    7.352067e+05  \n",
      "3    9.788205e+05  \n",
      "4    1.222501e+06  \n",
      "..            ...  \n",
      "335  7.793107e+07  \n",
      "336  7.813697e+07  \n",
      "337  7.834366e+07  \n",
      "338  7.854973e+07  \n",
      "339  7.875559e+07  \n",
      "\n",
      "[340 rows x 6 columns]\n"
     ]
    }
   ],
   "source": [
    "query_minmin = 'from(bucket:\"Experiment\")\\\n",
    "|> range(start: 2023-09-18T22:20:00Z, stop: 2023-09-18T22:34:00Z)\\\n",
    "|> filter(fn: (r) => r._measurement == \"OpenDC_Energy_Experiment\" and r._field =~ /policy_id|guestsRunning|cpuUtilisation|timestamp|powerUsage|powerTotal|host_id/)\\\n",
    "|> pivot(rowKey:[\"_time\"], columnKey: [\"_field\"], valueColumn: \"_value\")\\\n",
    "|> filter(fn:(r) => r.policy_id == 4)'\n",
    "result_minmin = query_api.query_data_frame(org=org, query=query_minmin)\n",
    "\n",
    "df_minmin = result_minmin[['timestamp','host_id','cpuUtilisation','guestsRunning','powerUsage','powerTotal']]\n",
    "print(df_minmin)"
   ],
   "metadata": {
    "collapsed": false,
    "ExecuteTime": {
     "end_time": "2023-09-24T19:34:07.707986878Z",
     "start_time": "2023-09-24T19:34:07.579254452Z"
    }
   },
   "id": "aff1024d1a8e3d54"
  },
  {
   "cell_type": "code",
   "execution_count": 20,
   "outputs": [
    {
     "name": "stdout",
     "output_type": "stream",
     "text": [
      "     timestamp  host_id    powerTotal\n",
      "33      1000.0       33  8.309371e+06\n",
      "67      2000.0       33  1.610046e+07\n",
      "101     3000.0       33  2.417643e+07\n",
      "135     4000.0       33  3.172351e+07\n",
      "169     5000.0       33  4.018811e+07\n",
      "203     6000.0       33  4.791615e+07\n",
      "237     7000.0       33  5.581547e+07\n",
      "271     8000.0       33  6.394212e+07\n",
      "305     9000.0       33  7.184868e+07\n",
      "339    10000.0       33  7.865005e+07\n",
      "373    11000.0       33  8.574522e+07\n"
     ]
    },
    {
     "name": "stderr",
     "output_type": "stream",
     "text": [
      "/tmp/ipykernel_16173/2689543323.py:2: SettingWithCopyWarning: \n",
      "A value is trying to be set on a copy of a slice from a DataFrame.\n",
      "Try using .loc[row_indexer,col_indexer] = value instead\n",
      "\n",
      "See the caveats in the documentation: https://pandas.pydata.org/pandas-docs/stable/user_guide/indexing.html#returning-a-view-versus-a-copy\n",
      "  df_total_power_standard['host_id'] = df_total_power_standard['host_id']. astype(int)\n"
     ]
    }
   ],
   "source": [
    "df_total_power_standard = df_standard[['timestamp','host_id','powerTotal']]\n",
    "df_total_power_standard['host_id'] = df_total_power_standard['host_id']. astype(int)\n",
    "df_total_power_standard = df_total_power_standard.loc[df_total_power_standard['host_id'] == 33]\n",
    "print(df_total_power_standard)"
   ],
   "metadata": {
    "collapsed": false,
    "ExecuteTime": {
     "end_time": "2023-09-24T19:34:07.719907679Z",
     "start_time": "2023-09-24T19:34:07.709631353Z"
    }
   },
   "id": "48c4d8df7df1c9d6"
  },
  {
   "cell_type": "code",
   "execution_count": 21,
   "outputs": [
    {
     "name": "stdout",
     "output_type": "stream",
     "text": [
      "     timestamp  host_id    powerTotal\n",
      "33      1000.0       33  8.309371e+06\n",
      "67      2000.0       33  1.610046e+07\n",
      "101     3000.0       33  2.417643e+07\n",
      "135     4000.0       33  3.172351e+07\n",
      "169     5000.0       33  4.018811e+07\n",
      "203     6000.0       33  4.791615e+07\n",
      "237     7000.0       33  5.581262e+07\n",
      "271     8000.0       33  6.367144e+07\n",
      "305     9000.0       33  7.175391e+07\n",
      "339    10000.0       33  7.875559e+07\n"
     ]
    },
    {
     "name": "stderr",
     "output_type": "stream",
     "text": [
      "/tmp/ipykernel_16173/149652282.py:2: SettingWithCopyWarning: \n",
      "A value is trying to be set on a copy of a slice from a DataFrame.\n",
      "Try using .loc[row_indexer,col_indexer] = value instead\n",
      "\n",
      "See the caveats in the documentation: https://pandas.pydata.org/pandas-docs/stable/user_guide/indexing.html#returning-a-view-versus-a-copy\n",
      "  df_total_power_heft['host_id'] = df_total_power_heft['host_id']. astype(int)\n"
     ]
    }
   ],
   "source": [
    "df_total_power_heft = df_heft[['timestamp','host_id','powerTotal']]\n",
    "df_total_power_heft['host_id'] = df_total_power_heft['host_id']. astype(int)\n",
    "df_total_power_heft = df_total_power_heft.loc[df_total_power_heft['host_id'] == 33]\n",
    "print(df_total_power_heft)"
   ],
   "metadata": {
    "collapsed": false,
    "ExecuteTime": {
     "end_time": "2023-09-24T19:34:07.786036180Z",
     "start_time": "2023-09-24T19:34:07.715837846Z"
    }
   },
   "id": "9d5184d679b6660f"
  },
  {
   "cell_type": "code",
   "execution_count": 22,
   "outputs": [
    {
     "name": "stdout",
     "output_type": "stream",
     "text": [
      "     timestamp  host_id    powerTotal\n",
      "33      1000.0       33  7.149678e+06\n",
      "67      2000.0       33  1.428731e+07\n",
      "101     3000.0       33  2.142049e+07\n",
      "135     4000.0       33  2.823651e+07\n",
      "169     5000.0       33  3.593509e+07\n",
      "203     6000.0       33  4.346044e+07\n",
      "237     7000.0       33  5.088945e+07\n",
      "271     8000.0       33  5.859287e+07\n",
      "305     9000.0       33  6.603466e+07\n",
      "339    10000.0       33  7.379242e+07\n",
      "373    11000.0       33  8.145278e+07\n",
      "407    12000.0       33  8.911018e+07\n",
      "441    13000.0       33  9.672417e+07\n",
      "475    14000.0       33  1.037710e+08\n",
      "509    15000.0       33  1.108955e+08\n"
     ]
    },
    {
     "name": "stderr",
     "output_type": "stream",
     "text": [
      "/tmp/ipykernel_16173/1306925247.py:2: SettingWithCopyWarning: \n",
      "A value is trying to be set on a copy of a slice from a DataFrame.\n",
      "Try using .loc[row_indexer,col_indexer] = value instead\n",
      "\n",
      "See the caveats in the documentation: https://pandas.pydata.org/pandas-docs/stable/user_guide/indexing.html#returning-a-view-versus-a-copy\n",
      "  df_total_power_random['host_id'] = df_total_power_random['host_id']. astype(int)\n"
     ]
    }
   ],
   "source": [
    "df_total_power_random = df_random[['timestamp','host_id','powerTotal']]\n",
    "df_total_power_random['host_id'] = df_total_power_random['host_id']. astype(int)\n",
    "df_total_power_random = df_total_power_random.loc[df_total_power_random['host_id'] == 33]\n",
    "print(df_total_power_random)"
   ],
   "metadata": {
    "collapsed": false,
    "ExecuteTime": {
     "end_time": "2023-09-24T19:34:07.873437877Z",
     "start_time": "2023-09-24T19:34:07.790452349Z"
    }
   },
   "id": "5eb714008442e4ae"
  },
  {
   "cell_type": "code",
   "execution_count": 23,
   "outputs": [],
   "source": [
    "# df_total_power_minmin = df_minmin[['timestamp','host_id','powerTotal']]\n",
    "# df_total_power_minmin['host_id'] = df_total_power_minmin['host_id']. astype(int)\n",
    "# df_total_power_minmin = df_total_power_minmin.loc[df_total_power_minmin['host_id'] == 33]\n",
    "# print(df_total_power_minmin)"
   ],
   "metadata": {
    "collapsed": false,
    "ExecuteTime": {
     "end_time": "2023-09-24T19:34:07.946791370Z",
     "start_time": "2023-09-24T19:34:07.872908616Z"
    }
   },
   "id": "95416f964813cace"
  },
  {
   "cell_type": "code",
   "execution_count": 29,
   "outputs": [
    {
     "data": {
      "text/plain": "Text(0.5, 0, 'Timestamp (in s: seconds)')"
     },
     "execution_count": 29,
     "metadata": {},
     "output_type": "execute_result"
    },
    {
     "data": {
      "text/plain": "<Figure size 640x480 with 1 Axes>",
      "image/png": "[encoded data removed]"
     },
     "metadata": {},
     "output_type": "display_data"
    }
   ],
   "source": [
    "df1 = df_total_power_standard.drop(['host_id'], axis=1)\n",
    "df2 = df_total_power_heft.drop(['host_id'], axis=1)\n",
    "df3 = df_total_power_random.drop(['host_id'], axis=1)\n",
    "# df4 = df_total_power_minmin.drop(['host_id'], axis=1)\n",
    "# print(df1)\n",
    "# Create a list of all the dataframes\n",
    "dfs = [df1, df2, df3]\n",
    "\n",
    "# Create a new dataframe with all the timestamps from all the dataframes\n",
    "df_timestamps = pd.DataFrame({'timestamp': sorted(set(sum([df['timestamp'].tolist() for df in dfs], [])))})\n",
    "\n",
    "# Merge the new dataframe with all the dataframes, filling in missing values with 0\n",
    "df_merged = df_timestamps.merge(df1, how='left', on='timestamp', suffixes=('', '_x')).merge(df2, how='left', on='timestamp', suffixes=('', '_y')).merge(df3, how='left', on='timestamp', suffixes=('', '_z')).fillna(0)\n",
    "\n",
    "# Convert watts to kiloWatt-hours\n",
    "df_merged[\"powerTotal\"] = df_merged[\"powerTotal\"]/(1000*3600)\n",
    "df_merged[\"powerTotal_y\"] = df_merged[\"powerTotal_y\"]/(1000*3600)\n",
    "df_merged[\"powerTotal_z\"] = df_merged[\"powerTotal_z\"]/(1000*3600)\n",
    "# df_merged[\"powerTotal_w\"] = df_merged[\"powerTotal_w\"]/1000000\n",
    "df_merged.rename(columns={'powerTotal': 'Standard-Algorithm', 'powerTotal_y': 'HEFT-Algorithm', 'powerTotal_z': 'Random-Algorithm'}, inplace=True) #, 'powerTotal_w': 'MinMin-Algorithm'\n",
    "df_merged['timestamp'] = df_merged['timestamp'].astype(int)\n",
    "# Create a bar plot of the merged dataframe, grouped by timestamp\n",
    "# df_merged.groupby('timestamp').plot(x='timestamp', y=['powerTotal', 'powerTotal_y', 'powerTotal_z', 'powerTotal_w'], kind='bar', bar_label=True)\n",
    "# plt.figure(figsize=(10, 6))\n",
    "# # df_merged.plot(x='timestamp', y=['powerTotal', 'powerTotal_y', 'powerTotal_z', 'powerTotal_w'], kind='bar', stacked=True)\n",
    "# plt.xlabel('Timestamp')\n",
    "# plt.ylabel('Value')\n",
    "# plt.title('Bar plot of 4 dataframes with different row counts')\n",
    "# plt.xticks(rotation=45)\n",
    "# plt.legend(title='Dataframes')\n",
    "# plt.tight_layout()\n",
    "# plt.show()\n",
    "fig, ax = plt.subplots()\n",
    "df_merged.plot.bar(x='timestamp', ax=ax, title='Power consumption with various scheduling algorithms\\n for a given workload trace')\n",
    "plt.gca().xaxis.set_tick_params(rotation=45)\n",
    "plt.ylabel('Total power consumption (in kWh: kiloWatt-Hours)')\n",
    "plt.xlabel('Timestamp (in s: seconds)')"
   ],
   "metadata": {
    "collapsed": false,
    "ExecuteTime": {
     "end_time": "2023-09-24T19:53:43.727948143Z",
     "start_time": "2023-09-24T19:53:43.318106075Z"
    }
   },
   "id": "918114e71ff815b6"
  },
  {
   "cell_type": "code",
   "execution_count": 30,
   "outputs": [
    {
     "name": "stdout",
     "output_type": "stream",
     "text": [
      "    timestamp  Standard-Algorithm  HEFT-Algorithm  Random-Algorithm\n",
      "0        1000            2.308159        2.308159          1.986022\n",
      "1        2000            4.472349        4.472349          3.968699\n",
      "2        3000            6.715674        6.715674          5.950135\n",
      "3        4000            8.812087        8.812087          7.843476\n",
      "4        5000           11.163364       11.163364          9.981969\n",
      "5        6000           13.310040       13.310040         12.072345\n",
      "6        7000           15.504296       15.503505         14.135957\n",
      "7        8000           17.761699       17.686512         16.275796\n",
      "8        9000           19.957966       19.931640         18.342962\n",
      "9       10000           21.847236       21.876552         20.497895\n",
      "10      11000           23.818116        0.000000         22.625771\n",
      "11      12000            0.000000        0.000000         24.752827\n",
      "12      13000            0.000000        0.000000         26.867825\n",
      "13      14000            0.000000        0.000000         28.825275\n",
      "14      15000            0.000000        0.000000         30.804317\n"
     ]
    }
   ],
   "source": [
    "# df_merged[\"powerTotal\"] = df_merged[\"powerTotal\"]/(1000*3600)\n",
    "# df_merged[\"powerTotal_y\"] = df_merged[\"powerTotal_y\"]/(1000*3600)\n",
    "# df_merged[\"powerTotal_z\"] = df_merged[\"powerTotal_z\"]/(1000*3600)\n",
    "print(df_merged)"
   ],
   "metadata": {
    "collapsed": false,
    "ExecuteTime": {
     "end_time": "2023-09-24T19:55:06.939250375Z",
     "start_time": "2023-09-24T19:55:06.868331785Z"
    }
   },
   "id": "dd9256b6af1362d1"
  },
  {
   "cell_type": "code",
   "execution_count": 32,
   "outputs": [
    {
     "name": "stdout",
     "output_type": "stream",
     "text": [
      "Total energy consumption in FIFO algorithm for executing given trace - 23.81811610617527kWh\n",
      "Total energy consumption in HEFT algorithm for executing given trace - 21.87655216510753kWh\n",
      "Total energy consumption in Random algorithm for executing given trace - 30.804316938558394kWh\n"
     ]
    }
   ],
   "source": [
    "# Reverse the column and find the first non-zero value for getting total power\n",
    "last_non_zero_value_standard = df_merged[df_merged['Standard-Algorithm'] != 0]['Standard-Algorithm'].iloc[-1]\n",
    "print(f\"Total energy consumption in FIFO algorithm for executing given trace - {last_non_zero_value_standard}kWh\")\n",
    "last_non_zero_value_heft = df_merged[df_merged['HEFT-Algorithm'] != 0]['HEFT-Algorithm'].iloc[-1]\n",
    "print(f\"Total energy consumption in HEFT algorithm for executing given trace - {last_non_zero_value_heft}kWh\")\n",
    "last_non_zero_value_random = df_merged[df_merged['Random-Algorithm'] != 0]['Random-Algorithm'].iloc[-1]\n",
    "print(f\"Total energy consumption in Random algorithm for executing given trace - {last_non_zero_value_random}kWh\")"
   ],
   "metadata": {
    "collapsed": false,
    "ExecuteTime": {
     "end_time": "2023-09-24T19:59:22.521136647Z",
     "start_time": "2023-09-24T19:59:22.453899721Z"
    }
   },
   "id": "cf05cddd56d570cd"
  },
  {
   "cell_type": "code",
   "execution_count": 33,
   "outputs": [
    {
     "name": "stdout",
     "output_type": "stream",
     "text": [
      "[23.81811610617527, 21.87655216510753, 30.804316938558394]\n"
     ]
    }
   ],
   "source": [
    "total_energy_for_all_scheduling_algos = [last_non_zero_value_standard, last_non_zero_value_heft, last_non_zero_value_random]\n",
    "print(total_energy_for_all_scheduling_algos)"
   ],
   "metadata": {
    "collapsed": false,
    "ExecuteTime": {
     "end_time": "2023-09-24T20:00:50.958582939Z",
     "start_time": "2023-09-24T20:00:50.871395508Z"
    }
   },
   "id": "e178ed8f355873b7"
  },
  {
   "cell_type": "code",
   "execution_count": 45,
   "outputs": [
    {
     "name": "stdout",
     "output_type": "stream",
     "text": [
      "Resource scheduling algorithm HEFT is the most optimal amongst the three scheduling algorithms analysed above!\n",
      "----------------------------------------------------------------------------------------------------------------------------------------------\n",
      "Scheduling algorithm FIFO records 9% worse energy-efficiency than the scheduling algorithm HEFT for the given workload trace and cluster configuration.\n",
      "Scheduling algorithm Random records 41% worse energy-efficiency than the scheduling algorithm HEFT for the given workload trace and cluster configuration.\n"
     ]
    }
   ],
   "source": [
    "min_value = min(total_energy_for_all_scheduling_algos)\n",
    "dict = {0:\"FIFO\", 1:\"HEFT\", 2:\"Random\"}\n",
    "min_index = total_energy_for_all_scheduling_algos.index(min_value)\n",
    "\n",
    "# Calculate the percentage difference for each element compared to the minimum\n",
    "percentages = []\n",
    "for i, value in enumerate(total_energy_for_all_scheduling_algos):\n",
    "    if i == min_index:\n",
    "        continue  # Skip comparing the minimum value to itself\n",
    "    percentage_difference = ((value - min_value) / min_value) * 100\n",
    "    percentages.append((i, percentage_difference))\n",
    "\n",
    "# Print the results\n",
    "print(f\"Resource scheduling algorithm {dict[min_index]} is the most optimal amongst the three scheduling algorithms analysed above!\")\n",
    "print(\"----------------------------------------------------------------------------------------------------------------------------------------------\")\n",
    "for i, percentage in percentages:\n",
    "    print(f\"Scheduling algorithm {dict[i]} records {abs(percentage):.0f}% {'better' if percentage < 0 else 'worse'} energy-efficiency than the scheduling algorithm {dict[min_index]} for the given workload trace and cluster configuration.\")\n"
   ],
   "metadata": {
    "collapsed": false,
    "ExecuteTime": {
     "end_time": "2023-09-24T20:17:00.230678804Z",
     "start_time": "2023-09-24T20:17:00.216390500Z"
    }
   },
   "id": "1bbaebe2ffcfd113"
  },
  {
   "cell_type": "code",
   "execution_count": null,
   "outputs": [],
   "source": [],
   "metadata": {
    "collapsed": false
   },
   "id": "709b58304c7c1f92"
  }
 ],
 "metadata": {
  "kernelspec": {
   "display_name": "Python 3",
   "language": "python",
   "name": "python3"
  },
  "language_info": {
   "codemirror_mode": {
    "name": "ipython",
    "version": 2
   },
   "file_extension": ".py",
   "mimetype": "text/x-python",
   "name": "python",
   "nbconvert_exporter": "python",
   "pygments_lexer": "ipython2",
   "version": "2.7.6"
  }
 },
 "nbformat": 4,
 "nbformat_minor": 5
}
