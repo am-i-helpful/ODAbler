{
 "cells": [
  {
   "cell_type": "code",
   "execution_count": 17,
   "id": "initial_id",
   "metadata": {
    "collapsed": true,
    "ExecuteTime": {
     "end_time": "2023-09-25T22:50:07.950524359Z",
     "start_time": "2023-09-25T22:50:07.759763907Z"
    }
   },
   "outputs": [],
   "source": [
    "# !pip install influxdb-client"
   ]
  },
  {
   "cell_type": "code",
   "execution_count": 18,
   "outputs": [],
   "source": [
    "import influxdb_client\n",
    "import pandas as pd\n",
    "import matplotlib.pyplot as plt\n",
    "import json\n",
    "from pathlib import Path"
   ],
   "metadata": {
    "collapsed": false,
    "ExecuteTime": {
     "end_time": "2023-09-25T22:50:07.952151869Z",
     "start_time": "2023-09-25T22:50:07.801266994Z"
    }
   },
   "id": "7061e3b22c4a6107"
  },
  {
   "cell_type": "code",
   "execution_count": 19,
   "outputs": [
    {
     "name": "stdout",
     "output_type": "stream",
     "text": [
      "{'bucket': 'Temporary', 'org': '@Large-Research', 'token': 'd5KtoS1-I2iMVHiRQsVnXKV7MW7QR70Z1mqRdvqs08v-jKxEv8Q_URRHr2tl4AUwwqWHDeZNUKEtSTLjiCf-vg==', 'url': 'http://localhost:8086', 'location': 'Amsterdam'}\n"
     ]
    }
   ],
   "source": [
    "config_file = \"/windows/os/Thesis-Project/ODAbler/key-configurations/influxdb-config.json\"\n",
    "p = Path(config_file)\n",
    "with p.open('r') as f:\n",
    "    content = json.load(f)\n",
    "    print(content)\n",
    "url = content['url']\n",
    "token = content['token']\n",
    "org = content['org']\n",
    "client = influxdb_client.InfluxDBClient(\n",
    "   url=url,\n",
    "   token=token,\n",
    "   org=org\n",
    ")\n",
    "query_api = client.query_api()"
   ],
   "metadata": {
    "collapsed": false,
    "ExecuteTime": {
     "end_time": "2023-09-25T22:50:07.982870250Z",
     "start_time": "2023-09-25T22:50:07.893976924Z"
    }
   },
   "id": "327e81c9028d2a68"
  },
  {
   "cell_type": "code",
   "execution_count": 20,
   "outputs": [
    {
     "name": "stdout",
     "output_type": "stream",
     "text": [
      "      timestamp  serverId  cpuUtilisation  guestsRunning  powerUsage   \n",
      "0          30.0       0.0        0.041667            1.0  200.010851  \\\n",
      "1          30.0       1.0        0.041667            1.0  200.010851   \n",
      "2          30.0       2.0        0.041667            1.0  200.010851   \n",
      "3          30.0       3.0        0.041667            1.0  200.010851   \n",
      "4          30.0       4.0        0.000000            0.0  200.000000   \n",
      "...         ...       ...             ...            ...         ...   \n",
      "1066      630.0      46.0        0.125000            3.0  200.292969   \n",
      "1067      630.0      47.0        0.083333            2.0  200.086806   \n",
      "1068      630.0      48.0        0.083333            2.0  200.086806   \n",
      "1069      630.0      49.0        0.083333            2.0  200.086806   \n",
      "1070      630.0      50.0        0.083333            2.0  200.086806   \n",
      "\n",
      "        powerTotal  \n",
      "0     6.000305e+03  \n",
      "1     1.200054e+04  \n",
      "2     1.800071e+04  \n",
      "3     2.400081e+04  \n",
      "4     3.000090e+04  \n",
      "...            ...  \n",
      "1066  6.421580e+06  \n",
      "1067  6.427602e+06  \n",
      "1068  6.433625e+06  \n",
      "1069  6.439650e+06  \n",
      "1070  6.445675e+06  \n",
      "\n",
      "[1071 rows x 6 columns]\n"
     ]
    }
   ],
   "source": [
    "query_standard = 'from(bucket:\"FinalExperiment\")\\\n",
    "|> range(start: 2023-09-25T22:00:00Z, stop: 2023-09-25T22:15:00Z)\\\n",
    "|> filter(fn: (r) => r._measurement == \"OpenDC_Energy_Experiment\" and r._field =~ /policyId|guestsRunning|cpuUtilisation|timestamp|powerUsage|powerTotal|serverId/)\\\n",
    "|> pivot(rowKey:[\"_time\"], columnKey: [\"_field\"], valueColumn: \"_value\")\\\n",
    "|> filter(fn:(r) => r.policyId == 151)'\n",
    "result_standard = query_api.query_data_frame(org=org, query=query_standard)\n",
    "\n",
    "#display(result_standard.head(10))\n",
    "pd.set_option('display.max_columns', None)\n",
    "df_standard = result_standard[['timestamp','serverId','cpuUtilisation','guestsRunning','powerUsage','powerTotal']]\n",
    "print(df_standard)"
   ],
   "metadata": {
    "collapsed": false,
    "ExecuteTime": {
     "end_time": "2023-09-25T22:50:08.594173587Z",
     "start_time": "2023-09-25T22:50:07.969426895Z"
    }
   },
   "id": "611c3963e3ffc6dc"
  },
  {
   "cell_type": "code",
   "execution_count": 21,
   "outputs": [
    {
     "name": "stdout",
     "output_type": "stream",
     "text": [
      "      timestamp  serverId  cpuUtilisation  guestsRunning  powerUsage   \n",
      "0          30.0       0.0        0.041667            1.0  200.010851  \\\n",
      "1          30.0       1.0        0.041667            1.0  200.010851   \n",
      "2          30.0       2.0        0.041667            1.0  200.010851   \n",
      "3          30.0       3.0        0.041667            1.0  200.010851   \n",
      "4          30.0       4.0        0.000000            0.0  200.000000   \n",
      "...         ...       ...             ...            ...         ...   \n",
      "1066      630.0      46.0        0.083333            2.0  200.086806   \n",
      "1067      630.0      47.0        0.083333            2.0  200.086806   \n",
      "1068      630.0      48.0        0.083333            2.0  200.086806   \n",
      "1069      630.0      49.0        0.083333            2.0  200.086806   \n",
      "1070      630.0      50.0        0.083333            2.0  200.086806   \n",
      "\n",
      "        powerTotal  \n",
      "0     6.000305e+03  \n",
      "1     1.200054e+04  \n",
      "2     1.800071e+04  \n",
      "3     2.400081e+04  \n",
      "4     3.000090e+04  \n",
      "...            ...  \n",
      "1066  6.421593e+06  \n",
      "1067  6.427617e+06  \n",
      "1068  6.433642e+06  \n",
      "1069  6.439667e+06  \n",
      "1070  6.445690e+06  \n",
      "\n",
      "[1071 rows x 6 columns]\n"
     ]
    }
   ],
   "source": [
    "query_heft = 'from(bucket:\"FinalExperiment\")\\\n",
    "|> range(start: 2023-09-25T22:00:00Z, stop: 2023-09-25T22:15:00Z)\\\n",
    "|> filter(fn: (r) => r._measurement == \"OpenDC_Energy_Experiment\" and r._field =~ /policyId|guestsRunning|cpuUtilisation|timestamp|powerUsage|powerTotal|serverId/)\\\n",
    "|> pivot(rowKey:[\"_time\"], columnKey: [\"_field\"], valueColumn: \"_value\")\\\n",
    "|> filter(fn:(r) => r.policyId == 152)'\n",
    "result_heft = query_api.query_data_frame(org=org, query=query_heft)\n",
    "\n",
    "df_heft = result_heft[['timestamp','serverId','cpuUtilisation','guestsRunning','powerUsage','powerTotal']]\n",
    "print(df_heft)"
   ],
   "metadata": {
    "collapsed": false,
    "ExecuteTime": {
     "end_time": "2023-09-25T22:50:09.223829330Z",
     "start_time": "2023-09-25T22:50:08.596280339Z"
    }
   },
   "id": "3b46a2557b60c693"
  },
  {
   "cell_type": "code",
   "execution_count": 22,
   "outputs": [
    {
     "name": "stdout",
     "output_type": "stream",
     "text": [
      "      timestamp  serverId  cpuUtilisation  guestsRunning  powerUsage   \n",
      "0          30.0       0.0        0.041667            1.0  200.010851  \\\n",
      "1          30.0       1.0        0.041667            1.0  200.010851   \n",
      "2          30.0       2.0        0.041667            1.0  200.010851   \n",
      "3          30.0       3.0        0.041667            1.0  200.010851   \n",
      "4          30.0       4.0        0.041667            1.0  200.010851   \n",
      "...         ...       ...             ...            ...         ...   \n",
      "1066      630.0      46.0        0.083333            2.0  200.086806   \n",
      "1067      630.0      47.0        0.125000            3.0  200.292969   \n",
      "1068      630.0      48.0        0.125000            3.0  200.292969   \n",
      "1069      630.0      49.0        0.083333            2.0  200.086806   \n",
      "1070      630.0      50.0        0.041667            1.0  200.010851   \n",
      "\n",
      "        powerTotal  \n",
      "0     6.000305e+03  \n",
      "1     1.200054e+04  \n",
      "2     1.800071e+04  \n",
      "3     2.400082e+04  \n",
      "4     3.000094e+04  \n",
      "...            ...  \n",
      "1066  6.421599e+06  \n",
      "1067  6.427623e+06  \n",
      "1068  6.433648e+06  \n",
      "1069  6.439672e+06  \n",
      "1070  6.445696e+06  \n",
      "\n",
      "[1071 rows x 6 columns]\n"
     ]
    }
   ],
   "source": [
    "query_random = 'from(bucket:\"FinalExperiment\")\\\n",
    "|> range(start: 2023-09-25T22:00:00Z, stop: 2023-09-25T22:15:00Z)\\\n",
    "|> filter(fn: (r) => r._measurement == \"OpenDC_Energy_Experiment\" and r._field =~ /policyId|guestsRunning|cpuUtilisation|timestamp|powerUsage|powerTotal|serverId/)\\\n",
    "|> pivot(rowKey:[\"_time\"], columnKey: [\"_field\"], valueColumn: \"_value\")\\\n",
    "|> filter(fn:(r) => r.policyId == 153)'\n",
    "result_random = query_api.query_data_frame(org=org, query=query_random)\n",
    "\n",
    "df_random = result_random[['timestamp','serverId','cpuUtilisation','guestsRunning','powerUsage','powerTotal']]\n",
    "print(df_random)"
   ],
   "metadata": {
    "collapsed": false,
    "ExecuteTime": {
     "end_time": "2023-09-25T22:50:09.630223768Z",
     "start_time": "2023-09-25T22:50:09.215012276Z"
    }
   },
   "id": "89e5af9130005a08"
  },
  {
   "cell_type": "code",
   "execution_count": 23,
   "outputs": [],
   "source": [
    "# query_minmin = 'from(bucket:\"Experiment\")\\\n",
    "# |> range(start: 2023-09-18T22:20:00Z, stop: 2023-09-18T22:34:00Z)\\\n",
    "# |> filter(fn: (r) => r._measurement == \"OpenDC_Energy_Experiment\" and r._field =~ /policy_id|guestsRunning|cpuUtilisation|timestamp|powerUsage|powerTotal|host_id/)\\\n",
    "# |> pivot(rowKey:[\"_time\"], columnKey: [\"_field\"], valueColumn: \"_value\")\\\n",
    "# |> filter(fn:(r) => r.policy_id == 4)'\n",
    "# result_minmin = query_api.query_data_frame(org=org, query=query_minmin)\n",
    "# \n",
    "# df_minmin = result_minmin[['timestamp','host_id','cpuUtilisation','guestsRunning','powerUsage','powerTotal']]\n",
    "# print(df_minmin)"
   ],
   "metadata": {
    "collapsed": false,
    "ExecuteTime": {
     "end_time": "2023-09-25T22:50:09.643644179Z",
     "start_time": "2023-09-25T22:50:09.631328608Z"
    }
   },
   "id": "aff1024d1a8e3d54"
  },
  {
   "cell_type": "code",
   "execution_count": 24,
   "outputs": [
    {
     "name": "stdout",
     "output_type": "stream",
     "text": [
      "      timestamp  serverId    powerTotal\n",
      "50         30.0        50  3.060013e+05\n",
      "101        60.0        50  6.121987e+05\n",
      "152        90.0        50  9.197556e+05\n",
      "203       120.0        50  1.226103e+06\n",
      "254       150.0        50  1.533743e+06\n",
      "305       180.0        50  1.840112e+06\n",
      "356       210.0        50  2.147774e+06\n",
      "407       240.0        50  2.454106e+06\n",
      "458       270.0        50  2.761792e+06\n",
      "509       300.0        50  3.068153e+06\n",
      "560       330.0        50  3.375823e+06\n",
      "611       360.0        50  3.682139e+06\n",
      "662       390.0        50  3.989730e+06\n",
      "713       420.0        50  4.296085e+06\n",
      "764       450.0        50  4.603748e+06\n",
      "815       480.0        50  4.910051e+06\n",
      "866       510.0        50  5.217640e+06\n",
      "917       540.0        50  5.523990e+06\n",
      "968       570.0        50  5.831667e+06\n",
      "1019      600.0        50  6.137985e+06\n",
      "1070      630.0        50  6.445675e+06\n"
     ]
    },
    {
     "name": "stderr",
     "output_type": "stream",
     "text": [
      "/tmp/ipykernel_25695/3045806056.py:2: SettingWithCopyWarning: \n",
      "A value is trying to be set on a copy of a slice from a DataFrame.\n",
      "Try using .loc[row_indexer,col_indexer] = value instead\n",
      "\n",
      "See the caveats in the documentation: https://pandas.pydata.org/pandas-docs/stable/user_guide/indexing.html#returning-a-view-versus-a-copy\n",
      "  df_total_power_standard['serverId'] = df_total_power_standard['serverId']. astype(int)\n"
     ]
    }
   ],
   "source": [
    "df_total_power_standard = df_standard[['timestamp','serverId','powerTotal']]\n",
    "df_total_power_standard['serverId'] = df_total_power_standard['serverId']. astype(int)\n",
    "df_total_power_standard = df_total_power_standard.loc[df_total_power_standard['serverId'] == 50]\n",
    "print(df_total_power_standard)"
   ],
   "metadata": {
    "collapsed": false,
    "ExecuteTime": {
     "end_time": "2023-09-25T22:50:09.736575372Z",
     "start_time": "2023-09-25T22:50:09.635634069Z"
    }
   },
   "id": "48c4d8df7df1c9d6"
  },
  {
   "cell_type": "code",
   "execution_count": 25,
   "outputs": [
    {
     "name": "stdout",
     "output_type": "stream",
     "text": [
      "      timestamp  serverId    powerTotal\n",
      "50         30.0        50  3.060013e+05\n",
      "101        60.0        50  6.121987e+05\n",
      "152        90.0        50  9.197568e+05\n",
      "203       120.0        50  1.226103e+06\n",
      "254       150.0        50  1.533743e+06\n",
      "305       180.0        50  1.840114e+06\n",
      "356       210.0        50  2.147772e+06\n",
      "407       240.0        50  2.454105e+06\n",
      "458       270.0        50  2.761795e+06\n",
      "509       300.0        50  3.068158e+06\n",
      "560       330.0        50  3.375826e+06\n",
      "611       360.0        50  3.682143e+06\n",
      "662       390.0        50  3.989732e+06\n",
      "713       420.0        50  4.296086e+06\n",
      "764       450.0        50  4.603759e+06\n",
      "815       480.0        50  4.910063e+06\n",
      "866       510.0        50  5.217651e+06\n",
      "917       540.0        50  5.524002e+06\n",
      "968       570.0        50  5.831683e+06\n",
      "1019      600.0        50  6.137999e+06\n",
      "1070      630.0        50  6.445690e+06\n"
     ]
    },
    {
     "name": "stderr",
     "output_type": "stream",
     "text": [
      "/tmp/ipykernel_25695/4099335833.py:2: SettingWithCopyWarning: \n",
      "A value is trying to be set on a copy of a slice from a DataFrame.\n",
      "Try using .loc[row_indexer,col_indexer] = value instead\n",
      "\n",
      "See the caveats in the documentation: https://pandas.pydata.org/pandas-docs/stable/user_guide/indexing.html#returning-a-view-versus-a-copy\n",
      "  df_total_power_heft['serverId'] = df_total_power_heft['serverId']. astype(int)\n"
     ]
    }
   ],
   "source": [
    "df_total_power_heft = df_heft[['timestamp','serverId','powerTotal']]\n",
    "df_total_power_heft['serverId'] = df_total_power_heft['serverId']. astype(int)\n",
    "df_total_power_heft = df_total_power_heft.loc[df_total_power_heft['serverId'] == 50]\n",
    "print(df_total_power_heft)"
   ],
   "metadata": {
    "collapsed": false,
    "ExecuteTime": {
     "end_time": "2023-09-25T22:50:09.876942603Z",
     "start_time": "2023-09-25T22:50:09.738156199Z"
    }
   },
   "id": "9d5184d679b6660f"
  },
  {
   "cell_type": "code",
   "execution_count": 26,
   "outputs": [
    {
     "name": "stdout",
     "output_type": "stream",
     "text": [
      "      timestamp  serverId    powerTotal\n",
      "50         30.0        50  3.060013e+05\n",
      "101        60.0        50  6.121991e+05\n",
      "152        90.0        50  9.197578e+05\n",
      "203       120.0        50  1.226103e+06\n",
      "254       150.0        50  1.533745e+06\n",
      "305       180.0        50  1.840116e+06\n",
      "356       210.0        50  2.147773e+06\n",
      "407       240.0        50  2.454106e+06\n",
      "458       270.0        50  2.761802e+06\n",
      "509       300.0        50  3.068166e+06\n",
      "560       330.0        50  3.375836e+06\n",
      "611       360.0        50  3.682152e+06\n",
      "662       390.0        50  3.989743e+06\n",
      "713       420.0        50  4.296098e+06\n",
      "764       450.0        50  4.603765e+06\n",
      "815       480.0        50  4.910071e+06\n",
      "866       510.0        50  5.217657e+06\n",
      "917       540.0        50  5.524007e+06\n",
      "968       570.0        50  5.831688e+06\n",
      "1019      600.0        50  6.138005e+06\n",
      "1070      630.0        50  6.445696e+06\n"
     ]
    },
    {
     "name": "stderr",
     "output_type": "stream",
     "text": [
      "/tmp/ipykernel_25695/713471063.py:2: SettingWithCopyWarning: \n",
      "A value is trying to be set on a copy of a slice from a DataFrame.\n",
      "Try using .loc[row_indexer,col_indexer] = value instead\n",
      "\n",
      "See the caveats in the documentation: https://pandas.pydata.org/pandas-docs/stable/user_guide/indexing.html#returning-a-view-versus-a-copy\n",
      "  df_total_power_random['serverId'] = df_total_power_random['serverId']. astype(int)\n"
     ]
    }
   ],
   "source": [
    "df_total_power_random = df_random[['timestamp','serverId','powerTotal']]\n",
    "df_total_power_random['serverId'] = df_total_power_random['serverId']. astype(int)\n",
    "df_total_power_random = df_total_power_random.loc[df_total_power_random['serverId'] == 50]\n",
    "print(df_total_power_random)"
   ],
   "metadata": {
    "collapsed": false,
    "ExecuteTime": {
     "end_time": "2023-09-25T22:50:10.045216541Z",
     "start_time": "2023-09-25T22:50:09.877266418Z"
    }
   },
   "id": "5eb714008442e4ae"
  },
  {
   "cell_type": "code",
   "execution_count": 27,
   "outputs": [],
   "source": [
    "# df_total_power_minmin = df_minmin[['timestamp','host_id','powerTotal']]\n",
    "# df_total_power_minmin['host_id'] = df_total_power_minmin['host_id']. astype(int)\n",
    "# df_total_power_minmin = df_total_power_minmin.loc[df_total_power_minmin['host_id'] == 33]\n",
    "# print(df_total_power_minmin)"
   ],
   "metadata": {
    "collapsed": false,
    "ExecuteTime": {
     "end_time": "2023-09-25T22:50:10.077764268Z",
     "start_time": "2023-09-25T22:50:10.015314662Z"
    }
   },
   "id": "95416f964813cace"
  },
  {
   "cell_type": "code",
   "execution_count": 28,
   "outputs": [
    {
     "data": {
      "text/plain": "<Figure size 1050x750 with 1 Axes>",
      "image/png": "[encoded data removed]"
     },
     "metadata": {},
     "output_type": "display_data"
    }
   ],
   "source": [
    "df1 = df_total_power_standard.drop(['serverId'], axis=1)\n",
    "df2 = df_total_power_heft.drop(['serverId'], axis=1)\n",
    "df3 = df_total_power_random.drop(['serverId'], axis=1)\n",
    "# df4 = df_total_power_minmin.drop(['host_id'], axis=1)\n",
    "# print(df1)\n",
    "# Create a list of all the dataframes\n",
    "dfs = [df1, df2, df3]\n",
    "\n",
    "# Create a new dataframe with all the timestamps from all the dataframes\n",
    "df_timestamps = pd.DataFrame({'timestamp': sorted(set(sum([df['timestamp'].tolist() for df in dfs], [])))})\n",
    "\n",
    "# Merge the new dataframe with all the dataframes, filling in missing values with 0\n",
    "df_merged = df_timestamps.merge(df1, how='left', on='timestamp', suffixes=('', '_x')).merge(df2, how='left', on='timestamp', suffixes=('', '_y')).merge(df3, how='left', on='timestamp', suffixes=('', '_z')).fillna(0)\n",
    "\n",
    "# Convert watts to kiloWatt-hours\n",
    "df_merged[\"powerTotal\"] = df_merged[\"powerTotal\"]/(1000*3600)\n",
    "df_merged[\"powerTotal_y\"] = df_merged[\"powerTotal_y\"]/(1000*3600)\n",
    "df_merged[\"powerTotal_z\"] = df_merged[\"powerTotal_z\"]/(1000*3600)\n",
    "# df_merged[\"powerTotal_w\"] = df_merged[\"powerTotal_w\"]/1000000\n",
    "df_merged.rename(columns={'powerTotal': 'FIFO-Algorithm', 'powerTotal_y': 'HEFT-Algorithm', 'powerTotal_z': 'Random-Algorithm'}, inplace=True) #, 'powerTotal_w': 'MinMin-Algorithm'\n",
    "df_merged['timestamp'] = df_merged['timestamp'].astype(int)\n",
    "\n",
    "# print(df_merged)\n",
    "# Create a bar plot of the merged dataframe, grouped by timestamp\n",
    "fig, ax = plt.subplots()\n",
    "df_merged.plot.bar(x='timestamp', ax=ax, title='Power consumption with various scheduling algorithms for shell trace\\n with 150% cluster-size configuration', width=.75)\n",
    "plt.gca().xaxis.set_tick_params(rotation=45)\n",
    "plt.ylabel('Total power consumption (in kWh: kiloWatt-Hours)')\n",
    "plt.xlabel('Timestamp (in s: seconds)')\n",
    "fig.set_size_inches(10.5, 7.5)\n",
    "fig.savefig('multiple_hosts_energy_plotted_trace_shell_150.png', bbox_inches='tight')\n",
    "plt.show()"
   ],
   "metadata": {
    "collapsed": false,
    "ExecuteTime": {
     "end_time": "2023-09-25T22:50:10.824598899Z",
     "start_time": "2023-09-25T22:50:10.057308801Z"
    }
   },
   "id": "918114e71ff815b6"
  },
  {
   "cell_type": "code",
   "execution_count": 29,
   "outputs": [
    {
     "name": "stdout",
     "output_type": "stream",
     "text": [
      "    timestamp  FIFO-Algorithm  HEFT-Algorithm  Random-Algorithm\n",
      "0          30        0.085000        0.085000          0.085000\n",
      "1          60        0.170055        0.170055          0.170055\n",
      "2          90        0.255488        0.255488          0.255488\n",
      "3         120        0.340584        0.340584          0.340584\n",
      "4         150        0.426040        0.426040          0.426040\n",
      "5         180        0.511142        0.511143          0.511143\n",
      "6         210        0.596604        0.596603          0.596604\n",
      "7         240        0.681696        0.681696          0.681696\n",
      "8         270        0.767164        0.767165          0.767167\n",
      "9         300        0.852265        0.852266          0.852268\n",
      "10        330        0.937729        0.937729          0.937732\n",
      "11        360        1.022816        1.022817          1.022820\n",
      "12        390        1.108258        1.108259          1.108262\n",
      "13        420        1.193357        1.193357          1.193361\n",
      "14        450        1.278819        1.278822          1.278824\n",
      "15        480        1.363903        1.363906          1.363908\n",
      "16        510        1.449345        1.449347          1.449349\n",
      "17        540        1.534442        1.534445          1.534446\n",
      "18        570        1.619907        1.619912          1.619913\n",
      "19        600        1.704996        1.705000          1.705001\n",
      "20        630        1.790465        1.790469          1.790471\n"
     ]
    }
   ],
   "source": [
    "# df_merged[\"powerTotal\"] = df_merged[\"powerTotal\"]/(1000*3600)\n",
    "# df_merged[\"powerTotal_y\"] = df_merged[\"powerTotal_y\"]/(1000*3600)\n",
    "# df_merged[\"powerTotal_z\"] = df_merged[\"powerTotal_z\"]/(1000*3600)\n",
    "print(df_merged)"
   ],
   "metadata": {
    "collapsed": false,
    "ExecuteTime": {
     "end_time": "2023-09-25T22:50:10.838778727Z",
     "start_time": "2023-09-25T22:50:10.828140382Z"
    }
   },
   "id": "dd9256b6af1362d1"
  },
  {
   "cell_type": "code",
   "execution_count": 30,
   "outputs": [
    {
     "name": "stdout",
     "output_type": "stream",
     "text": [
      "Total energy consumption in FIFO algorithm for executing given trace - 1.7904653208532995 kWh\n",
      "Total energy consumption in HEFT algorithm for executing given trace - 1.7904694181566845 kWh\n",
      "Total energy consumption in Random algorithm for executing given trace - 1.7904711018451998 kWh\n"
     ]
    }
   ],
   "source": [
    "# Reverse the column and find the first non-zero value for getting total power\n",
    "last_non_zero_value_standard = df_merged[df_merged['FIFO-Algorithm'] != 0]['FIFO-Algorithm'].iloc[-1]\n",
    "print(f\"Total energy consumption in FIFO algorithm for executing given trace - {last_non_zero_value_standard} kWh\")\n",
    "last_non_zero_value_heft = df_merged[df_merged['HEFT-Algorithm'] != 0]['HEFT-Algorithm'].iloc[-1]\n",
    "print(f\"Total energy consumption in HEFT algorithm for executing given trace - {last_non_zero_value_heft} kWh\")\n",
    "last_non_zero_value_random = df_merged[df_merged['Random-Algorithm'] != 0]['Random-Algorithm'].iloc[-1]\n",
    "print(f\"Total energy consumption in Random algorithm for executing given trace - {last_non_zero_value_random} kWh\")"
   ],
   "metadata": {
    "collapsed": false,
    "ExecuteTime": {
     "end_time": "2023-09-25T22:50:10.981648489Z",
     "start_time": "2023-09-25T22:50:10.833257098Z"
    }
   },
   "id": "cf05cddd56d570cd"
  },
  {
   "cell_type": "code",
   "execution_count": 31,
   "outputs": [
    {
     "name": "stdout",
     "output_type": "stream",
     "text": [
      "[1.7904653208532995, 1.7904694181566845, 1.7904711018451998]\n"
     ]
    }
   ],
   "source": [
    "total_energy_for_all_scheduling_algos = [last_non_zero_value_standard, last_non_zero_value_heft, last_non_zero_value_random]\n",
    "print(total_energy_for_all_scheduling_algos)"
   ],
   "metadata": {
    "collapsed": false,
    "ExecuteTime": {
     "end_time": "2023-09-25T22:50:11.027250291Z",
     "start_time": "2023-09-25T22:50:10.933078595Z"
    }
   },
   "id": "e178ed8f355873b7"
  },
  {
   "cell_type": "code",
   "execution_count": 32,
   "outputs": [
    {
     "name": "stdout",
     "output_type": "stream",
     "text": [
      "Resource scheduling algorithm FIFO is the most optimal amongst the three scheduling algorithms analysed above!\n",
      "----------------------------------------------------------------------------------------------------------------------------------------------\n",
      "Scheduling algorithm HEFT records 0.00023% worse energy-efficiency than the scheduling algorithm FIFO for shell workload trace and 150% cluster-size configuration.\n",
      "Scheduling algorithm Random records 0.00032% worse energy-efficiency than the scheduling algorithm FIFO for shell workload trace and 150% cluster-size configuration.\n"
     ]
    }
   ],
   "source": [
    "min_value = min(total_energy_for_all_scheduling_algos)\n",
    "dict = {0:\"FIFO\", 1:\"HEFT\", 2:\"Random\"}\n",
    "min_index = total_energy_for_all_scheduling_algos.index(min_value)\n",
    "\n",
    "# Calculate the percentage difference for each element compared to the minimum\n",
    "percentages = []\n",
    "for i, value in enumerate(total_energy_for_all_scheduling_algos):\n",
    "    if i == min_index:\n",
    "        continue  # Skip comparing the minimum value to itself\n",
    "    percentage_difference = ((value - min_value) / min_value) * 100\n",
    "    percentages.append((i, percentage_difference))\n",
    "\n",
    "# Print the results\n",
    "print(f\"Resource scheduling algorithm {dict[min_index]} is the most optimal amongst the three scheduling algorithms analysed above!\")\n",
    "print(\"----------------------------------------------------------------------------------------------------------------------------------------------\")\n",
    "for i, percentage in percentages:\n",
    "    print(f\"Scheduling algorithm {dict[i]} records {abs(percentage):.5f}% {'better' if percentage < 0 else 'worse'} energy-efficiency than the scheduling algorithm {dict[min_index]} for shell workload trace and 150% cluster-size configuration.\")\n"
   ],
   "metadata": {
    "collapsed": false,
    "ExecuteTime": {
     "end_time": "2023-09-25T22:50:11.114084882Z",
     "start_time": "2023-09-25T22:50:10.998731841Z"
    }
   },
   "id": "1bbaebe2ffcfd113"
  },
  {
   "cell_type": "code",
   "execution_count": 32,
   "outputs": [],
   "source": [],
   "metadata": {
    "collapsed": false,
    "ExecuteTime": {
     "end_time": "2023-09-25T22:50:11.114471387Z",
     "start_time": "2023-09-25T22:50:11.081335975Z"
    }
   },
   "id": "709b58304c7c1f92"
  }
 ],
 "metadata": {
  "kernelspec": {
   "display_name": "Python 3",
   "language": "python",
   "name": "python3"
  },
  "language_info": {
   "codemirror_mode": {
    "name": "ipython",
    "version": 2
   },
   "file_extension": ".py",
   "mimetype": "text/x-python",
   "name": "python",
   "nbconvert_exporter": "python",
   "pygments_lexer": "ipython2",
   "version": "2.7.6"
  }
 },
 "nbformat": 4,
 "nbformat_minor": 5
}
